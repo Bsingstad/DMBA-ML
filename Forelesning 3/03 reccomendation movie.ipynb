{
 "cells": [
  {
   "cell_type": "code",
   "execution_count": null,
   "id": "519bde22",
   "metadata": {},
   "outputs": [],
   "source": [
    "from sklearn.datasets import make_blobs \n",
    "from sklearn.cluster import KMeans \n",
    "from sklearn.model_selection import  train_test_split\n",
    "import seaborn as sns\n",
    "import numpy as np\n",
    "import pandas as pd\n",
    "import matplotlib.pyplot as plt\n",
    "from IPython.display import clear_output\n",
    "import time"
   ]
  },
  {
   "cell_type": "code",
   "execution_count": null,
   "id": "fc0265c2",
   "metadata": {},
   "outputs": [],
   "source": [
    "K = np.random.randint(1,15)"
   ]
  },
  {
   "cell_type": "code",
   "execution_count": null,
   "id": "967833e8",
   "metadata": {},
   "outputs": [],
   "source": [
    "# generate synthetic two-dimensional data \n",
    "X, y = make_blobs(n_samples = 1000, centers=K, random_state=1) # build the clustering model "
   ]
  },
  {
   "cell_type": "code",
   "execution_count": null,
   "id": "a28c2ad8",
   "metadata": {},
   "outputs": [],
   "source": [
    "X.shape"
   ]
  },
  {
   "cell_type": "code",
   "execution_count": null,
   "id": "c287d35c",
   "metadata": {},
   "outputs": [],
   "source": [
    "X_train, X_test, y_train, y_test = train_test_split(X,y,random_state=42)"
   ]
  },
  {
   "cell_type": "code",
   "execution_count": null,
   "id": "0f9f3ca8",
   "metadata": {},
   "outputs": [],
   "source": [
    "sns.scatterplot(pd.DataFrame(X_train, columns=[\"x\",\"y\"]),x=\"x\",y=\"y\")\n",
    "plt.show()"
   ]
  },
  {
   "cell_type": "code",
   "execution_count": null,
   "id": "91c54bf3",
   "metadata": {},
   "outputs": [],
   "source": [
    "from sklearn.cluster import KMeans\n",
    "elbow = [] \n",
    "for i in range(1, 15): \n",
    "    kmeans = KMeans(n_clusters = i, init = 'k-means++', random_state = 42)\n",
    "    kmeans.fit(X) \n",
    "    elbow.append(kmeans.inertia_)"
   ]
  },
  {
   "cell_type": "code",
   "execution_count": null,
   "id": "34729265",
   "metadata": {},
   "outputs": [],
   "source": [
    "plt.gca()\n",
    "plt.figure()\n",
    "plt.plot(elbow)\n",
    "plt.xticks(np.arange(0,14),np.arange(1,15))\n",
    "plt.show()"
   ]
  },
  {
   "cell_type": "code",
   "execution_count": null,
   "id": "242afa01",
   "metadata": {},
   "outputs": [],
   "source": [
    "kmeans = KMeans(n_clusters=6, init='k-means++')\n",
    "kmeans.fit(X_train)"
   ]
  },
  {
   "cell_type": "code",
   "execution_count": null,
   "id": "ce9c7935",
   "metadata": {},
   "outputs": [],
   "source": [
    " kmeans.predict([[1,1]])"
   ]
  },
  {
   "cell_type": "code",
   "execution_count": null,
   "id": "d215012d",
   "metadata": {},
   "outputs": [],
   "source": [
    "y_train_hat = kmeans.predict(X_train)"
   ]
  },
  {
   "cell_type": "code",
   "execution_count": null,
   "id": "a9df717b",
   "metadata": {},
   "outputs": [],
   "source": [
    "df_concat = pd.DataFrame(np.hstack([X_train,np.expand_dims(y_train_hat,axis=1)]), columns=[\"x\",\"y\",\"class\"])"
   ]
  },
  {
   "cell_type": "code",
   "execution_count": null,
   "id": "1a37016c",
   "metadata": {},
   "outputs": [],
   "source": [
    "plt.figure()\n",
    "for i in sorted(df_concat[\"class\"].unique().astype(int)):\n",
    "    plt.scatter(x=df_concat[df_concat[\"class\"]==i].iloc[:,0], y=df_concat[df_concat[\"class\"]==i].iloc[:,1], color=\"C{}\".format(i), label=\"class {}\".format(i))\n",
    "plt.legend()"
   ]
  },
  {
   "cell_type": "code",
   "execution_count": null,
   "id": "8ca41b45",
   "metadata": {},
   "outputs": [],
   "source": [
    "%matplotlib notebook\n",
    "\n",
    "figure, ax = plt.subplots(figsize=(7,5))\n",
    "plt.ion()\n",
    "\n",
    "\n",
    "for i in sorted(df_concat[\"class\"].unique().astype(int)):\n",
    "    ax.scatter(x=df_concat[df_concat[\"class\"]==i].iloc[:,0], y=df_concat[df_concat[\"class\"]==i].iloc[:,1], color=\"C{}\".format(i), label=\"class {}\".format(i), alpha=0.5)\n",
    "\n",
    "\n",
    "plt.xlabel(\"X-Axis\",fontsize=14)\n",
    "plt.ylabel(\"Y-Axis\",fontsize=14)\n",
    "plt.legend()\n",
    "\n",
    "for j in X_test:\n",
    "\n",
    "    plt.scatter(x=j[0],y=j[1], color=\"C{}\".format(kmeans.predict(np.expand_dims(j,0))[0]))\n",
    "    figure.canvas.draw()\n",
    "    figure.canvas.flush_events()\n",
    "    #time.sleep(0.1)\n",
    "    "
   ]
  },
  {
   "cell_type": "code",
   "execution_count": null,
   "id": "9e63c5b2",
   "metadata": {},
   "outputs": [],
   "source": []
  },
  {
   "cell_type": "code",
   "execution_count": null,
   "id": "859e592c",
   "metadata": {},
   "outputs": [],
   "source": []
  }
 ],
 "metadata": {
  "kernelspec": {
   "display_name": "Python 3 (ipykernel)",
   "language": "python",
   "name": "python3"
  },
  "language_info": {
   "codemirror_mode": {
    "name": "ipython",
    "version": 3
   },
   "file_extension": ".py",
   "mimetype": "text/x-python",
   "name": "python",
   "nbconvert_exporter": "python",
   "pygments_lexer": "ipython3",
   "version": "3.8.5"
  }
 },
 "nbformat": 4,
 "nbformat_minor": 5
}
