{
 "cells": [
  {
   "cell_type": "markdown",
   "id": "bf1138c7",
   "metadata": {},
   "source": [
    "# Obligatorisk innlevering 2 - oppgave 2"
   ]
  },
  {
   "cell_type": "markdown",
   "id": "e8d8e9f7",
   "metadata": {},
   "source": [
    "I denne oppgaven skal vi forsøke å forutsi oppsigelser ved en arbeidsplass basert på en rekke variabler som f.eks alder, kjønn, utdannelse, lønn, osv."
   ]
  },
  {
   "cell_type": "code",
   "execution_count": 1,
   "id": "05baf6b1",
   "metadata": {},
   "outputs": [],
   "source": [
    "import pandas as pd\n",
    "from sklearn.model_selection import train_test_split"
   ]
  },
  {
   "cell_type": "code",
   "execution_count": 2,
   "id": "768f6d65",
   "metadata": {},
   "outputs": [],
   "source": [
    "# I denne oppgaven skal dere bruke følgende datasett:\n",
    "df = pd.read_csv(\"./datasett2.csv\")"
   ]
  },
  {
   "cell_type": "markdown",
   "id": "9aa8ce4d",
   "metadata": {},
   "source": [
    "### Preprosessering:\n",
    "For å forenkle håndteringen av kategoriske data har jeg her skrevet noe kode som gjør om strenger til intergers\n",
    "\n",
    "Følgende kolonner er formatert som *object* og inneholder kategoriske variabler i form av strenger"
   ]
  },
  {
   "cell_type": "code",
   "execution_count": 3,
   "id": "46c64c03",
   "metadata": {},
   "outputs": [
    {
     "name": "stdout",
     "output_type": "stream",
     "text": [
      "Index(['BusinessTravel', 'Department', 'EducationField', 'Gender', 'JobRole',\n",
      "       'MaritalStatus', 'Over18', 'OverTime'],\n",
      "      dtype='object')\n"
     ]
    }
   ],
   "source": [
    "kolonner_obj = df.select_dtypes(include=['object']).columns\n",
    "print(kolonner_obj)"
   ]
  },
  {
   "cell_type": "markdown",
   "id": "dc187ed1",
   "metadata": {},
   "source": [
    "I koden under omformer jeg strengene til integers og gir dere \"nøkkelen\" til å konvertere det tilbake igjen"
   ]
  },
  {
   "cell_type": "code",
   "execution_count": 4,
   "id": "81141f95",
   "metadata": {},
   "outputs": [
    {
     "name": "stdout",
     "output_type": "stream",
     "text": [
      "-----------\n",
      "BusinessTravel\n",
      "-----------\n",
      "Travel_Frequently = 0\n",
      "Travel_Rarely = 1\n",
      "Non-Travel = 2\n",
      "-----------\n",
      "Department\n",
      "-----------\n",
      "Research & Development = 0\n",
      "Sales = 1\n",
      "Human Resources = 2\n",
      "-----------\n",
      "EducationField\n",
      "-----------\n",
      "Medical = 0\n",
      "Other = 1\n",
      "Marketing = 2\n",
      "Life Sciences = 3\n",
      "Technical Degree = 4\n",
      "Human Resources = 5\n",
      "-----------\n",
      "Gender\n",
      "-----------\n",
      "Male = 0\n",
      "Female = 1\n",
      "-----------\n",
      "JobRole\n",
      "-----------\n",
      "Laboratory Technician = 0\n",
      "Sales Representative = 1\n",
      "Sales Executive = 2\n",
      "Healthcare Representative = 3\n",
      "Manager = 4\n",
      "Manufacturing Director = 5\n",
      "Research Scientist = 6\n",
      "Human Resources = 7\n",
      "Research Director = 8\n",
      "-----------\n",
      "MaritalStatus\n",
      "-----------\n",
      "Married = 0\n",
      "Divorced = 1\n",
      "Single = 2\n",
      "-----------\n",
      "Over18\n",
      "-----------\n",
      "Y = 0\n",
      "-----------\n",
      "OverTime\n",
      "-----------\n",
      "Yes = 0\n",
      "No = 1\n"
     ]
    },
    {
     "name": "stderr",
     "output_type": "stream",
     "text": [
      "C:\\Users\\Bjorn\\anaconda3\\lib\\site-packages\\pandas\\core\\indexing.py:1732: SettingWithCopyWarning: \n",
      "A value is trying to be set on a copy of a slice from a DataFrame\n",
      "\n",
      "See the caveats in the documentation: https://pandas.pydata.org/pandas-docs/stable/user_guide/indexing.html#returning-a-view-versus-a-copy\n",
      "  self._setitem_single_block(indexer, value, name)\n"
     ]
    }
   ],
   "source": [
    "for i in kolonner_obj:\n",
    "    print(\"-----------\")\n",
    "    print(i)\n",
    "    print(\"-----------\")\n",
    "    for num, j in enumerate(list(df[i].unique())):\n",
    "        print(\"{} = {}\".format(j,num))\n",
    "        df[i].loc[df[i]==j] = num\n",
    "    df[i] = pd.to_numeric(df[i])"
   ]
  },
  {
   "cell_type": "markdown",
   "id": "8005f086",
   "metadata": {},
   "source": [
    "I outputen fra koden nedenfor viser datatypen til de forskjellige kolonnene, som nå etter preprosesseringen bare består av integers (int64). "
   ]
  },
  {
   "cell_type": "code",
   "execution_count": 5,
   "id": "778b6336",
   "metadata": {
    "scrolled": true
   },
   "outputs": [
    {
     "name": "stdout",
     "output_type": "stream",
     "text": [
      "id                          int64\n",
      "Age                         int64\n",
      "BusinessTravel              int64\n",
      "DailyRate                   int64\n",
      "Department                  int64\n",
      "DistanceFromHome            int64\n",
      "Education                   int64\n",
      "EducationField              int64\n",
      "EmployeeCount               int64\n",
      "EnvironmentSatisfaction     int64\n",
      "Gender                      int64\n",
      "HourlyRate                  int64\n",
      "JobInvolvement              int64\n",
      "JobLevel                    int64\n",
      "JobRole                     int64\n",
      "JobSatisfaction             int64\n",
      "MaritalStatus               int64\n",
      "MonthlyIncome               int64\n",
      "MonthlyRate                 int64\n",
      "NumCompaniesWorked          int64\n",
      "Over18                      int64\n",
      "OverTime                    int64\n",
      "PercentSalaryHike           int64\n",
      "PerformanceRating           int64\n",
      "RelationshipSatisfaction    int64\n",
      "StandardHours               int64\n",
      "StockOptionLevel            int64\n",
      "TotalWorkingYears           int64\n",
      "TrainingTimesLastYear       int64\n",
      "WorkLifeBalance             int64\n",
      "YearsAtCompany              int64\n",
      "YearsInCurrentRole          int64\n",
      "YearsSinceLastPromotion     int64\n",
      "YearsWithCurrManager        int64\n",
      "Attrition                   int64\n",
      "dtype: object\n"
     ]
    }
   ],
   "source": [
    "print(df.dtypes)"
   ]
  },
  {
   "cell_type": "code",
   "execution_count": 6,
   "id": "fddb6d19",
   "metadata": {},
   "outputs": [],
   "source": [
    "# Her deler jeg datasettet inn i egenskaper (X) og target (y) (fjerner også den første kolonnen siden det bare er en ID \n",
    "# og har dermed ingen prediktiv verdi)\n",
    "\n",
    "X = df.iloc[:,1:-1]\n",
    "y = df.iloc[:,-1]\n",
    "\n",
    "# Tilslutt deler jeg inn i et trening- og et testsett (75%/25%)\n",
    "\n",
    "X_train, X_test, y_train, y_test = train_test_split(X,y,test_size=0.25, random_state=0)\n",
    "\n",
    "# PS: Ikke endre denne kodecellen!"
   ]
  },
  {
   "cell_type": "markdown",
   "id": "4d571797",
   "metadata": {},
   "source": [
    "#### Oppgave 2.1) \n",
    "Visualiser $y\\_train$ og $y\\_val$ i et histogram. Kan du, basert på figuren, se hva slags problem vi skal løse (regresjon/klassifisering)? Begrunn svaret"
   ]
  },
  {
   "cell_type": "code",
   "execution_count": 7,
   "id": "f85a7509",
   "metadata": {
    "scrolled": true
   },
   "outputs": [
    {
     "data": {
      "image/png": "[encoded data removed]",
      "text/plain": [
       "<Figure size 800x600 with 1 Axes>"
      ]
     },
     "metadata": {},
     "output_type": "display_data"
    },
    {
     "data": {
      "image/png": "[encoded data removed]",
      "text/plain": [
       "<Figure size 800x600 with 1 Axes>"
      ]
     },
     "metadata": {},
     "output_type": "display_data"
    }
   ],
   "source": [
    "#TODO: visualiser y_train og y_test i et histogram\n",
    "\n",
    "# OLD\n",
    "\n",
    "import matplotlib.pyplot as plt\n",
    "\n",
    "# Visualisere y_train i et histogram\n",
    "plt.figure(figsize=(8, 6))\n",
    "plt.hist(y_train, bins='auto', color='blue', alpha=0.7)\n",
    "plt.title('Histogram av y_train')\n",
    "plt.xlabel('Mål variabel')\n",
    "plt.ylabel('Frekvens')\n",
    "plt.show()\n",
    "\n",
    "# Visualisere y_test i et histogram\n",
    "plt.figure(figsize=(8, 6))\n",
    "plt.hist(y_test, bins='auto', color='green', alpha=0.7)\n",
    "plt.title('Histogram av y_test')\n",
    "plt.xlabel('Mål variabel')\n",
    "plt.ylabel('Frekvens')\n",
    "plt.show()\n"
   ]
  },
  {
   "cell_type": "code",
   "execution_count": 8,
   "id": "c0ca4f91",
   "metadata": {},
   "outputs": [
    {
     "data": {
      "image/png": "[encoded data removed]",
      "text/plain": [
       "<Figure size 1200x600 with 2 Axes>"
      ]
     },
     "metadata": {},
     "output_type": "display_data"
    }
   ],
   "source": [
    "import matplotlib.pyplot as plt\n",
    "\n",
    "# NEW\n",
    "\n",
    "# Visualisere y_train og y_test i et histogram\n",
    "plt.figure(figsize=(12, 6))\n",
    "\n",
    "plt.subplot(1, 2, 1)\n",
    "plt.hist(y_train, bins=30, color='blue', alpha=0.7)\n",
    "plt.title('Histogram av y_train')\n",
    "plt.xlabel('Klasse')\n",
    "plt.ylabel('Frekvens')\n",
    "\n",
    "plt.subplot(1, 2, 2)\n",
    "plt.hist(y_test, bins=30, color='green', alpha=0.7)\n",
    "plt.title('Histogram av y_test')\n",
    "plt.xlabel('Klasse')\n",
    "plt.ylabel('Frekvens')\n",
    "\n",
    "plt.tight_layout()\n",
    "plt.show()"
   ]
  },
  {
   "cell_type": "markdown",
   "id": "15176882",
   "metadata": {},
   "source": [
    "**Svar:**\n",
    "\n",
    "*< ditt tekstsvar her >*\n",
    "\n",
    "Det ser ut som målvariabelen har et begrenset sett med diskrete verdier, noe som forårsaker hull mellom stolpene. Denne typen fordeling antyder at vi har et klassifiseringsproblem, ikke et regresjonsproblem.\n",
    "\n",
    "I et regresjonsproblem vil målvariabelen typisk ha en kontinuerlig og jevn fordeling, mens målvariabelen i et klassifiseringsproblem består av forskjellige klasser eller kategorier, noe som resulterer i et histogram med atskilte søyler.\n",
    "\n",
    "Det er sannsynlig at målvariabelen representerer forskjellige klasser eller kategorier, noe som gjør det til et klassifiseringsproblem. I dette tilfelle er Target en binær variabel (0 og 1) og derfor er det et klassifiseringsproblem."
   ]
  },
  {
   "cell_type": "markdown",
   "id": "d8db2542",
   "metadata": {},
   "source": [
    "<span style='color:red '> Helt riktig!  </span>"
   ]
  },
  {
   "cell_type": "markdown",
   "id": "dc4c9188",
   "metadata": {},
   "source": [
    "#### Oppgave 2.2)\n",
    "Velg to modeller og gjør repeterte kryssvalideringer $(10)$ med $K=5$\n",
    "* Velg hvorvidt du vil bruke \"default\" hyperparamtre for modellene eller om du vil gjøre et hyperparametersøk\n",
    "* Skår ytelsen til modellene ved hjelp av F1-score og accuracy\n",
    "* Visualiser F1-skårene fra de repeterte kryssvalideringene som et boksplot\n",
    "* Undersøk om modell 1 er bedre eller dårligere enn modell 2 ved å gjøre en to-sidig T-test på F1-skårene fra de repeterte kryssvalideringene \n",
    "* Tolk resultatene skriftlig til slutt \n"
   ]
  },
  {
   "cell_type": "code",
   "execution_count": 9,
   "id": "4c049ba1",
   "metadata": {
    "scrolled": true
   },
   "outputs": [
    {
     "data": {
      "image/png": "[encoded data removed]",
      "text/plain": [
       "<Figure size 1000x600 with 1 Axes>"
      ]
     },
     "metadata": {},
     "output_type": "display_data"
    },
    {
     "name": "stdout",
     "output_type": "stream",
     "text": [
      "Tosidig t-testresultat for F1-poeng: p-verdi = 4.022187072190957e-25\n",
      "Forskjellen i F1-score er statistisk signifikant.\n"
     ]
    }
   ],
   "source": [
    "import numpy as np\n",
    "from sklearn.model_selection import cross_val_score, RepeatedStratifiedKFold\n",
    "from sklearn.ensemble import RandomForestClassifier\n",
    "from sklearn.svm import SVC\n",
    "from sklearn.model_selection import cross_val_score\n",
    "from sklearn.metrics import make_scorer, f1_score, accuracy_score\n",
    "from sklearn.metrics import f1_score\n",
    "from scipy.stats import ttest_rel\n",
    "from sklearn.preprocessing import StandardScaler\n",
    "\n",
    "# NEW PART 1 (fokus på oppgaven, uten å tenke så mye på hvordan modellen vil se ut)\n",
    "\n",
    "# Laster inn datasettet\n",
    "df = pd.read_csv(\"./datasett2.csv\")\n",
    "\n",
    "# Konverterer kategoriske variabler til heltall\n",
    "kolonner_obj = df.select_dtypes(include=['object']).columns\n",
    "for i in kolonner_obj:\n",
    "    unique_values = list(df[i].unique())\n",
    "    df[i] = df[i].apply(lambda x: unique_values.index(x))\n",
    "\n",
    "# Konverterer alle kolonner til strengtype\n",
    "df = df.astype(str)\n",
    "\n",
    "# Deler opp datasettet i egenskaper (X) og mål (y)\n",
    "X = df.iloc[:, 1:-1]\n",
    "y = df.iloc[:, -1]\n",
    "\n",
    "# Definerer modellene\n",
    "model1 = RandomForestClassifier(random_state=0, n_estimators=100, max_depth=10)\n",
    "model2 = SVC(C = 3, gamma = \"auto\", kernel = \"rbf\", random_state=0)\n",
    "\n",
    "# Definerer poengberegninger\n",
    "scoring_f1 = make_scorer(f1_score)\n",
    "scoring_accuracy = make_scorer(accuracy_score)\n",
    "\n",
    "# Utfører gjentatte kryssvalideringer med K=5\n",
    "cv = RepeatedStratifiedKFold(n_splits=5, n_repeats=10, random_state=0)\n",
    "\n",
    "# Skalering\n",
    "skalering = StandardScaler()\n",
    "\n",
    "# Beregner F1-poeng manuelt for å håndtere NaN-verdier\n",
    "def calculate_f1_scores(model, X, y, cv):\n",
    "    f1_scores = []\n",
    "    for train_idx, test_idx in cv.split(X, y):\n",
    "        X_train, X_test = X.iloc[train_idx], X.iloc[test_idx]\n",
    "        y_train, y_test = y.iloc[train_idx], y.iloc[test_idx]\n",
    "        \n",
    "        # Skalering\n",
    "        X_train = skalering.fit_transform(X_train)\n",
    "        X_test = skalering.transform(X_test)\n",
    "\n",
    "        model.fit(X_train, y_train)\n",
    "        y_pred = model.predict(X_test)\n",
    "\n",
    "        f1 = f1_score(y_test, y_pred, average='binary', pos_label='1')\n",
    "        f1_scores.append(f1)\n",
    "\n",
    "    return np.array(f1_scores)\n",
    "\n",
    "# Evaluerer modeller ved å bruke F1-score og nøyaktighet\n",
    "scores_model1_f1 = calculate_f1_scores(model1, X, y, cv)\n",
    "scores_model2_f1 = calculate_f1_scores(model2, X, y, cv)\n",
    "\n",
    "scores_model1_accuracy = cross_val_score(model1, X, y, scoring=scoring_accuracy, cv=cv, n_jobs=-1)\n",
    "scores_model2_accuracy = cross_val_score(model2, X, y, scoring=scoring_accuracy, cv=cv, n_jobs=-1)\n",
    "\n",
    "# Visualiser F1-poeng som et boksplott\n",
    "plt.figure(figsize=(10, 6))\n",
    "plt.boxplot([scores_model1_f1, scores_model2_f1], labels=['Modell 1', 'Modell 2'])\n",
    "plt.title('F1-poengsum - Gjentatte kryssvalideringer')\n",
    "plt.ylabel('F1-poengsum')\n",
    "plt.show()\n",
    "\n",
    "# Gjennomfører en tosidig T-test\n",
    "t_stat, p_value = ttest_rel(scores_model1_f1, scores_model2_f1, nan_policy='omit')\n",
    "\n",
    "# Tolker resultatene\n",
    "print(\"Tosidig t-testresultat for F1-poeng: p-verdi =\", p_value)\n",
    "if p_value < 0.05:\n",
    "    print(\"Forskjellen i F1-score er statistisk signifikant.\")\n",
    "else:\n",
    "    print(\"Forskjellen i F1-score er ikke statistisk signifikant.\")"
   ]
  },
  {
   "cell_type": "code",
   "execution_count": 54,
   "id": "1e6ba000",
   "metadata": {},
   "outputs": [
    {
     "data": {
      "image/png": "[encoded data removed]",
      "text/plain": [
       "<Figure size 1000x800 with 1 Axes>"
      ]
     },
     "metadata": {},
     "output_type": "display_data"
    }
   ],
   "source": [
    "import seaborn as sns\n",
    "from sklearn.svm import SVC\n",
    "from scipy.stats import ttest_rel\n",
    "\n",
    "# NEW PART 2 (fokus på å lage en bedre modell)\n",
    "\n",
    "# Forutsatt at X, y, modell1 og modell2 er definert\n",
    "\n",
    "# Funksjon for å beregne F1-poeng\n",
    "def calculate_f1_scores(model, X, y, cv):\n",
    "    f1_scores = cross_val_score(model, X, y, scoring='f1', cv=cv, n_jobs=-1)\n",
    "    return np.array(f1_scores)\n",
    "\n",
    "# Funksjon for å beregne nøyaktighet\n",
    "def calculate_accuracy(model, X, y, cv):\n",
    "    accuracy_scores = cross_val_score(model, X, y, scoring='accuracy', cv=cv, n_jobs=-1)\n",
    "    return np.array(accuracy_scores)\n",
    "\n",
    "# Gjentatte kryssvalideringsparametere\n",
    "cv = RepeatedStratifiedKFold(n_splits=5, n_repeats=10, random_state=0)\n",
    "\n",
    "# Modell 1 og Modell 2\n",
    "model1 = RandomForestClassifier(random_state=0, n_estimators=100, max_depth=10)\n",
    "model2 = SVC(C = 3, gamma = \"auto\", kernel = \"rbf\", random_state=0)\n",
    "\n",
    "# Evaluer modeller ved å bruke F1-score og nøyaktighet\n",
    "scores_model1_f1 = calculate_f1_scores(model1, X, y, cv)\n",
    "scores_model2_f1 = calculate_f1_scores(model2, X, y, cv)\n",
    "\n",
    "scores_model1_accuracy = calculate_accuracy(model1, X, y, cv)\n",
    "scores_model2_accuracy = calculate_accuracy(model2, X, y, cv)\n",
    "\n",
    "# Kombinerer F1-poeng og nøyaktighet i en enkelt DataFrame\n",
    "df_scores = pd.DataFrame({'Model': ['Model 1'] * len(scores_model1_f1) + ['Model 2'] * len(scores_model2_f1),\n",
    "                          'Metric': ['F1 Score'] * (len(scores_model1_f1) + len(scores_model2_f1)),\n",
    "                          'Value': np.concatenate([scores_model1_f1, scores_model2_f1])})\n",
    "\n",
    "df_accuracy = pd.DataFrame({'Model': ['Model 1'] * len(scores_model1_accuracy) + ['Model 2'] * len(scores_model2_accuracy),\n",
    "                             'Metric': ['Accuracy'] * (len(scores_model1_accuracy) + len(scores_model2_accuracy)),\n",
    "                             'Value': np.concatenate([scores_model1_accuracy, scores_model2_accuracy])})\n",
    "\n",
    "df_combined = pd.concat([df_scores, df_accuracy])\n",
    "\n",
    "# Lager et boksplott med separate bokser for modell 1 og modell 2\n",
    "plt.figure(figsize=(10, 8))\n",
    "sns.boxplot(x='Model', y='Value', hue='Metric', data=df_combined)\n",
    "plt.title('Ytelsessammenligning: modell 1 vs modell 2')\n",
    "plt.show()\n",
    "\n",
    "# Gjennomfører en tosidig T-test\n",
    "t_stat, p_value = ttest_rel(scores_model1_f1, scores_model2_f1, nan_policy='omit')"
   ]
  },
  {
   "cell_type": "markdown",
   "id": "6f46c56f",
   "metadata": {},
   "source": [
    "**Svar:**\n",
    "\n",
    "# NEW\n",
    "\n",
    "P-verdien jeg fikk fra den tosidige t-testen på F1-skårene er veldig nær null (4.022187072190957e-25). I hypotesetesting representerer p-verdien sannsynligheten for å observere en teststatistikk like ekstrem som, eller mer ekstrem enn, den jeg har observert, forutsatt at nullhypotesen er sann. I denne sammenhengen:\n",
    "\n",
    "Nullhypotese (H0): Det er ingen signifikant forskjell mellom F1-skårene til modell 1 og modell 2.\n",
    "Alternativ hypotese (H1): Det er en signifikant forskjell mellom F1-skårene til modell 1 og modell 2.\n",
    "\n",
    "Med en veldig lav p-verdi (nær null) forkaster man typisk nullhypotesen. Rent praktisk antyder dette at det er en betydelig forskjell i F1-skårene mellom modell 1 og modell 2. Hvis gjennomsnittlig F1-poengsum for en modell er betydelig høyere enn den andre, er den modellen sannsynligvis bedre når det gjelder F1-score. I dette tilfelle er det modell 1 med RandomForestClassifier."
   ]
  },
  {
   "cell_type": "markdown",
   "id": "42be617a",
   "metadata": {},
   "source": [
    "<span style='color:red '> Veldig bra!  </span>"
   ]
  },
  {
   "cell_type": "markdown",
   "id": "d2ff50c7",
   "metadata": {},
   "source": [
    "#### Oppgave 2.3) \n",
    "Tren de samme modellene men denne gangen med et balansert datasett\n",
    "* Bruk imbalaced learn og SMOTE til å oppsample minioritetsklassen (bare oppsample treningsdataene i kryssvalideringen - ikke valideringsdataene)\n",
    "* Skår ytelsen til modellene ved hjelp av F1-score og accuracy\n",
    "* Visualiser F1-skårene fra de repeterte kryssvalideringene som et boksplot\n",
    "* Undersøk om modell 1 er bedre eller dårligere enn modell 2 ved å gjøre en to-sidig T-test på F1-skårene fra de repeterte kryssvalideringene \n",
    "* Tolk resultatene og sammenlign resultatene med 2.2) "
   ]
  },
  {
   "cell_type": "code",
   "execution_count": 12,
   "id": "17194123",
   "metadata": {},
   "outputs": [
    {
     "name": "stdout",
     "output_type": "stream",
     "text": [
      "P-value of F1 Score: 0.07037081541184155\n"
     ]
    },
    {
     "data": {
      "image/png": "[encoded data removed]",
      "text/plain": [
       "<Figure size 1000x800 with 2 Axes>"
      ]
     },
     "metadata": {},
     "output_type": "display_data"
    }
   ],
   "source": [
    "from sklearn.model_selection import cross_val_score, RepeatedStratifiedKFold\n",
    "from sklearn.metrics import make_scorer, f1_score, accuracy_score\n",
    "from imblearn.over_sampling import SMOTE\n",
    "import numpy as np\n",
    "import matplotlib.pyplot as plt\n",
    "\n",
    "# NEW\n",
    "\n",
    "# Skalering\n",
    "skalering = StandardScaler()\n",
    "\n",
    "# Funksjon for å beregne F1-poeng\n",
    "def calculate_f1_scores(model, X, y, cv):\n",
    "    f1_scores = []\n",
    "    for train_index, test_index in cv.split(X, y):\n",
    "        X_train, X_test = X.iloc[train_index], X.iloc[test_index]\n",
    "        y_train, y_test = y.iloc[train_index], y.iloc[test_index]\n",
    "        \n",
    "        # Skalering\n",
    "        X_train = skalering.fit_transform(X_train)\n",
    "        X_test = skalering.transform(X_test)\n",
    "\n",
    "        # Bruker kun SMOTE på treningsdataene\n",
    "        smote = SMOTE()\n",
    "        X_train_smote, y_train_smote = smote.fit_resample(X_train, y_train)\n",
    "\n",
    "        # Konverterer etiketter til heltall\n",
    "        y_train_smote = y_train_smote.astype(int)\n",
    "        y_test = y_test.astype(int)\n",
    "\n",
    "        # Trener modellen\n",
    "        model.fit(X_train_smote, y_train_smote)\n",
    "\n",
    "        # Forutsier testsettet\n",
    "        y_pred = model.predict(X_test)\n",
    "\n",
    "        # Beregner F1-poengsum og lagre\n",
    "        f1 = f1_score(y_test, y_pred, average='binary')\n",
    "        f1_scores.append(f1)\n",
    "\n",
    "    return np.array(f1_scores)\n",
    "\n",
    "# Konverterer etiketter til heltall\n",
    "y = y.astype(int)\n",
    "\n",
    "# Modeller\n",
    "model1 = RandomForestClassifier(random_state=0, n_estimators=100, max_depth=10)\n",
    "model2 = SVC(C = 3, gamma = \"auto\", kernel = \"rbf\", random_state=0)\n",
    "\n",
    "# Kryssvalideringsinnstillinger\n",
    "cv = RepeatedStratifiedKFold(n_splits=5, n_repeats=10, random_state=0)\n",
    "\n",
    "# Poengberegninger\n",
    "scoring_f1 = make_scorer(f1_score, average='binary')\n",
    "scoring_accuracy = make_scorer(accuracy_score)\n",
    "\n",
    "# Evaluerer modeller ved å bruke F1-score og nøyaktighet\n",
    "scores_model1_f1 = calculate_f1_scores(model1, X, y, cv)\n",
    "scores_model2_f1 = calculate_f1_scores(model2, X, y, cv)\n",
    "\n",
    "scores_model1_accuracy = cross_val_score(model1, X, y, scoring=scoring_accuracy, cv=cv, n_jobs=-1)\n",
    "scores_model2_accuracy = cross_val_score(model2, X, y, scoring=scoring_accuracy, cv=cv, n_jobs=-1)\n",
    "\n",
    "# Calculate p-value for F1 scores\n",
    "t_stat, p_value = ttest_rel(scores_model1_f1, scores_model2_f1)\n",
    "\n",
    "# Print the p-value\n",
    "print(f\"P-value of F1 Score: {p_value}\")\n",
    "\n",
    "# Visualiserer F1-score og nøyaktighet\n",
    "plt.figure(figsize=(10, 8))\n",
    "\n",
    "# Boksplott for F1-poeng\n",
    "plt.subplot(1, 2, 1)\n",
    "plt.boxplot([scores_model1_f1, scores_model2_f1], labels=['Model 1', 'Model 2'])\n",
    "plt.title('F1 Scores - With SMOTE')\n",
    "plt.ylabel('F1 Score')\n",
    "\n",
    "# Boksplott for nøyaktighet\n",
    "plt.subplot(1, 2, 2)\n",
    "plt.boxplot([scores_model1_accuracy, scores_model2_accuracy], labels=['Model 1', 'Model 2'])\n",
    "plt.title('Accuracy - With SMOTE')\n",
    "plt.ylabel('Accuracy')\n",
    "\n",
    "plt.show()"
   ]
  },
  {
   "cell_type": "markdown",
   "id": "08c962b2",
   "metadata": {},
   "source": [
    "**Svar:**\n",
    "\n",
    "# NEW\n",
    "\n",
    "P-verdien som er et resultat av den tosidige t-testen på F1-skårene indikerer sannsynligheten for å observere slike ekstreme forskjeller i F1-skårene mellom modell 1 og modell 2, forutsatt at det ikke er noen reell forskjell mellom de to modellene (nullhypotesen) ). En mindre p-verdi antyder sterkere bevis mot nullhypotesen.\n",
    "\n",
    "I ditt tilfelle er p-verdien 0,049271846352623314, som er liten. Vanligvis brukes et signifikansnivå (alfa) på 0,05. Hvis p-verdien er mindre enn signifikansnivået, forkaster du nullhypotesen. I ditt tilfelle er p-verdien mindre enn 0,05, så du vil forkaste nullhypotesen.\n",
    "\n",
    "Derfor har jeg bevis som tyder på at det er en signifikant forskjell i F1-score mellom modell 1 og modell 2. Siden modell 2 sammenlignes med modell 1, og jeg avviser nullhypotesen, tyder det på at modell 2 presterer betydelig bedre enn modell 1, når det gjelder F1-poengsum basert på resultatene av de gjentatte kryssvalideringene.\n",
    "\n",
    "Oppsummert antyder den lille p-verdien at den observerte forskjellen i F1-skåre mellom modell 1 og modell 2 sannsynligvis ikke skyldes tilfeldige tilfeldigheter, og jeg har statistiske bevis for å støtte konklusjonen om at modell 2 er bedre enn modell 1 når det gjelder av F1-poengsum."
   ]
  },
  {
   "cell_type": "markdown",
   "id": "924230ba",
   "metadata": {},
   "source": [
    "<span style='color:red '> Dette er veldig bra! Jeg fikk bare en p-verdi = 0.32 på min første kjøring og 0.07 på min andre kjøring (så det er litt tilfeldighet ute å går - kanskje man skulle hatt enda flere repeterte kryssvalideringer). En ting jeg vil du skal legge merke til er at accuracy og F1-scoren din er dønn lik i oppgave 2.2, men forskjellige i denne deloppgaven. Det er nok fodi du her bruker average='binary', mens du i 2.2 ikke har definert hva slags type F1-score du skal beregne (en av typene er pr definisjon det samme som accuracy).</span>"
   ]
  },
  {
   "cell_type": "markdown",
   "id": "1225c5f6",
   "metadata": {},
   "source": [
    "#### Oppgave 2.4)\n",
    "Tren den beste modellen på nytt og utfør prediksjon på testsettet. Mål nå ytelsen på testsettet ved bruk av sensitivitet, spesifisitet og presisjon, itillegg til F1-skår og accuracy"
   ]
  },
  {
   "cell_type": "code",
   "execution_count": 15,
   "id": "e1c1e003",
   "metadata": {
    "scrolled": false
   },
   "outputs": [
    {
     "name": "stdout",
     "output_type": "stream",
     "text": [
      "Confusion Matrix:\n",
      " [[295   3]\n",
      " [ 36   2]]\n",
      "\n",
      "Classification Report:\n",
      "               precision    recall  f1-score   support\n",
      "\n",
      "           0       0.89      0.99      0.94       298\n",
      "           1       0.40      0.05      0.09        38\n",
      "\n",
      "    accuracy                           0.88       336\n",
      "   macro avg       0.65      0.52      0.52       336\n",
      "weighted avg       0.84      0.88      0.84       336\n",
      "\n",
      "Sensitivity: 0.05263157894736842\n",
      "Specificity: 0.9899328859060402\n",
      "Precision: 0.4\n",
      "F1 Score: 0.09302325581395349\n",
      "Accuracy: 0.8839285714285714\n"
     ]
    }
   ],
   "source": [
    "from sklearn.model_selection import train_test_split\n",
    "from sklearn.metrics import confusion_matrix\n",
    "\n",
    "# NEW\n",
    "\n",
    "# Laster inn datasettet\n",
    "df = pd.read_csv(\"./datasett2.csv\")\n",
    "\n",
    "# Konverterer kategoriske variabler til heltall\n",
    "kolonner_obj = df.select_dtypes(include=['object']).columns\n",
    "for i in kolonner_obj:\n",
    "    unique_values = list(df[i].unique())\n",
    "    df[i] = df[i].apply(lambda x: unique_values.index(x))\n",
    "\n",
    "# Konverterer alle kolonner til strengtype\n",
    "df = df.astype(str)\n",
    "\n",
    "# Deler opp datasettet i funksjoner (X) og mål (y)\n",
    "X = df.iloc[:, 1:-1]\n",
    "y = df.iloc[:, -1]\n",
    "\n",
    "# Deler opp dataene i trenings- og testsett\n",
    "X_train, X_test, y_train, y_test = train_test_split(X, y, test_size=0.2, random_state=0)\n",
    "\n",
    "# Definerer den beste modellen (bruk de beste parameterne fra oppgavene 2.2 og 2.3)\n",
    "best_model = RandomForestClassifier(random_state=0, n_estimators=100, max_depth=10)\n",
    "\n",
    "# Trener modellen på treningsdataene\n",
    "best_model.fit(X_train, y_train)\n",
    "\n",
    "# Forutsier testsettet\n",
    "y_pred = best_model.predict(X_test)\n",
    "\n",
    "# Evaluerer ytelsen på testsettet\n",
    "conf_matrix = confusion_matrix(y_test, y_pred)\n",
    "classification_rep = classification_report(y_test, y_pred)\n",
    "\n",
    "# Beregn sensitivitet, spesifisitet, presisjon, F1-score og nøyaktighet\n",
    "sensitivity = recall_score(y_test, y_pred, pos_label='1')\n",
    "specificity = recall_score(y_test, y_pred, pos_label='0')\n",
    "precision = precision_score(y_test, y_pred, pos_label='1')\n",
    "f1 = f1_score(y_test, y_pred, pos_label='1')\n",
    "accuracy = accuracy_score(y_test, y_pred)\n",
    "\n",
    "# Skriver ut resultatene\n",
    "print(\"Confusion Matrix:\\n\", conf_matrix)\n",
    "print(\"\\nClassification Report:\\n\", classification_rep)\n",
    "print(f\"Sensitivity: {sensitivity}\")\n",
    "print(f\"Specificity: {specificity}\")\n",
    "print(f\"Precision: {precision}\")\n",
    "print(f\"F1 Score: {f1}\")\n",
    "print(f\"Accuracy: {accuracy}\")"
   ]
  },
  {
   "cell_type": "code",
   "execution_count": 14,
   "id": "2b370a54",
   "metadata": {},
   "outputs": [
    {
     "name": "stdout",
     "output_type": "stream",
     "text": [
      "Confusion Matrix:\n",
      " [[297   1]\n",
      " [ 36   2]]\n",
      "\n",
      "Classification Report:\n",
      "               precision    recall  f1-score   support\n",
      "\n",
      "           0       0.89      1.00      0.94       298\n",
      "           1       0.67      0.05      0.10        38\n",
      "\n",
      "    accuracy                           0.89       336\n",
      "   macro avg       0.78      0.52      0.52       336\n",
      "weighted avg       0.87      0.89      0.85       336\n",
      "\n",
      "Sensitivity: 0.05263157894736842\n",
      "Specificity: 0.9966442953020134\n",
      "Precision: 0.6666666666666666\n",
      "F1 Score: 0.09756097560975609\n",
      "Accuracy: 0.8898809523809523\n"
     ]
    }
   ],
   "source": [
    "from sklearn.model_selection import train_test_split\n",
    "from sklearn.preprocessing import StandardScaler, OneHotEncoder\n",
    "from sklearn.compose import ColumnTransformer\n",
    "from sklearn.pipeline import Pipeline\n",
    "from sklearn.ensemble import RandomForestClassifier\n",
    "from sklearn.metrics import confusion_matrix, classification_report, recall_score, precision_score, f1_score, accuracy_score\n",
    "import pandas as pd\n",
    "\n",
    "# NEW (doesn't change into strings)\n",
    "\n",
    "# Laster inn datasett\n",
    "df = pd.read_csv(\"./datasett2.csv\")\n",
    "\n",
    "# Definerer funksjoner og mål\n",
    "X = df.drop(columns=['Attrition'])\n",
    "y = df['Attrition']\n",
    "\n",
    "# Deler opp dataene i trenings- og testsett\n",
    "X_train, X_test, y_train, y_test = train_test_split(X, y, test_size=0.2, random_state=0)\n",
    "\n",
    "# Definer numeriske og kategoriske funksjoner\n",
    "numerical_features = X.select_dtypes(include=['int64', 'float64']).columns\n",
    "categorical_features = X.select_dtypes(include=['object']).columns\n",
    "\n",
    "# Lager transformatorer for numeriske og kategoriske funksjoner\n",
    "numeric_transformer = Pipeline(steps=[\n",
    "    ('scaler', StandardScaler())\n",
    "])\n",
    "\n",
    "categorical_transformer = Pipeline(steps=[\n",
    "    ('onehot', OneHotEncoder(handle_unknown='ignore'))\n",
    "])\n",
    "\n",
    "# Lager en kolonnetransformator for å bruke forskjellige transformatorer på numeriske og kategoriske funksjoner\n",
    "preprocessor = ColumnTransformer(\n",
    "    transformers=[\n",
    "        ('num', numeric_transformer, numerical_features),\n",
    "        ('cat', categorical_transformer, categorical_features)\n",
    "    ])\n",
    "\n",
    "# Definerer den beste modellen (bruker de beste parameterne fra oppgavene 2.2 og 2.3)\n",
    "model = Pipeline(steps=[('preprocessor', preprocessor),\n",
    "                        ('classifier', RandomForestClassifier(random_state=0, n_estimators=100, max_depth=10))])\n",
    "\n",
    "# Trener modellen på treningsdataene\n",
    "model.fit(X_train, y_train)\n",
    "\n",
    "# Forutsier testsettet\n",
    "y_pred = model.predict(X_test)\n",
    "\n",
    "# Evaluerer ytelsen på testsettet\n",
    "conf_matrix = confusion_matrix(y_test, y_pred)\n",
    "classification_rep = classification_report(y_test, y_pred)\n",
    "\n",
    "# Beregn sensitivitet, spesifisitet, presisjon, F1-score og nøyaktighet\n",
    "sensitivity = recall_score(y_test, y_pred)\n",
    "specificity = recall_score(y_test, y_pred, pos_label=0)\n",
    "precision = precision_score(y_test, y_pred)\n",
    "f1 = f1_score(y_test, y_pred)\n",
    "accuracy = accuracy_score(y_test, y_pred)\n",
    "\n",
    "# Skriver ut resultatene\n",
    "print(\"Confusion Matrix:\\n\", conf_matrix)\n",
    "print(\"\\nClassification Report:\\n\", classification_rep)\n",
    "print(f\"Sensitivity: {sensitivity}\")\n",
    "print(f\"Specificity: {specificity}\")\n",
    "print(f\"Precision: {precision}\")\n",
    "print(f\"F1 Score: {f1}\")\n",
    "print(f\"Accuracy: {accuracy}\")"
   ]
  },
  {
   "cell_type": "markdown",
   "id": "3ac34174",
   "metadata": {},
   "source": [
    "<span style='color:red '> Veldig bra! Savner en liten kommentar til resultatene</span>"
   ]
  },
  {
   "cell_type": "markdown",
   "id": "52e749b6",
   "metadata": {},
   "source": [
    "#### Oppgave 2.5)\n",
    "Del opp testsettet basert på kjønn og gjør en analyse av sensitivitet, spesifisitet og presisjon for menn og det samme for kvinner. Skriv ut og diskuter resultatet og forsøk å svar på følgende spørsmål:\n",
    "* Er modellen like god for begge kjønn? \n",
    "* Hvis ikke, hva tror du er årsaken og hvilke tiltak kan vi gjøre for å forbedre modellen? "
   ]
  },
  {
   "cell_type": "code",
   "execution_count": 16,
   "id": "7e83002c",
   "metadata": {},
   "outputs": [
    {
     "name": "stdout",
     "output_type": "stream",
     "text": [
      "Performance Metrics for Men:\n",
      "Confusion Matrix:\n",
      " [[173   1]\n",
      " [ 26   1]]\n",
      "\n",
      "Classification Report:\n",
      "               precision    recall  f1-score   support\n",
      "\n",
      "           0       0.87      0.99      0.93       174\n",
      "           1       0.50      0.04      0.07        27\n",
      "\n",
      "    accuracy                           0.87       201\n",
      "   macro avg       0.68      0.52      0.50       201\n",
      "weighted avg       0.82      0.87      0.81       201\n",
      "\n",
      "Sensitivity: 0.037037037037037035\n",
      "Specificity: 0.9942528735632183\n",
      "Precision: 0.5\n",
      "F1 Score: 0.06896551724137931\n",
      "Accuracy: 0.8656716417910447\n",
      "\n",
      "Performance Metrics for Women:\n",
      "Confusion Matrix:\n",
      " [[124   0]\n",
      " [ 10   1]]\n",
      "\n",
      "Classification Report:\n",
      "               precision    recall  f1-score   support\n",
      "\n",
      "           0       0.93      1.00      0.96       124\n",
      "           1       1.00      0.09      0.17        11\n",
      "\n",
      "    accuracy                           0.93       135\n",
      "   macro avg       0.96      0.55      0.56       135\n",
      "weighted avg       0.93      0.93      0.90       135\n",
      "\n",
      "Sensitivity: 0.09090909090909091\n",
      "Specificity: 1.0\n",
      "Precision: 1.0\n",
      "F1 Score: 0.16666666666666669\n",
      "Accuracy: 0.9259259259259259\n"
     ]
    }
   ],
   "source": [
    "from sklearn.model_selection import train_test_split\n",
    "from sklearn.preprocessing import StandardScaler, OneHotEncoder\n",
    "from sklearn.compose import ColumnTransformer\n",
    "from sklearn.pipeline import Pipeline\n",
    "from sklearn.ensemble import RandomForestClassifier\n",
    "from sklearn.metrics import confusion_matrix, classification_report, recall_score, precision_score, f1_score, accuracy_score\n",
    "import pandas as pd\n",
    "\n",
    "# NEW\n",
    "\n",
    "# Laster inn datasett\n",
    "df = pd.read_csv(\"./datasett2.csv\")\n",
    "\n",
    "# Definerer funksjoner og mål\n",
    "X = df.drop(columns=['Attrition'])\n",
    "y = df['Attrition']\n",
    "\n",
    "# Deler opp dataene i trenings- og testsett\n",
    "X_train, X_test, y_train, y_test = train_test_split(X, y, test_size=0.2, random_state=0)\n",
    "\n",
    "# Definerer numeriske og kategoriske funksjoner\n",
    "numerical_features = X.select_dtypes(include=['int64', 'float64']).columns\n",
    "categorical_features = X.select_dtypes(include=['object']).columns\n",
    "\n",
    "# Lager transformatorer for numeriske og kategoriske funksjoner\n",
    "numeric_transformer = Pipeline(steps=[\n",
    "    ('scaler', StandardScaler())\n",
    "])\n",
    "\n",
    "categorical_transformer = Pipeline(steps=[\n",
    "    ('onehot', OneHotEncoder(handle_unknown='ignore'))\n",
    "])\n",
    "\n",
    "# Lager en kolonnetransformator for å bruke forskjellige transformatorer på numeriske og kategoriske funksjoner\n",
    "preprocessor = ColumnTransformer(\n",
    "    transformers=[\n",
    "        ('num', numeric_transformer, numerical_features),\n",
    "        ('cat', categorical_transformer, categorical_features)\n",
    "    ])\n",
    "\n",
    "# Definer modellen\n",
    "model = Pipeline(steps=[('preprocessor', preprocessor),\n",
    "                        ('classifier', RandomForestClassifier(random_state=0, n_estimators=100, max_depth=10))])\n",
    "\n",
    "# Trener modellen på treningsdataene\n",
    "model.fit(X_train, y_train)\n",
    "\n",
    "# Forutsier testsettet\n",
    "y_pred = model.predict(X_test)\n",
    "\n",
    "# Skill testsettet basert på kjønn\n",
    "male_indices = X_test[X_test['Gender'] == 'Male'].index\n",
    "female_indices = X_test[X_test['Gender'] == 'Female'].index\n",
    "\n",
    "X_male = X_test.loc[male_indices]\n",
    "y_male = y_test.loc[male_indices]\n",
    "\n",
    "X_female = X_test.loc[female_indices]\n",
    "y_female = y_test.loc[female_indices]\n",
    "\n",
    "# Spådommer for mannlige og kvinnelige grupper\n",
    "y_pred_male = model.predict(X_male)\n",
    "y_pred_female = model.predict(X_female)\n",
    "\n",
    "# Evaluerer ytelsen for menn\n",
    "conf_matrix_male = confusion_matrix(y_male, y_pred_male)\n",
    "classification_rep_male = classification_report(y_male, y_pred_male)\n",
    "\n",
    "# Beregner sensitivitet, spesifisitet, presisjon, F1-score og nøyaktighet for menn\n",
    "sensitivity_male = recall_score(y_male, y_pred_male)\n",
    "specificity_male = recall_score(y_male, y_pred_male, pos_label=0)\n",
    "precision_male = precision_score(y_male, y_pred_male)\n",
    "f1_male = f1_score(y_male, y_pred_male)\n",
    "accuracy_male = accuracy_score(y_male, y_pred_male)\n",
    "\n",
    "# Skriver ut resultatene for menn\n",
    "print(\"Performance Metrics for Men:\")\n",
    "print(\"Confusion Matrix:\\n\", conf_matrix_male)\n",
    "print(\"\\nClassification Report:\\n\", classification_rep_male)\n",
    "print(f\"Sensitivity: {sensitivity_male}\")\n",
    "print(f\"Specificity: {specificity_male}\")\n",
    "print(f\"Precision: {precision_male}\")\n",
    "print(f\"F1 Score: {f1_male}\")\n",
    "print(f\"Accuracy: {accuracy_male}\")\n",
    "\n",
    "# Evaluerer ytelsen for kvinner\n",
    "conf_matrix_female = confusion_matrix(y_female, y_pred_female)\n",
    "classification_rep_female = classification_report(y_female, y_pred_female)\n",
    "\n",
    "# Beregner sensitivitet, spesifisitet, presisjon, F1-score og nøyaktighet for kvinner\n",
    "sensitivity_female = recall_score(y_female, y_pred_female)\n",
    "specificity_female = recall_score(y_female, y_pred_female, pos_label=0)\n",
    "precision_female = precision_score(y_female, y_pred_female)\n",
    "f1_female = f1_score(y_female, y_pred_female)\n",
    "accuracy_female = accuracy_score(y_female, y_pred_female)\n",
    "\n",
    "# Skriver ut resultatene for kvinner\n",
    "print(\"\\nPerformance Metrics for Women:\")\n",
    "print(\"Confusion Matrix:\\n\", conf_matrix_female)\n",
    "print(\"\\nClassification Report:\\n\", classification_rep_female)\n",
    "print(f\"Sensitivity: {sensitivity_female}\")\n",
    "print(f\"Specificity: {specificity_female}\")\n",
    "print(f\"Precision: {precision_female}\")\n",
    "print(f\"F1 Score: {f1_female}\")\n",
    "print(f\"Accuracy: {accuracy_female}\")\n"
   ]
  },
  {
   "cell_type": "markdown",
   "id": "7176f779",
   "metadata": {},
   "source": [
    "**Svar:**\n",
    "\n",
    "*< ditt tekstsvar her >*\n",
    "\n",
    "Ytelsesmål for menn:\n",
    "Sensitivitet/gjenkalling (sann positiv rate): Svært lav (0,04), noe som indikerer at modellen bare identifiserer en liten andel av faktiske positive tilfeller for menn.\n",
    "\n",
    "Spesifisitet (True Negative Rate): Høy (0,99), noe som indikerer at modellen korrekt identifiserer en stor andel av faktiske negative tilfeller for menn.\n",
    "\n",
    "Presisjon: Moderat (0,5), noe som indikerer at blant tilfellene som er spådd som positive for menn, er bare halvparten sanne positive.\n",
    "F1-score: Lav (0,07), som gjenspeiler avveiningen mellom presisjon og gjenkalling.\n",
    "\n",
    "Nøyaktighet: Høy (0,87), men den kan være misvisende på grunn av klasseubalanse.\n",
    "\n",
    "\n",
    "Ytelsesmål for kvinner:\n",
    "Sensitivitet/gjenkalling (True Positive Rate): Lav (0,09), noe som indikerer at modellen identifiserer bare en liten andel av faktiske positive tilfeller for kvinner.\n",
    "\n",
    "Spesifisitet (True Negative Rate): Høy (1,0), noe som indikerer at modellen korrekt identifiserer alle faktiske negative tilfeller for kvinner.\n",
    "\n",
    "Presisjon: Høy (1,0), noe som indikerer at blant tilfellene som er spådd som positive for kvinner, er alle sanne positive.\n",
    "\n",
    "F1-score: Lav (0,17), som gjenspeiler avveiningen mellom presisjon og gjenkalling.\n",
    "\n",
    "Nøyaktighet: Høy (0,93), men den kan være misvisende på grunn av klasseubalanse.\n",
    "\n",
    "\n",
    "Analyse:\n",
    "Klasseubalanse: Begge sensitivitetsverdiene er lave, spesielt for menn. Dette kan skyldes et problem med klasseubalanse, der modellen er partisk mot å forutsi majoritetsklassen (0).\n",
    "\n",
    "Ubalansert presisjon og tilbakekalling: Modellene har ubalansert presisjon og tilbakekalling, noe som indikerer en avveining. Modellene er mer konservative når det gjelder å forutsi positive tilfeller (Attrisjon = 1), noe som resulterer i lav sensitivitet.\n",
    "\n",
    "\n",
    "\n",
    "Modellene gir ikke like gode resultater for begge kjønn basert på resultatene. Det er merkbare forskjeller i ytelsesmålinger, spesielt i følsomhet (gjenkalling) og presisjon. Her er de viktigste observasjonene:\n",
    "\n",
    "For menn:\n",
    "\n",
    "Sensitivitet (gjenkalling): Svært lav (0,04), noe som indikerer at modellen bare identifiserer en liten andel av faktiske positive tilfeller for menn.\n",
    "Presisjon: Moderat (0,5), noe som antyder at blant tilfellene som er spådd som positive for menn, er bare halvparten sanne positive.\n",
    "\n",
    "For kvinner:\n",
    "\n",
    "Sensitivitet (gjenkalling): Lav (0,09), noe som indikerer at modellen bare identifiserer en liten andel av faktiske positive tilfeller for kvinner.\n",
    "Presisjon: Høy (1,0), noe som indikerer at blant tilfellene som er spådd som positive for kvinner, er alle sanne positive.\n",
    "\n",
    "Mulige årsaker:\n",
    "Klasseubalanse: Klasseubalanseproblemet kan påvirke modellens ytelse, spesielt når man forutsier minoritetsklassen (Attrisjon = 1). Dette fremgår av de lave følsomhetsverdiene.\n",
    "\n",
    "Funksjonsviktighet: Enkelte funksjoner, inkludert kjønnsrelaterte, kan påvirke spådommene. Å analysere funksjonens betydning kan gi innsikt i hvilke funksjoner som bidrar vesentlig til modellens beslutninger."
   ]
  },
  {
   "cell_type": "markdown",
   "id": "1ecf6848",
   "metadata": {},
   "source": [
    "<span style='color:red '> Artig at du har klart å lage en modell som fungerer noe bedre på kvinner til tross for at det er færre kvinner enn menn i datasettet. </span>"
   ]
  },
  {
   "cell_type": "markdown",
   "id": "3a868ac7",
   "metadata": {},
   "source": [
    "Kjør denne cellen til slutt og legg ved den genererte requirements.txt fila i pull requestet"
   ]
  },
  {
   "cell_type": "code",
   "execution_count": 58,
   "id": "8e3ef598",
   "metadata": {},
   "outputs": [
    {
     "name": "stderr",
     "output_type": "stream",
     "text": [
      "WARNING: Ignoring invalid distribution -cipy (c:\\users\\sondr\\miniconda3\\envs\\pythonproject1\\lib\\site-packages)\n"
     ]
    }
   ],
   "source": [
    "!pip freeze > requirements.txt"
   ]
  },
  {
   "cell_type": "code",
   "execution_count": null,
   "id": "9cc80952",
   "metadata": {},
   "outputs": [],
   "source": []
  }
 ],
 "metadata": {
  "kernelspec": {
   "display_name": "Python 3 (ipykernel)",
   "language": "python",
   "name": "python3"
  },
  "language_info": {
   "codemirror_mode": {
    "name": "ipython",
    "version": 3
   },
   "file_extension": ".py",
   "mimetype": "text/x-python",
   "name": "python",
   "nbconvert_exporter": "python",
   "pygments_lexer": "ipython3",
   "version": "3.8.5"
  }
 },
 "nbformat": 4,
 "nbformat_minor": 5
}
