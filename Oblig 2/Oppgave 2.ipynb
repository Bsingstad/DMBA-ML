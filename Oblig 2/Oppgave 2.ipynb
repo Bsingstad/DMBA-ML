{
 "cells": [
  {
   "cell_type": "markdown",
   "id": "bf1138c7",
   "metadata": {},
   "source": [
    "# Obligatorisk innlevering 2 - oppgave 2"
   ]
  },
  {
   "cell_type": "markdown",
   "id": "e8d8e9f7",
   "metadata": {},
   "source": [
    "I denne oppgaven skal vi forsøke å forutsi oppsigelser ved en arbeidsplass basert på en rekke variabler som f.eks alder, kjønn, utdannelse, lønn, osv."
   ]
  },
  {
   "cell_type": "code",
   "execution_count": 1,
   "id": "05baf6b1",
   "metadata": {},
   "outputs": [],
   "source": [
    "import pandas as pd\n",
    "from sklearn.model_selection import train_test_split\n",
    "import matplotlib.pyplot as plt\n",
    "import numpy as np\n",
    "from scipy.stats import ttest_rel"
   ]
  },
  {
   "cell_type": "code",
   "execution_count": 2,
   "id": "768f6d65",
   "metadata": {},
   "outputs": [],
   "source": [
    "# I denne oppgaven skal dere bruke følgende datasett:\n",
    "df = pd.read_csv(\"./datasett2.csv\")"
   ]
  },
  {
   "cell_type": "markdown",
   "id": "9aa8ce4d",
   "metadata": {},
   "source": [
    "### Preprosessering:\n",
    "For å forenkle håndteringen av kategoriske data har jeg her skrevet noe kode som gjør om strenger til intergers\n",
    "\n",
    "Følgende kolonner er formatert som *object* og inneholder kategoriske variabler i form av strenger"
   ]
  },
  {
   "cell_type": "code",
   "execution_count": 3,
   "id": "46c64c03",
   "metadata": {},
   "outputs": [
    {
     "name": "stdout",
     "output_type": "stream",
     "text": [
      "Index(['BusinessTravel', 'Department', 'EducationField', 'Gender', 'JobRole',\n",
      "       'MaritalStatus', 'Over18', 'OverTime'],\n",
      "      dtype='object')\n"
     ]
    }
   ],
   "source": [
    "kolonner_obj = df.select_dtypes(include=['object']).columns\n",
    "print(kolonner_obj)"
   ]
  },
  {
   "cell_type": "markdown",
   "id": "dc187ed1",
   "metadata": {},
   "source": [
    "I koden under omformer jeg strengene til integers og gir dere \"nøkkelen\" til å konvertere det tilbake igjen"
   ]
  },
  {
   "cell_type": "code",
   "execution_count": 4,
   "id": "81141f95",
   "metadata": {},
   "outputs": [
    {
     "name": "stdout",
     "output_type": "stream",
     "text": [
      "-----------\n",
      "BusinessTravel\n",
      "-----------\n",
      "Travel_Frequently = 0\n",
      "Travel_Rarely = 1\n",
      "Non-Travel = 2\n",
      "-----------\n",
      "Department\n",
      "-----------\n",
      "Research & Development = 0\n",
      "Sales = 1\n",
      "Human Resources = 2\n",
      "-----------\n",
      "EducationField\n",
      "-----------\n",
      "Medical = 0\n",
      "Other = 1\n",
      "Marketing = 2\n",
      "Life Sciences = 3\n",
      "Technical Degree = 4\n",
      "Human Resources = 5\n",
      "-----------\n",
      "Gender\n",
      "-----------\n",
      "Male = 0\n",
      "Female = 1\n",
      "-----------\n",
      "JobRole\n",
      "-----------\n",
      "Laboratory Technician = 0\n",
      "Sales Representative = 1\n",
      "Sales Executive = 2\n",
      "Healthcare Representative = 3\n",
      "Manager = 4\n",
      "Manufacturing Director = 5\n",
      "Research Scientist = 6\n",
      "Human Resources = 7\n",
      "Research Director = 8\n",
      "-----------\n",
      "MaritalStatus\n",
      "-----------\n",
      "Married = 0\n",
      "Divorced = 1\n",
      "Single = 2\n",
      "-----------\n",
      "Over18\n",
      "-----------\n",
      "Y = 0\n",
      "-----------\n",
      "OverTime\n",
      "-----------\n",
      "Yes = 0\n",
      "No = 1\n"
     ]
    },
    {
     "name": "stderr",
     "output_type": "stream",
     "text": [
      "C:\\Users\\Bjorn\\anaconda3\\lib\\site-packages\\pandas\\core\\indexing.py:1732: SettingWithCopyWarning: \n",
      "A value is trying to be set on a copy of a slice from a DataFrame\n",
      "\n",
      "See the caveats in the documentation: https://pandas.pydata.org/pandas-docs/stable/user_guide/indexing.html#returning-a-view-versus-a-copy\n",
      "  self._setitem_single_block(indexer, value, name)\n"
     ]
    }
   ],
   "source": [
    "for i in kolonner_obj:\n",
    "    print(\"-----------\")\n",
    "    print(i)\n",
    "    print(\"-----------\")\n",
    "    for num, j in enumerate(list(df[i].unique())):\n",
    "        print(\"{} = {}\".format(j,num))\n",
    "        df[i].loc[df[i]==j] = num\n",
    "    df[i] = pd.to_numeric(df[i])"
   ]
  },
  {
   "cell_type": "markdown",
   "id": "8005f086",
   "metadata": {},
   "source": [
    "I outputen fra koden nedenfor viser datatypen til de forskjellige kolonnene, som nå etter preprosesseringen bare består av integers (int64). "
   ]
  },
  {
   "cell_type": "code",
   "execution_count": 5,
   "id": "778b6336",
   "metadata": {},
   "outputs": [
    {
     "name": "stdout",
     "output_type": "stream",
     "text": [
      "id                          int64\n",
      "Age                         int64\n",
      "BusinessTravel              int64\n",
      "DailyRate                   int64\n",
      "Department                  int64\n",
      "DistanceFromHome            int64\n",
      "Education                   int64\n",
      "EducationField              int64\n",
      "EmployeeCount               int64\n",
      "EnvironmentSatisfaction     int64\n",
      "Gender                      int64\n",
      "HourlyRate                  int64\n",
      "JobInvolvement              int64\n",
      "JobLevel                    int64\n",
      "JobRole                     int64\n",
      "JobSatisfaction             int64\n",
      "MaritalStatus               int64\n",
      "MonthlyIncome               int64\n",
      "MonthlyRate                 int64\n",
      "NumCompaniesWorked          int64\n",
      "Over18                      int64\n",
      "OverTime                    int64\n",
      "PercentSalaryHike           int64\n",
      "PerformanceRating           int64\n",
      "RelationshipSatisfaction    int64\n",
      "StandardHours               int64\n",
      "StockOptionLevel            int64\n",
      "TotalWorkingYears           int64\n",
      "TrainingTimesLastYear       int64\n",
      "WorkLifeBalance             int64\n",
      "YearsAtCompany              int64\n",
      "YearsInCurrentRole          int64\n",
      "YearsSinceLastPromotion     int64\n",
      "YearsWithCurrManager        int64\n",
      "Attrition                   int64\n",
      "dtype: object\n"
     ]
    }
   ],
   "source": [
    "print(df.dtypes)"
   ]
  },
  {
   "cell_type": "code",
   "execution_count": 6,
   "id": "fddb6d19",
   "metadata": {},
   "outputs": [],
   "source": [
    "# Her deler jeg datasettet inn i egenskaper (X) og target (y) (fjerner også den første kolonnen siden det bare er en ID \n",
    "# og har dermed ingen prediktiv verdi)\n",
    "\n",
    "X = df.iloc[:,1:-1]\n",
    "y = df.iloc[:,-1]\n",
    "\n",
    "# Tilslutt deler jeg inn i et trening- og et testsett (75%/25%)\n",
    "\n",
    "X_train, X_test, y_train, y_test = train_test_split(X,y,test_size=0.25, random_state=0)\n",
    "\n",
    "# PS: Ikke endre denne kodecellen!"
   ]
  },
  {
   "cell_type": "markdown",
   "id": "4d571797",
   "metadata": {},
   "source": [
    "#### Oppgave 2.1) \n",
    "Visualiser $y\\_train$ og $y\\_test$ i et histogram. Kan du, basert på figuren, se hva slags problem vi skal løse (regresjon/klassifisering)? Begrunn svaret"
   ]
  },
  {
   "cell_type": "code",
   "execution_count": 7,
   "id": "f85a7509",
   "metadata": {},
   "outputs": [
    {
     "data": {
      "image/png": "[encoded data removed]",
      "text/plain": [
       "<Figure size 640x480 with 1 Axes>"
      ]
     },
     "metadata": {},
     "output_type": "display_data"
    }
   ],
   "source": [
    "#TODO: visualiser y_train og y_test i et histogram\n",
    "plt.title(\"Target values\")\n",
    "plt.hist(y_train, density=True, color=\"C0\", label=\"train\")\n",
    "#plt.hist(y_test, density=True, color=\"C1\", alpha=0.75, label=\"val\")\n",
    "plt.hist(y_test, density=True, color=\"C2\", alpha=0.5, label=\"test\")\n",
    "plt.show() "
   ]
  },
  {
   "cell_type": "markdown",
   "id": "15176882",
   "metadata": {},
   "source": [
    "**Svar:**\n",
    "\n",
    "*< Klassifisering fordi det er to valg i mellom >*"
   ]
  },
  {
   "cell_type": "markdown",
   "id": "8386b719",
   "metadata": {},
   "source": [
    "<span style='color:red '> Riktig! Target er en binær variabel og derfor er det er klassifiseringsproblem  </span>"
   ]
  },
  {
   "cell_type": "markdown",
   "id": "dc4c9188",
   "metadata": {},
   "source": [
    "#### Oppgave 2.2)\n",
    "Velg to modeller og gjør repeterte kryssvalideringer $(10)$ med $K=5$\n",
    "* Velg hvorvidt du vil bruke \"default\" hyperparamtre for modellene eller om du vil gjøre et hyperparametersøk\n",
    "* Skår ytelsen til modellene ved hjelp av F1-score og accuracy\n",
    "* Visualiser F1-skårene fra de repeterte kryssvalideringene som et boksplot\n",
    "* Undersøk om modell 1 er bedre eller dårligere enn modell 2 ved å gjøre en to-sidig T-test på F1-skårene fra de repeterte kryssvalideringene \n",
    "* Tolk resultatene skriftlig til slutt \n"
   ]
  },
  {
   "cell_type": "code",
   "execution_count": 8,
   "id": "65335142",
   "metadata": {},
   "outputs": [],
   "source": [
    "#TODO: repeterte kryssvalideringer for to modeller"
   ]
  },
  {
   "cell_type": "code",
   "execution_count": 18,
   "id": "c64cb56c",
   "metadata": {},
   "outputs": [],
   "source": [
    "from sklearn.model_selection import RepeatedKFold\n",
    "#from sklearn.linear_model import LogisticRegression\n",
    "from sklearn.ensemble import RandomForestClassifier\n",
    "from sklearn.neural_network import MLPClassifier\n",
    "from sklearn.metrics import f1_score\n",
    "from sklearn.metrics import accuracy_score\n",
    "#from sklearn.model_selection import GridSearchCV, cross_val_score"
   ]
  },
  {
   "cell_type": "code",
   "execution_count": 19,
   "id": "02becedf",
   "metadata": {},
   "outputs": [],
   "source": [
    "rkf = RepeatedKFold(n_splits=5, n_repeats=10, random_state=0)\n",
    "#clf = RandomForestClassifier()"
   ]
  },
  {
   "cell_type": "code",
   "execution_count": 20,
   "id": "aae3a54a",
   "metadata": {},
   "outputs": [],
   "source": [
    "# modell 1 : RandomForestClassifier"
   ]
  },
  {
   "cell_type": "code",
   "execution_count": 21,
   "id": "d371c5eb",
   "metadata": {},
   "outputs": [],
   "source": [
    "f1_score_clf = []\n",
    "acc_score_clf = []\n",
    "for i, (train_index, val_index) in enumerate(rkf.split(X_train)):\n",
    "    #print(f'i = {i}')\n",
    "    X_train_cv, X_val_cv = X_train.iloc[train_index], X_train.iloc[val_index]\n",
    "    y_train_cv, y_val_cv = y_train.iloc[train_index], y_train.iloc[val_index]\n",
    "    \n",
    "    #logreg = LogisticRegression(solver='lbfgs',max_iter=10000)\n",
    "    #logreg.fit(X_train_cv, y_train_cv)\n",
    "    clf = RandomForestClassifier()\n",
    "    clf.fit(X_train_cv, y_train_cv)\n",
    "    \n",
    "    #y_val_hat = logreg.predict_proba(X_val_cv)[:,1]\n",
    "    y_val_hat = clf.predict_proba(X_val_cv)[:,1]\n",
    "    score = f1_score(y_val_cv,(y_val_hat>0.5)*1,average='binary').round(2)\n",
    "\n",
    "    score2 = accuracy_score(y_val_cv,(y_val_hat>0.5)*1).round(2)\n",
    "\n",
    "    f1_score_clf.append(score)\n",
    "    acc_score_clf.append(score2)"
   ]
  },
  {
   "cell_type": "code",
   "execution_count": 22,
   "id": "5dfb2459",
   "metadata": {},
   "outputs": [],
   "source": [
    "# modell 2: MLPClassifier"
   ]
  },
  {
   "cell_type": "code",
   "execution_count": 23,
   "id": "5b13c183",
   "metadata": {},
   "outputs": [],
   "source": [
    "f1_score_mlp = []\n",
    "acc_score_mlp = []\n",
    "for i, (train_index, val_index) in enumerate(rkf.split(X_train)): \n",
    "    \n",
    "    \n",
    "    X_train_cv, X_val_cv = X_train.iloc[train_index], X_train.iloc[val_index]\n",
    "    y_train_cv, y_val_cv = y_train.iloc[train_index], y_train.iloc[val_index]\n",
    "    \n",
    "    #mlp = MLPClassifier(random_state=1, max_iter=10000,solver=\"sgd\",learning_rate=\"adaptive\")\n",
    "    mlp = MLPClassifier()\n",
    "    mlp.fit(X_train_cv, y_train_cv)\n",
    "    \n",
    "    y_val_hat = mlp.predict_proba(X_val_cv)[:,1]\n",
    "    #print(f'y_hat {y_val_hat}')\n",
    "    #print(f'y_val_cv {y_val_cv}')\n",
    "    score = f1_score(y_val_cv,(y_val_hat>0.5)*1,average='binary').round(2)\n",
    "    #print(f'score {(y_val_hat>0.5)*1}')\n",
    "    score2 = accuracy_score(y_val_cv,(y_val_hat>0.5)*1).round(4)\n",
    "    \n",
    "    #print(\"F1-score = \",score)\n",
    "    f1_score_mlp.append(score)\n",
    "    acc_score_mlp.append(score2)"
   ]
  },
  {
   "cell_type": "code",
   "execution_count": 24,
   "id": "84fe7e04",
   "metadata": {},
   "outputs": [],
   "source": [
    "#f1_score_mlp\n",
    "#acc_score_mlp"
   ]
  },
  {
   "cell_type": "code",
   "execution_count": 25,
   "id": "5b6ff1f9",
   "metadata": {},
   "outputs": [
    {
     "data": {
      "image/png": "[encoded data removed]",
      "text/plain": [
       "<Figure size 640x480 with 1 Axes>"
      ]
     },
     "metadata": {},
     "output_type": "display_data"
    }
   ],
   "source": [
    "plt.boxplot([np.asarray(f1_score_clf),np.asarray(f1_score_mlp)])\n",
    "plt.ylim(-0.5,1)\n",
    "plt.xticks([1,2],[\"CLF\",\"MLP\"])\n",
    "plt.ylabel(\"F1-score\")\n",
    "plt.xlabel(\"Modeller\")\n",
    "plt.grid()\n",
    "plt.show()"
   ]
  },
  {
   "cell_type": "code",
   "execution_count": 26,
   "id": "3a24b3c8",
   "metadata": {},
   "outputs": [
    {
     "name": "stdout",
     "output_type": "stream",
     "text": [
      "t_stat : 2.583534761361815\n",
      "p_value : 0.0128134574635983\n",
      "The difference in F1 scores is statistically significant.\n"
     ]
    }
   ],
   "source": [
    "# Fra ChatGPT 14.nov.2023\n",
    "t_stat, p_value = ttest_rel(f1_score_clf, f1_score_mlp)\n",
    "\n",
    "print(f't_stat : {t_stat}')\n",
    "print(f'p_value : {p_value}')\n",
    "# Check if the difference is statistically significant\n",
    "alpha = 0.05\n",
    "if p_value < alpha:\n",
    "    print(\"The difference in F1 scores is statistically significant.\")\n",
    "else:\n",
    "    print(\"There is no significant difference in F1 scores.\")"
   ]
  },
  {
   "cell_type": "markdown",
   "id": "6f46c56f",
   "metadata": {},
   "source": [
    "**Svar:**\n",
    "\n",
    "*< modell 1 : RandomForestClassifier er nesten like lav som modell 2: MLPClassifier. Fra boxplot viser at f1_score av RandomForestClassifier er lit bedre enn f1_score av MLPClassifier og T-test viser at de ikke er statistisk signifikant. >*"
   ]
  },
  {
   "cell_type": "markdown",
   "id": "079f0f98",
   "metadata": {},
   "source": [
    "<span style='color:red '> Flott arbeid! Ser ut til at P-verdien ligger helt i grenseland. Når jeg kjørte koden fant jeg signifikant forskjell (p < 0.05), men dette kan være som følge av variansen til modellene og at vi tross alt kjører ganske få kryssvalideringsrunder (5*10)  </span>"
   ]
  },
  {
   "cell_type": "markdown",
   "id": "d2ff50c7",
   "metadata": {},
   "source": [
    "#### Oppgave 2.3) \n",
    "Tren de samme modellene men denne gangen med et balansert datasett\n",
    "* Bruk imbalaced learn og SMOTE til å oppsample minioritetsklassen (bare oppsample treningsdataene i kryssvalideringen - ikke valideringsdataene)\n",
    "* Skår ytelsen til modellene ved hjelp av F1-score og accuracy\n",
    "* Visualiser F1-skårene fra de repeterte kryssvalideringene som et boksplot\n",
    "* Undersøk om modell 1 er bedre eller dårligere enn modell 2 ved å gjøre en to-sidig T-test på F1-skårene fra de repeterte kryssvalideringene \n",
    "* Tolk resultatene og sammenlign resultatene med 2.2) "
   ]
  },
  {
   "cell_type": "code",
   "execution_count": 27,
   "id": "0c95e001",
   "metadata": {},
   "outputs": [],
   "source": [
    "#TODO: repeterte kryssvalideringer for de samme to modellene som i oppgave 2.2, men denne gangen med SMOTE-oppsampling \n",
    "#from imblearn.over_sampling import SMOTE"
   ]
  },
  {
   "cell_type": "code",
   "execution_count": null,
   "id": "d4696011",
   "metadata": {},
   "outputs": [],
   "source": []
  },
  {
   "cell_type": "code",
   "execution_count": 28,
   "id": "f4c0af0d",
   "metadata": {},
   "outputs": [],
   "source": [
    "from sklearn.metrics import accuracy_score, f1_score,confusion_matrix,recall_score,precision_score, classification_report, roc_curve, roc_auc_score"
   ]
  },
  {
   "cell_type": "code",
   "execution_count": 29,
   "id": "80c3c94f",
   "metadata": {},
   "outputs": [],
   "source": [
    "#!pip install -U imbalanced-learn"
   ]
  },
  {
   "cell_type": "code",
   "execution_count": 30,
   "id": "4bc2aa10",
   "metadata": {},
   "outputs": [],
   "source": [
    "from imblearn.over_sampling import SMOTE"
   ]
  },
  {
   "cell_type": "code",
   "execution_count": 31,
   "id": "67ee0335",
   "metadata": {},
   "outputs": [],
   "source": [
    "# Bruk imbalaced learn og SMOTE til å oppsample minioritetsklassen \n",
    "#(bare oppsample treningsdataene i kryssvalideringen - ikke valideringsdataene)"
   ]
  },
  {
   "cell_type": "code",
   "execution_count": 32,
   "id": "fba5a34d",
   "metadata": {},
   "outputs": [],
   "source": [
    "sampler = SMOTE(random_state=1,k_neighbors=5)\n",
    "X_train_upsample, y_train_upsample = sampler.fit_resample(X_train, y_train)"
   ]
  },
  {
   "cell_type": "code",
   "execution_count": null,
   "id": "ca303d63",
   "metadata": {},
   "outputs": [],
   "source": []
  },
  {
   "cell_type": "code",
   "execution_count": 33,
   "id": "19701dfc",
   "metadata": {},
   "outputs": [
    {
     "data": {
      "image/png": "[encoded data removed]",
      "text/plain": [
       "<Figure size 640x480 with 1 Axes>"
      ]
     },
     "metadata": {},
     "output_type": "display_data"
    }
   ],
   "source": [
    "plt.bar(x=np.unique(y_train_upsample, return_counts=True)[0], height= np.unique(y_train_upsample, return_counts=True)[1])\n",
    "plt.xticks([0,1],[\"Ikkeoppsagt\", \"Oppsagt\"])\n",
    "plt.xlabel(\"Oppsigelser\")\n",
    "plt.ylabel(\"Antall\")\n",
    "plt.savefig(\"Balanced.png\")\n",
    "plt.show()"
   ]
  },
  {
   "cell_type": "code",
   "execution_count": 34,
   "id": "3f148322",
   "metadata": {},
   "outputs": [],
   "source": [
    "# Modell 1: RandomForestClassifier"
   ]
  },
  {
   "cell_type": "code",
   "execution_count": 35,
   "id": "7f30024b",
   "metadata": {},
   "outputs": [],
   "source": [
    "sampler = SMOTE(random_state=1,k_neighbors=5)\n",
    "f1_score_upsample_clf = []\n",
    "acc_score_upsample_clf = []\n",
    "for i, (train_index, val_index) in enumerate(rkf.split(X_train)): \n",
    "    \n",
    "    \n",
    "    X_train_cv, X_val_cv = X_train.iloc[train_index], X_train.iloc[val_index]\n",
    "    y_train_cv, y_val_cv = y_train.iloc[train_index], y_train.iloc[val_index]\n",
    "    \n",
    "    X_train_upsample, y_train_upsample = sampler.fit_resample(X_train_cv, y_train_cv)\n",
    "    \n",
    "    clf = RandomForestClassifier()\n",
    "    clf.fit(X_train_upsample, y_train_upsample)\n",
    "    \n",
    "    y_val_hat = mlp.predict_proba(X_val_cv)[:,1]\n",
    "\n",
    "    score = f1_score(y_val_cv,(y_val_hat>0.5)*1,average='binary').round(2)\n",
    "\n",
    "    score2 = accuracy_score(y_val_cv,(y_val_hat>0.5)*1).round(4)\n",
    "    \n",
    "\n",
    "    f1_score_upsample_clf.append(score)\n",
    "    acc_score_upsample_clf.append(score2)"
   ]
  },
  {
   "cell_type": "code",
   "execution_count": 36,
   "id": "58f3abd1",
   "metadata": {},
   "outputs": [],
   "source": [
    "# Modell 2: MLPClassifier"
   ]
  },
  {
   "cell_type": "code",
   "execution_count": 37,
   "id": "e168ac07",
   "metadata": {},
   "outputs": [],
   "source": [
    "sampler = SMOTE(random_state=1,k_neighbors=5)\n",
    "f1_score_upsample_mlp = []\n",
    "acc_score_upsample_mlp = []\n",
    "for i, (train_index, val_index) in enumerate(rkf.split(X_train)): \n",
    "    \n",
    "    \n",
    "    X_train_cv, X_val_cv = X_train.iloc[train_index], X_train.iloc[val_index]\n",
    "    y_train_cv, y_val_cv = y_train.iloc[train_index], y_train.iloc[val_index]\n",
    "    \n",
    "    X_train_upsample, y_train_upsample = sampler.fit_resample(X_train_cv, y_train_cv)\n",
    "    \n",
    "    mlp = MLPClassifier()\n",
    "    mlp.fit(X_train_upsample, y_train_upsample)\n",
    "    \n",
    "    y_val_hat = mlp.predict_proba(X_val_cv)[:,1]\n",
    "\n",
    "    score = f1_score(y_val_cv,(y_val_hat>0.5)*1,average='binary').round(2)\n",
    "\n",
    "    score2 = accuracy_score(y_val_cv,(y_val_hat>0.5)*1).round(4)\n",
    "    \n",
    "\n",
    "    f1_score_upsample_mlp.append(score)\n",
    "    acc_score_upsample_mlp.append(score2)\n"
   ]
  },
  {
   "cell_type": "code",
   "execution_count": 38,
   "id": "2338c3ef",
   "metadata": {},
   "outputs": [
    {
     "data": {
      "image/png": "[encoded data removed]",
      "text/plain": [
       "<Figure size 640x480 with 1 Axes>"
      ]
     },
     "metadata": {},
     "output_type": "display_data"
    }
   ],
   "source": [
    "plt.boxplot([np.asarray(f1_score_upsample_clf),np.asarray(f1_score_upsample_mlp)])\n",
    "plt.ylim(-0.5,1)\n",
    "plt.xticks([1,2],[\"CLF\",\"MLP\"])\n",
    "plt.ylabel(\"F1-score\")\n",
    "plt.xlabel(\"Modeller\")\n",
    "plt.grid()\n",
    "plt.show()"
   ]
  },
  {
   "cell_type": "code",
   "execution_count": 39,
   "id": "fc9a7990",
   "metadata": {},
   "outputs": [
    {
     "name": "stdout",
     "output_type": "stream",
     "text": [
      "t_stat : 2.7514305608461718\n",
      "p_value : 0.008293453372224258\n",
      "The difference in F1 scores is statistically significant.\n"
     ]
    }
   ],
   "source": [
    "# Fra ChatGPT 14.nov.2023\n",
    "t_stat_upsample, p_value_upsample = ttest_rel(f1_score_upsample_clf, f1_score_upsample_mlp)\n",
    "\n",
    "print(f't_stat : {t_stat_upsample}')\n",
    "print(f'p_value : {p_value_upsample}')\n",
    "# Check if the difference is statistically significant\n",
    "alpha = 0.05\n",
    "if p_value_upsample < alpha:\n",
    "    print(\"The difference in F1 scores is statistically significant.\")\n",
    "else:\n",
    "    print(\"There is no significant difference in F1 scores.\")"
   ]
  },
  {
   "cell_type": "code",
   "execution_count": null,
   "id": "0a43c3aa",
   "metadata": {},
   "outputs": [],
   "source": []
  },
  {
   "cell_type": "markdown",
   "id": "08c962b2",
   "metadata": {},
   "source": [
    "**Svar:**\n",
    "\n",
    "*< Modell 1:RandomForestClassifier  er bedre enn modell 2:MLPClassifier når de er oppsamplet. P_value fra oppgave 2.2 er lavere enn p_value fra oppgave 2.3 >*"
   ]
  },
  {
   "cell_type": "markdown",
   "id": "31650820",
   "metadata": {},
   "source": [
    "<span style='color:red '> Bra jobbet! Savner en kommentar ang. ytelsen med og uten SMOTE. Ble modellene bedre?  </span>"
   ]
  },
  {
   "cell_type": "markdown",
   "id": "1225c5f6",
   "metadata": {},
   "source": [
    "#### Oppgave 2.4)\n",
    "Tren den beste modellen på nytt og utfør prediksjon på testsettet. Mål nå ytelsen på testsettet ved bruk av sensitivitet, spesifisitet og presisjon, itillegg til F1-skår og accuracy"
   ]
  },
  {
   "cell_type": "code",
   "execution_count": 40,
   "id": "7510cbcd",
   "metadata": {},
   "outputs": [],
   "source": [
    "#TODO: Tren den beste modellen fra 2.2 og 2.3 på alle treningsdataene og test på testdataene"
   ]
  },
  {
   "cell_type": "code",
   "execution_count": 41,
   "id": "40842ce0",
   "metadata": {},
   "outputs": [],
   "source": [
    "# Tren den beste modellen fra 2.3: den beste modell er clf med oppsamplet data siden den får høyeste F1-score."
   ]
  },
  {
   "cell_type": "code",
   "execution_count": 42,
   "id": "f86faa0a",
   "metadata": {},
   "outputs": [
    {
     "name": "stdout",
     "output_type": "stream",
     "text": [
      "F1-score =  0.23\n",
      "Sensitivitet =  1.0\n",
      "Spesifisitet =  0.1\n",
      "Presisjon =  0.13\n",
      "Accuracy =  0.21\n"
     ]
    }
   ],
   "source": [
    "sampler = SMOTE(random_state=1,k_neighbors=5)\n",
    "f1_score_upsample_clf = []\n",
    "acc_score_upsample_clf = []\n",
    "for i, (train_index, val_index) in enumerate(rkf.split(X_train)): \n",
    "    \n",
    "    \n",
    "    X_train_cv, X_val_cv = X_train.iloc[train_index], X_train.iloc[val_index]\n",
    "    y_train_cv, y_val_cv = y_train.iloc[train_index], y_train.iloc[val_index]\n",
    "    \n",
    "    X_train_upsample, y_train_upsample = sampler.fit_resample(X_train_cv, y_train_cv)\n",
    "    \n",
    "    clf = RandomForestClassifier()\n",
    "    clf.fit(X_train_upsample, y_train_upsample)\n",
    "    \n",
    "    y_val_hat = mlp.predict_proba(X_val_cv)[:,1]\n",
    "\n",
    "    score = f1_score(y_val_cv,(y_val_hat>0.5)*1,average='binary').round(2)\n",
    "\n",
    "    score2 = accuracy_score(y_val_cv,(y_val_hat>0.5)*1).round(4)\n",
    "    \n",
    "\n",
    "    f1_score_upsample_clf.append(score)\n",
    "    acc_score_upsample_clf.append(score2)\n",
    "    \n",
    "print(\"F1-score = \",f1_score(y_val_cv,(y_val_hat>0.5)*1,average='binary').round(2))\n",
    "print(\"Sensitivitet = \",recall_score(y_val_cv,(y_val_hat>0.5)*1,pos_label=1).round(2))\n",
    "print(\"Spesifisitet = \",recall_score(y_val_cv,(y_val_hat>0.5)*1,pos_label=0).round(2))\n",
    "print(\"Presisjon = \",precision_score(y_val_cv,(y_val_hat>0.5)*1).round(2))\n",
    "print(\"Accuracy = \",accuracy_score(y_val_cv,(y_val_hat>0.5)*1).round(2))"
   ]
  },
  {
   "cell_type": "markdown",
   "id": "6c22d749",
   "metadata": {},
   "source": [
    "### Svar \n",
    "F1-score =  0.25\n",
    "Sensitivitet =  0.53\n",
    "Spesifisitet =  0.62\n",
    "Presisjon =  0.16\n",
    "Accuracy =  0.61"
   ]
  },
  {
   "cell_type": "markdown",
   "id": "db707fb7",
   "metadata": {},
   "source": [
    "<span style='color:red '> Bra, men savner at du diskuterer resultatene fra kryssvalideringen opp mot resultatene fra testdataene  </span>"
   ]
  },
  {
   "cell_type": "markdown",
   "id": "52e749b6",
   "metadata": {},
   "source": [
    "#### Oppgave 2.5)\n",
    "Del opp testsettet basert på kjønn og gjør en analyse av sensitivitet, spesifisitet og presisjon for menn og det samme for kvinner. Skriv ut og diskuter resultatet og forsøk å svar på følgende spørsmål:\n",
    "* Er modellen like god for begge kjønn? \n",
    "* Hvis ikke, hva tror du er årsaken og hvilke tiltak kan vi gjøre for å forbedre modellen? "
   ]
  },
  {
   "cell_type": "code",
   "execution_count": 43,
   "id": "626d5b69",
   "metadata": {},
   "outputs": [],
   "source": [
    "#TODO: Gjør kjønnsbasert analyse på testdataene"
   ]
  },
  {
   "cell_type": "code",
   "execution_count": 44,
   "id": "114e1c23",
   "metadata": {},
   "outputs": [],
   "source": [
    "#Split data"
   ]
  },
  {
   "cell_type": "code",
   "execution_count": null,
   "id": "80abb2fa",
   "metadata": {},
   "outputs": [],
   "source": []
  },
  {
   "cell_type": "code",
   "execution_count": 45,
   "id": "af94aa44",
   "metadata": {},
   "outputs": [],
   "source": [
    "#X_val_cv.head()\n",
    "X_test_female = X_val_cv[X_val_cv['Gender'] == 1]\n",
    "X_test_male = X_val_cv[X_val_cv['Gender'] == 0]\n"
   ]
  },
  {
   "cell_type": "code",
   "execution_count": 46,
   "id": "c28f1d36",
   "metadata": {},
   "outputs": [],
   "source": [
    "# Analyse av sensitivitet, spesifisitet og presisjon for menn"
   ]
  },
  {
   "cell_type": "code",
   "execution_count": 47,
   "id": "15e4d8d4",
   "metadata": {},
   "outputs": [],
   "source": [
    "# Analyse av sensitivitet, spesifisitet og presisjon for Kvinner"
   ]
  },
  {
   "cell_type": "code",
   "execution_count": null,
   "id": "f16971de",
   "metadata": {},
   "outputs": [],
   "source": []
  },
  {
   "cell_type": "code",
   "execution_count": 51,
   "id": "75a66de7",
   "metadata": {},
   "outputs": [
    {
     "ename": "ValueError",
     "evalue": "Found input variables with inconsistent numbers of samples: [252, 155]",
     "output_type": "error",
     "traceback": [
      "\u001b[1;31m---------------------------------------------------------------------------\u001b[0m",
      "\u001b[1;31mValueError\u001b[0m                                Traceback (most recent call last)",
      "Cell \u001b[1;32mIn[51], line 18\u001b[0m\n\u001b[0;32m     13\u001b[0m     clf\u001b[38;5;241m.\u001b[39mfit(X_train_upsample, y_train_upsample)\n\u001b[0;32m     15\u001b[0m     y_val_hat \u001b[38;5;241m=\u001b[39m mlp\u001b[38;5;241m.\u001b[39mpredict_proba(X_test_male)[:,\u001b[38;5;241m1\u001b[39m]\n\u001b[1;32m---> 18\u001b[0m     score \u001b[38;5;241m=\u001b[39m \u001b[43mf1_score\u001b[49m\u001b[43m(\u001b[49m\u001b[43my_val_cv\u001b[49m\u001b[43m,\u001b[49m\u001b[43m(\u001b[49m\u001b[43my_val_hat\u001b[49m\u001b[38;5;241;43m>\u001b[39;49m\u001b[38;5;241;43m0.5\u001b[39;49m\u001b[43m)\u001b[49m\u001b[38;5;241;43m*\u001b[39;49m\u001b[38;5;241;43m1\u001b[39;49m\u001b[43m,\u001b[49m\u001b[43maverage\u001b[49m\u001b[38;5;241;43m=\u001b[39;49m\u001b[38;5;124;43m'\u001b[39;49m\u001b[38;5;124;43mbinary\u001b[39;49m\u001b[38;5;124;43m'\u001b[39;49m\u001b[43m)\u001b[49m\u001b[38;5;241m.\u001b[39mround(\u001b[38;5;241m2\u001b[39m)\n\u001b[0;32m     20\u001b[0m     score2 \u001b[38;5;241m=\u001b[39m accuracy_score(y_val_cv,(y_val_hat\u001b[38;5;241m>\u001b[39m\u001b[38;5;241m0.5\u001b[39m)\u001b[38;5;241m*\u001b[39m\u001b[38;5;241m1\u001b[39m)\u001b[38;5;241m.\u001b[39mround(\u001b[38;5;241m4\u001b[39m)\n\u001b[0;32m     23\u001b[0m     \u001b[38;5;66;03m#f1_score_upsample_clf.append(score)\u001b[39;00m\n\u001b[0;32m     24\u001b[0m     \u001b[38;5;66;03m#acc_score_upsample_clf.append(score2)\u001b[39;00m\n\u001b[0;32m     25\u001b[0m \u001b[38;5;66;03m#y_val_hat_male = y_val_hat[y_val_hat['Gender'] == 0]   \u001b[39;00m\n",
      "File \u001b[1;32m~\\anaconda3\\lib\\site-packages\\sklearn\\metrics\\_classification.py:1146\u001b[0m, in \u001b[0;36mf1_score\u001b[1;34m(y_true, y_pred, labels, pos_label, average, sample_weight, zero_division)\u001b[0m\n\u001b[0;32m   1011\u001b[0m \u001b[38;5;28;01mdef\u001b[39;00m \u001b[38;5;21mf1_score\u001b[39m(\n\u001b[0;32m   1012\u001b[0m     y_true,\n\u001b[0;32m   1013\u001b[0m     y_pred,\n\u001b[1;32m   (...)\u001b[0m\n\u001b[0;32m   1019\u001b[0m     zero_division\u001b[38;5;241m=\u001b[39m\u001b[38;5;124m\"\u001b[39m\u001b[38;5;124mwarn\u001b[39m\u001b[38;5;124m\"\u001b[39m,\n\u001b[0;32m   1020\u001b[0m ):\n\u001b[0;32m   1021\u001b[0m     \u001b[38;5;124;03m\"\"\"Compute the F1 score, also known as balanced F-score or F-measure.\u001b[39;00m\n\u001b[0;32m   1022\u001b[0m \n\u001b[0;32m   1023\u001b[0m \u001b[38;5;124;03m    The F1 score can be interpreted as a harmonic mean of the precision and\u001b[39;00m\n\u001b[1;32m   (...)\u001b[0m\n\u001b[0;32m   1144\u001b[0m \u001b[38;5;124;03m    array([0.66666667, 1.        , 0.66666667])\u001b[39;00m\n\u001b[0;32m   1145\u001b[0m \u001b[38;5;124;03m    \"\"\"\u001b[39;00m\n\u001b[1;32m-> 1146\u001b[0m     \u001b[38;5;28;01mreturn\u001b[39;00m \u001b[43mfbeta_score\u001b[49m\u001b[43m(\u001b[49m\n\u001b[0;32m   1147\u001b[0m \u001b[43m        \u001b[49m\u001b[43my_true\u001b[49m\u001b[43m,\u001b[49m\n\u001b[0;32m   1148\u001b[0m \u001b[43m        \u001b[49m\u001b[43my_pred\u001b[49m\u001b[43m,\u001b[49m\n\u001b[0;32m   1149\u001b[0m \u001b[43m        \u001b[49m\u001b[43mbeta\u001b[49m\u001b[38;5;241;43m=\u001b[39;49m\u001b[38;5;241;43m1\u001b[39;49m\u001b[43m,\u001b[49m\n\u001b[0;32m   1150\u001b[0m \u001b[43m        \u001b[49m\u001b[43mlabels\u001b[49m\u001b[38;5;241;43m=\u001b[39;49m\u001b[43mlabels\u001b[49m\u001b[43m,\u001b[49m\n\u001b[0;32m   1151\u001b[0m \u001b[43m        \u001b[49m\u001b[43mpos_label\u001b[49m\u001b[38;5;241;43m=\u001b[39;49m\u001b[43mpos_label\u001b[49m\u001b[43m,\u001b[49m\n\u001b[0;32m   1152\u001b[0m \u001b[43m        \u001b[49m\u001b[43maverage\u001b[49m\u001b[38;5;241;43m=\u001b[39;49m\u001b[43maverage\u001b[49m\u001b[43m,\u001b[49m\n\u001b[0;32m   1153\u001b[0m \u001b[43m        \u001b[49m\u001b[43msample_weight\u001b[49m\u001b[38;5;241;43m=\u001b[39;49m\u001b[43msample_weight\u001b[49m\u001b[43m,\u001b[49m\n\u001b[0;32m   1154\u001b[0m \u001b[43m        \u001b[49m\u001b[43mzero_division\u001b[49m\u001b[38;5;241;43m=\u001b[39;49m\u001b[43mzero_division\u001b[49m\u001b[43m,\u001b[49m\n\u001b[0;32m   1155\u001b[0m \u001b[43m    \u001b[49m\u001b[43m)\u001b[49m\n",
      "File \u001b[1;32m~\\anaconda3\\lib\\site-packages\\sklearn\\metrics\\_classification.py:1287\u001b[0m, in \u001b[0;36mfbeta_score\u001b[1;34m(y_true, y_pred, beta, labels, pos_label, average, sample_weight, zero_division)\u001b[0m\n\u001b[0;32m   1158\u001b[0m \u001b[38;5;28;01mdef\u001b[39;00m \u001b[38;5;21mfbeta_score\u001b[39m(\n\u001b[0;32m   1159\u001b[0m     y_true,\n\u001b[0;32m   1160\u001b[0m     y_pred,\n\u001b[1;32m   (...)\u001b[0m\n\u001b[0;32m   1167\u001b[0m     zero_division\u001b[38;5;241m=\u001b[39m\u001b[38;5;124m\"\u001b[39m\u001b[38;5;124mwarn\u001b[39m\u001b[38;5;124m\"\u001b[39m,\n\u001b[0;32m   1168\u001b[0m ):\n\u001b[0;32m   1169\u001b[0m     \u001b[38;5;124;03m\"\"\"Compute the F-beta score.\u001b[39;00m\n\u001b[0;32m   1170\u001b[0m \n\u001b[0;32m   1171\u001b[0m \u001b[38;5;124;03m    The F-beta score is the weighted harmonic mean of precision and recall,\u001b[39;00m\n\u001b[1;32m   (...)\u001b[0m\n\u001b[0;32m   1284\u001b[0m \u001b[38;5;124;03m    array([0.71..., 0.        , 0.        ])\u001b[39;00m\n\u001b[0;32m   1285\u001b[0m \u001b[38;5;124;03m    \"\"\"\u001b[39;00m\n\u001b[1;32m-> 1287\u001b[0m     _, _, f, _ \u001b[38;5;241m=\u001b[39m \u001b[43mprecision_recall_fscore_support\u001b[49m\u001b[43m(\u001b[49m\n\u001b[0;32m   1288\u001b[0m \u001b[43m        \u001b[49m\u001b[43my_true\u001b[49m\u001b[43m,\u001b[49m\n\u001b[0;32m   1289\u001b[0m \u001b[43m        \u001b[49m\u001b[43my_pred\u001b[49m\u001b[43m,\u001b[49m\n\u001b[0;32m   1290\u001b[0m \u001b[43m        \u001b[49m\u001b[43mbeta\u001b[49m\u001b[38;5;241;43m=\u001b[39;49m\u001b[43mbeta\u001b[49m\u001b[43m,\u001b[49m\n\u001b[0;32m   1291\u001b[0m \u001b[43m        \u001b[49m\u001b[43mlabels\u001b[49m\u001b[38;5;241;43m=\u001b[39;49m\u001b[43mlabels\u001b[49m\u001b[43m,\u001b[49m\n\u001b[0;32m   1292\u001b[0m \u001b[43m        \u001b[49m\u001b[43mpos_label\u001b[49m\u001b[38;5;241;43m=\u001b[39;49m\u001b[43mpos_label\u001b[49m\u001b[43m,\u001b[49m\n\u001b[0;32m   1293\u001b[0m \u001b[43m        \u001b[49m\u001b[43maverage\u001b[49m\u001b[38;5;241;43m=\u001b[39;49m\u001b[43maverage\u001b[49m\u001b[43m,\u001b[49m\n\u001b[0;32m   1294\u001b[0m \u001b[43m        \u001b[49m\u001b[43mwarn_for\u001b[49m\u001b[38;5;241;43m=\u001b[39;49m\u001b[43m(\u001b[49m\u001b[38;5;124;43m\"\u001b[39;49m\u001b[38;5;124;43mf-score\u001b[39;49m\u001b[38;5;124;43m\"\u001b[39;49m\u001b[43m,\u001b[49m\u001b[43m)\u001b[49m\u001b[43m,\u001b[49m\n\u001b[0;32m   1295\u001b[0m \u001b[43m        \u001b[49m\u001b[43msample_weight\u001b[49m\u001b[38;5;241;43m=\u001b[39;49m\u001b[43msample_weight\u001b[49m\u001b[43m,\u001b[49m\n\u001b[0;32m   1296\u001b[0m \u001b[43m        \u001b[49m\u001b[43mzero_division\u001b[49m\u001b[38;5;241;43m=\u001b[39;49m\u001b[43mzero_division\u001b[49m\u001b[43m,\u001b[49m\n\u001b[0;32m   1297\u001b[0m \u001b[43m    \u001b[49m\u001b[43m)\u001b[49m\n\u001b[0;32m   1298\u001b[0m     \u001b[38;5;28;01mreturn\u001b[39;00m f\n",
      "File \u001b[1;32m~\\anaconda3\\lib\\site-packages\\sklearn\\metrics\\_classification.py:1573\u001b[0m, in \u001b[0;36mprecision_recall_fscore_support\u001b[1;34m(y_true, y_pred, beta, labels, pos_label, average, warn_for, sample_weight, zero_division)\u001b[0m\n\u001b[0;32m   1571\u001b[0m \u001b[38;5;28;01mif\u001b[39;00m beta \u001b[38;5;241m<\u001b[39m \u001b[38;5;241m0\u001b[39m:\n\u001b[0;32m   1572\u001b[0m     \u001b[38;5;28;01mraise\u001b[39;00m \u001b[38;5;167;01mValueError\u001b[39;00m(\u001b[38;5;124m\"\u001b[39m\u001b[38;5;124mbeta should be >=0 in the F-beta score\u001b[39m\u001b[38;5;124m\"\u001b[39m)\n\u001b[1;32m-> 1573\u001b[0m labels \u001b[38;5;241m=\u001b[39m \u001b[43m_check_set_wise_labels\u001b[49m\u001b[43m(\u001b[49m\u001b[43my_true\u001b[49m\u001b[43m,\u001b[49m\u001b[43m \u001b[49m\u001b[43my_pred\u001b[49m\u001b[43m,\u001b[49m\u001b[43m \u001b[49m\u001b[43maverage\u001b[49m\u001b[43m,\u001b[49m\u001b[43m \u001b[49m\u001b[43mlabels\u001b[49m\u001b[43m,\u001b[49m\u001b[43m \u001b[49m\u001b[43mpos_label\u001b[49m\u001b[43m)\u001b[49m\n\u001b[0;32m   1575\u001b[0m \u001b[38;5;66;03m# Calculate tp_sum, pred_sum, true_sum ###\u001b[39;00m\n\u001b[0;32m   1576\u001b[0m samplewise \u001b[38;5;241m=\u001b[39m average \u001b[38;5;241m==\u001b[39m \u001b[38;5;124m\"\u001b[39m\u001b[38;5;124msamples\u001b[39m\u001b[38;5;124m\"\u001b[39m\n",
      "File \u001b[1;32m~\\anaconda3\\lib\\site-packages\\sklearn\\metrics\\_classification.py:1374\u001b[0m, in \u001b[0;36m_check_set_wise_labels\u001b[1;34m(y_true, y_pred, average, labels, pos_label)\u001b[0m\n\u001b[0;32m   1371\u001b[0m \u001b[38;5;28;01mif\u001b[39;00m average \u001b[38;5;129;01mnot\u001b[39;00m \u001b[38;5;129;01min\u001b[39;00m average_options \u001b[38;5;129;01mand\u001b[39;00m average \u001b[38;5;241m!=\u001b[39m \u001b[38;5;124m\"\u001b[39m\u001b[38;5;124mbinary\u001b[39m\u001b[38;5;124m\"\u001b[39m:\n\u001b[0;32m   1372\u001b[0m     \u001b[38;5;28;01mraise\u001b[39;00m \u001b[38;5;167;01mValueError\u001b[39;00m(\u001b[38;5;124m\"\u001b[39m\u001b[38;5;124maverage has to be one of \u001b[39m\u001b[38;5;124m\"\u001b[39m \u001b[38;5;241m+\u001b[39m \u001b[38;5;28mstr\u001b[39m(average_options))\n\u001b[1;32m-> 1374\u001b[0m y_type, y_true, y_pred \u001b[38;5;241m=\u001b[39m \u001b[43m_check_targets\u001b[49m\u001b[43m(\u001b[49m\u001b[43my_true\u001b[49m\u001b[43m,\u001b[49m\u001b[43m \u001b[49m\u001b[43my_pred\u001b[49m\u001b[43m)\u001b[49m\n\u001b[0;32m   1375\u001b[0m \u001b[38;5;66;03m# Convert to Python primitive type to avoid NumPy type / Python str\u001b[39;00m\n\u001b[0;32m   1376\u001b[0m \u001b[38;5;66;03m# comparison. See https://github.com/numpy/numpy/issues/6784\u001b[39;00m\n\u001b[0;32m   1377\u001b[0m present_labels \u001b[38;5;241m=\u001b[39m unique_labels(y_true, y_pred)\u001b[38;5;241m.\u001b[39mtolist()\n",
      "File \u001b[1;32m~\\anaconda3\\lib\\site-packages\\sklearn\\metrics\\_classification.py:86\u001b[0m, in \u001b[0;36m_check_targets\u001b[1;34m(y_true, y_pred)\u001b[0m\n\u001b[0;32m     59\u001b[0m \u001b[38;5;28;01mdef\u001b[39;00m \u001b[38;5;21m_check_targets\u001b[39m(y_true, y_pred):\n\u001b[0;32m     60\u001b[0m     \u001b[38;5;124;03m\"\"\"Check that y_true and y_pred belong to the same classification task.\u001b[39;00m\n\u001b[0;32m     61\u001b[0m \n\u001b[0;32m     62\u001b[0m \u001b[38;5;124;03m    This converts multiclass or binary types to a common shape, and raises a\u001b[39;00m\n\u001b[1;32m   (...)\u001b[0m\n\u001b[0;32m     84\u001b[0m \u001b[38;5;124;03m    y_pred : array or indicator matrix\u001b[39;00m\n\u001b[0;32m     85\u001b[0m \u001b[38;5;124;03m    \"\"\"\u001b[39;00m\n\u001b[1;32m---> 86\u001b[0m     \u001b[43mcheck_consistent_length\u001b[49m\u001b[43m(\u001b[49m\u001b[43my_true\u001b[49m\u001b[43m,\u001b[49m\u001b[43m \u001b[49m\u001b[43my_pred\u001b[49m\u001b[43m)\u001b[49m\n\u001b[0;32m     87\u001b[0m     type_true \u001b[38;5;241m=\u001b[39m type_of_target(y_true, input_name\u001b[38;5;241m=\u001b[39m\u001b[38;5;124m\"\u001b[39m\u001b[38;5;124my_true\u001b[39m\u001b[38;5;124m\"\u001b[39m)\n\u001b[0;32m     88\u001b[0m     type_pred \u001b[38;5;241m=\u001b[39m type_of_target(y_pred, input_name\u001b[38;5;241m=\u001b[39m\u001b[38;5;124m\"\u001b[39m\u001b[38;5;124my_pred\u001b[39m\u001b[38;5;124m\"\u001b[39m)\n",
      "File \u001b[1;32m~\\anaconda3\\lib\\site-packages\\sklearn\\utils\\validation.py:397\u001b[0m, in \u001b[0;36mcheck_consistent_length\u001b[1;34m(*arrays)\u001b[0m\n\u001b[0;32m    395\u001b[0m uniques \u001b[38;5;241m=\u001b[39m np\u001b[38;5;241m.\u001b[39munique(lengths)\n\u001b[0;32m    396\u001b[0m \u001b[38;5;28;01mif\u001b[39;00m \u001b[38;5;28mlen\u001b[39m(uniques) \u001b[38;5;241m>\u001b[39m \u001b[38;5;241m1\u001b[39m:\n\u001b[1;32m--> 397\u001b[0m     \u001b[38;5;28;01mraise\u001b[39;00m \u001b[38;5;167;01mValueError\u001b[39;00m(\n\u001b[0;32m    398\u001b[0m         \u001b[38;5;124m\"\u001b[39m\u001b[38;5;124mFound input variables with inconsistent numbers of samples: \u001b[39m\u001b[38;5;132;01m%r\u001b[39;00m\u001b[38;5;124m\"\u001b[39m\n\u001b[0;32m    399\u001b[0m         \u001b[38;5;241m%\u001b[39m [\u001b[38;5;28mint\u001b[39m(l) \u001b[38;5;28;01mfor\u001b[39;00m l \u001b[38;5;129;01min\u001b[39;00m lengths]\n\u001b[0;32m    400\u001b[0m     )\n",
      "\u001b[1;31mValueError\u001b[0m: Found input variables with inconsistent numbers of samples: [252, 155]"
     ]
    }
   ],
   "source": [
    "sampler = SMOTE(random_state=1,k_neighbors=5)\n",
    "f1_score_upsample_clf = []\n",
    "acc_score_upsample_clf = []\n",
    "for i, (train_male_index, val_index) in enumerate(rkf.split(X_train)): \n",
    "    \n",
    "    \n",
    "    X_train_cv, X_val_cv = X_train.iloc[train_index], X_train.iloc[val_index]\n",
    "    y_train_cv, y_val_cv = y_train.iloc[train_index], y_train.iloc[val_index]\n",
    "    \n",
    "    X_train_upsample, y_train_upsample = sampler.fit_resample(X_train_cv, y_train_cv)\n",
    "    \n",
    "    clf = RandomForestClassifier()\n",
    "    clf.fit(X_train_upsample, y_train_upsample)\n",
    "    \n",
    "    y_val_hat = mlp.predict_proba(X_test_male)[:,1]\n",
    "\n",
    "    \n",
    "    score = f1_score(y_val_cv,(y_val_hat>0.5)*1,average='binary').round(2)\n",
    "\n",
    "    score2 = accuracy_score(y_val_cv,(y_val_hat>0.5)*1).round(4)\n",
    "    \n",
    "\n",
    "    #f1_score_upsample_clf.append(score)\n",
    "    #acc_score_upsample_clf.append(score2)\n",
    "#y_val_hat_male = y_val_hat[y_val_hat['Gender'] == 0]   \n",
    "print(\"F1-score Male = \",f1_score(y_val_cv,(y_val_hat>0.5)*1,average='binary').round(2))\n",
    "print(\"Sensitivitet Male = \",recall_score(y_val_cv,(y_val_hat>0.5)*1,pos_label=1).round(2))\n",
    "print(\"Spesifisitet Male = \",recall_score(y_val_cv,(y_val_hat>0.5)*1,pos_label=0).round(2))\n",
    "print(\"Presisjon Male = \",precision_score(y_val_cv,(y_val_hat>0.5)*1).round(2))\n",
    "print(\"Accuracy Male = \",accuracy_score(y_val_cv,(y_val_hat>0.5)*1).round(2))"
   ]
  },
  {
   "cell_type": "code",
   "execution_count": null,
   "id": "b64dabf4",
   "metadata": {},
   "outputs": [],
   "source": []
  },
  {
   "cell_type": "code",
   "execution_count": null,
   "id": "a8ed98b3",
   "metadata": {},
   "outputs": [],
   "source": [
    "# Jeg klarer ikke å filtere både X og y data samtidlig. Så sammenligning fungere ikke"
   ]
  },
  {
   "cell_type": "markdown",
   "id": "19ccc46e",
   "metadata": {},
   "source": [
    "<span style='color:red '> Her ble det litt feil. Nedfor har jeg lagt til et løsningsforslag til denne deloppgaven </span>"
   ]
  },
  {
   "cell_type": "code",
   "execution_count": 52,
   "id": "dbfdc792",
   "metadata": {},
   "outputs": [
    {
     "name": "stdout",
     "output_type": "stream",
     "text": [
      "Performance Metrics for Women:\n",
      "Precision: 0.42857142857142855\n",
      "Recall (Sensitivity): 0.21428571428571427\n",
      "Specificity: 0.9738562091503268\n",
      "F1-Score: 0.2857142857142857\n",
      "Accuracy: 0.9101796407185628\n",
      "\n",
      "Performance Metrics for Men:\n",
      "Precision: 0.5238095238095238\n",
      "Recall (Sensitivity): 0.3055555555555556\n",
      "Specificity: 0.9539170506912442\n",
      "F1-Score: 0.3859649122807018\n",
      "Accuracy: 0.8616600790513834\n"
     ]
    }
   ],
   "source": [
    "from sklearn.metrics import precision_score, recall_score, accuracy_score, f1_score, confusion_matrix\n",
    "\n",
    "sampler = SMOTE(random_state=1,k_neighbors=5)\n",
    "\n",
    "# Assuming you have the predictions (y_pred) and true labels (y_test) for the entire test set\n",
    "\n",
    "# Split the test set based on gender\n",
    "women_indices = X_test['Gender'] == 1\n",
    "men_indices = X_test['Gender'] == 0\n",
    "\n",
    "X_test_women = X_test.loc[women_indices]\n",
    "y_test_women = y_test[women_indices]\n",
    "\n",
    "X_test_men = X_test.loc[men_indices]\n",
    "y_test_men = y_test[men_indices]\n",
    "\n",
    "X_train_upsample, y_train_upsample = sampler.fit_resample(X_train_cv, y_train_cv)\n",
    "\n",
    "clf = RandomForestClassifier()\n",
    "clf.fit(X_train_upsample, y_train_upsample)\n",
    "\n",
    "# Predictions for women\n",
    "y_pred_women = clf.predict(X_test_women)\n",
    "\n",
    "# Predictions for men\n",
    "y_pred_men = clf.predict(X_test_men)\n",
    "\n",
    "# Calculate performance metrics for women\n",
    "precision_women = precision_score(y_test_women, y_pred_women)\n",
    "recall_women = recall_score(y_test_women, y_pred_women)\n",
    "accuracy_women = accuracy_score(y_test_women, y_pred_women)\n",
    "f1_women = f1_score(y_test_women, y_pred_women)\n",
    "\n",
    "# Calculate confusion matrix for sensitivity and specificity for women\n",
    "conf_matrix_women = confusion_matrix(y_test_women, y_pred_women)\n",
    "tn_women, fp_women, fn_women, tp_women = conf_matrix_women.ravel()\n",
    "sensitivity_women = tp_women / (tp_women + fn_women)\n",
    "specificity_women = tn_women / (tn_women + fp_women)\n",
    "\n",
    "# Print the performance metrics for women\n",
    "print(\"Performance Metrics for Women:\")\n",
    "print(f'Precision: {precision_women}')\n",
    "print(f'Recall (Sensitivity): {sensitivity_women}')\n",
    "print(f'Specificity: {specificity_women}')\n",
    "print(f'F1-Score: {f1_women}')\n",
    "print(f'Accuracy: {accuracy_women}')\n",
    "\n",
    "# Calculate performance metrics for men\n",
    "precision_men = precision_score(y_test_men, y_pred_men)\n",
    "recall_men = recall_score(y_test_men, y_pred_men)\n",
    "accuracy_men = accuracy_score(y_test_men, y_pred_men)\n",
    "f1_men = f1_score(y_test_men, y_pred_men)\n",
    "\n",
    "# Calculate confusion matrix for sensitivity and specificity for men\n",
    "conf_matrix_men = confusion_matrix(y_test_men, y_pred_men)\n",
    "tn_men, fp_men, fn_men, tp_men = conf_matrix_men.ravel()\n",
    "sensitivity_men = tp_men / (tp_men + fn_men)\n",
    "specificity_men = tn_men / (tn_men + fp_men)\n",
    "\n",
    "# Print the performance metrics for men\n",
    "print(\"\\nPerformance Metrics for Men:\")\n",
    "print(f'Precision: {precision_men}')\n",
    "print(f'Recall (Sensitivity): {sensitivity_men}')\n",
    "print(f'Specificity: {specificity_men}')\n",
    "print(f'F1-Score: {f1_men}')\n",
    "print(f'Accuracy: {accuracy_men}')"
   ]
  },
  {
   "cell_type": "markdown",
   "id": "3a868ac7",
   "metadata": {},
   "source": [
    "Kjør denne cellen til slutt og legg ved den genererte requirements.txt fila i pull requestet"
   ]
  },
  {
   "cell_type": "code",
   "execution_count": null,
   "id": "6b0cedd7",
   "metadata": {},
   "outputs": [],
   "source": []
  },
  {
   "cell_type": "code",
   "execution_count": null,
   "id": "8c619674",
   "metadata": {},
   "outputs": [],
   "source": []
  },
  {
   "cell_type": "code",
   "execution_count": 262,
   "id": "8e3ef598",
   "metadata": {},
   "outputs": [],
   "source": [
    "!pip freeze > requirements.txt"
   ]
  },
  {
   "cell_type": "code",
   "execution_count": null,
   "id": "c488703e",
   "metadata": {},
   "outputs": [],
   "source": []
  }
 ],
 "metadata": {
  "kernelspec": {
   "display_name": "Python 3 (ipykernel)",
   "language": "python",
   "name": "python3"
  },
  "language_info": {
   "codemirror_mode": {
    "name": "ipython",
    "version": 3
   },
   "file_extension": ".py",
   "mimetype": "text/x-python",
   "name": "python",
   "nbconvert_exporter": "python",
   "pygments_lexer": "ipython3",
   "version": "3.8.5"
  }
 },
 "nbformat": 4,
 "nbformat_minor": 5
}
