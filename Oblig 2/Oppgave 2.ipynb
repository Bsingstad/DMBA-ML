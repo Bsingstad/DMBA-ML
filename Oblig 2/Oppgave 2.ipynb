{
 "cells": [
  {
   "cell_type": "markdown",
   "id": "bf1138c7",
   "metadata": {},
   "source": [
    "# Obligatorisk innlevering 2 - oppgave 2"
   ]
  },
  {
   "cell_type": "markdown",
   "id": "e8d8e9f7",
   "metadata": {},
   "source": [
    "I denne oppgaven skal vi forsøke å forutsi oppsigelser ved en arbeidsplass basert på en rekke variabler som f.eks alder, kjønn, utdannelse, lønn, osv."
   ]
  },
  {
   "cell_type": "code",
   "execution_count": 2,
   "id": "05baf6b1",
   "metadata": {},
   "outputs": [],
   "source": [
    "import pandas as pd\n",
    "from sklearn.model_selection import train_test_split"
   ]
  },
  {
   "cell_type": "code",
   "execution_count": 3,
   "id": "768f6d65",
   "metadata": {},
   "outputs": [],
   "source": [
    "# I denne oppgaven skal dere bruke følgende datasett:\n",
    "df = pd.read_csv(\"./datasett2.csv\")"
   ]
  },
  {
   "cell_type": "code",
   "execution_count": 4,
   "id": "f81b4467",
   "metadata": {},
   "outputs": [
    {
     "name": "stdout",
     "output_type": "stream",
     "text": [
      "<class 'pandas.core.frame.DataFrame'>\n",
      "RangeIndex: 1677 entries, 0 to 1676\n",
      "Data columns (total 35 columns):\n",
      " #   Column                    Non-Null Count  Dtype \n",
      "---  ------                    --------------  ----- \n",
      " 0   id                        1677 non-null   int64 \n",
      " 1   Age                       1677 non-null   int64 \n",
      " 2   BusinessTravel            1677 non-null   object\n",
      " 3   DailyRate                 1677 non-null   int64 \n",
      " 4   Department                1677 non-null   object\n",
      " 5   DistanceFromHome          1677 non-null   int64 \n",
      " 6   Education                 1677 non-null   int64 \n",
      " 7   EducationField            1677 non-null   object\n",
      " 8   EmployeeCount             1677 non-null   int64 \n",
      " 9   EnvironmentSatisfaction   1677 non-null   int64 \n",
      " 10  Gender                    1677 non-null   object\n",
      " 11  HourlyRate                1677 non-null   int64 \n",
      " 12  JobInvolvement            1677 non-null   int64 \n",
      " 13  JobLevel                  1677 non-null   int64 \n",
      " 14  JobRole                   1677 non-null   object\n",
      " 15  JobSatisfaction           1677 non-null   int64 \n",
      " 16  MaritalStatus             1677 non-null   object\n",
      " 17  MonthlyIncome             1677 non-null   int64 \n",
      " 18  MonthlyRate               1677 non-null   int64 \n",
      " 19  NumCompaniesWorked        1677 non-null   int64 \n",
      " 20  Over18                    1677 non-null   object\n",
      " 21  OverTime                  1677 non-null   object\n",
      " 22  PercentSalaryHike         1677 non-null   int64 \n",
      " 23  PerformanceRating         1677 non-null   int64 \n",
      " 24  RelationshipSatisfaction  1677 non-null   int64 \n",
      " 25  StandardHours             1677 non-null   int64 \n",
      " 26  StockOptionLevel          1677 non-null   int64 \n",
      " 27  TotalWorkingYears         1677 non-null   int64 \n",
      " 28  TrainingTimesLastYear     1677 non-null   int64 \n",
      " 29  WorkLifeBalance           1677 non-null   int64 \n",
      " 30  YearsAtCompany            1677 non-null   int64 \n",
      " 31  YearsInCurrentRole        1677 non-null   int64 \n",
      " 32  YearsSinceLastPromotion   1677 non-null   int64 \n",
      " 33  YearsWithCurrManager      1677 non-null   int64 \n",
      " 34  Attrition                 1677 non-null   int64 \n",
      "dtypes: int64(27), object(8)\n",
      "memory usage: 458.7+ KB\n"
     ]
    }
   ],
   "source": [
    "df.info()"
   ]
  },
  {
   "cell_type": "code",
   "execution_count": 5,
   "id": "97a94339",
   "metadata": {},
   "outputs": [
    {
     "data": {
      "text/plain": [
       "(1677, 35)"
      ]
     },
     "execution_count": 5,
     "metadata": {},
     "output_type": "execute_result"
    }
   ],
   "source": [
    "df.shape"
   ]
  },
  {
   "cell_type": "markdown",
   "id": "9aa8ce4d",
   "metadata": {},
   "source": [
    "### Preprosessering:\n",
    "For å forenkle håndteringen av kategoriske data har jeg her skrevet noe kode som gjør om strenger til intergers\n",
    "\n",
    "Følgende kolonner er formatert som *object* og inneholder kategoriske variabler i form av strenger"
   ]
  },
  {
   "cell_type": "code",
   "execution_count": 6,
   "id": "46c64c03",
   "metadata": {
    "scrolled": true
   },
   "outputs": [
    {
     "name": "stdout",
     "output_type": "stream",
     "text": [
      "Index(['BusinessTravel', 'Department', 'EducationField', 'Gender', 'JobRole',\n",
      "       'MaritalStatus', 'Over18', 'OverTime'],\n",
      "      dtype='object')\n"
     ]
    }
   ],
   "source": [
    "kolonner_obj = df.select_dtypes(include=['object']).columns\n",
    "print(kolonner_obj)"
   ]
  },
  {
   "cell_type": "markdown",
   "id": "dc187ed1",
   "metadata": {},
   "source": [
    "I koden under omformer jeg strengene til integers og gir dere \"nøkkelen\" til å konvertere det tilbake igjen"
   ]
  },
  {
   "cell_type": "code",
   "execution_count": 7,
   "id": "81141f95",
   "metadata": {},
   "outputs": [
    {
     "name": "stdout",
     "output_type": "stream",
     "text": [
      "-----------\n",
      "BusinessTravel\n",
      "-----------\n",
      "Travel_Frequently = 0\n",
      "Travel_Rarely = 1\n",
      "Non-Travel = 2\n",
      "-----------\n",
      "Department\n",
      "-----------\n",
      "Research & Development = 0\n",
      "Sales = 1\n",
      "Human Resources = 2\n",
      "-----------\n",
      "EducationField\n",
      "-----------\n",
      "Medical = 0\n",
      "Other = 1\n",
      "Marketing = 2\n",
      "Life Sciences = 3\n",
      "Technical Degree = 4\n",
      "Human Resources = 5\n",
      "-----------\n",
      "Gender\n",
      "-----------\n",
      "Male = 0\n",
      "Female = 1\n",
      "-----------\n",
      "JobRole\n",
      "-----------\n",
      "Laboratory Technician = 0\n",
      "Sales Representative = 1\n",
      "Sales Executive = 2\n",
      "Healthcare Representative = 3\n",
      "Manager = 4\n",
      "Manufacturing Director = 5\n",
      "Research Scientist = 6\n",
      "Human Resources = 7\n",
      "Research Director = 8\n",
      "-----------\n",
      "MaritalStatus\n",
      "-----------\n",
      "Married = 0\n",
      "Divorced = 1\n",
      "Single = 2\n",
      "-----------\n",
      "Over18\n",
      "-----------\n",
      "Y = 0\n",
      "-----------\n",
      "OverTime\n",
      "-----------\n",
      "Yes = 0\n",
      "No = 1\n"
     ]
    }
   ],
   "source": [
    "for i in kolonner_obj:\n",
    "    print(\"-----------\")\n",
    "    print(i)\n",
    "    print(\"-----------\")\n",
    "    for num, j in enumerate(list(df[i].unique())):\n",
    "        print(\"{} = {}\".format(j,num))\n",
    "        df[i].loc[df[i]==j] = num\n",
    "    df[i] = pd.to_numeric(df[i])"
   ]
  },
  {
   "cell_type": "markdown",
   "id": "8005f086",
   "metadata": {},
   "source": [
    "I outputen fra koden nedenfor viser datatypen til de forskjellige kolonnene, som nå etter preprosesseringen bare består av integers (int64). "
   ]
  },
  {
   "cell_type": "code",
   "execution_count": 8,
   "id": "778b6336",
   "metadata": {},
   "outputs": [
    {
     "name": "stdout",
     "output_type": "stream",
     "text": [
      "id                          int64\n",
      "Age                         int64\n",
      "BusinessTravel              int64\n",
      "DailyRate                   int64\n",
      "Department                  int64\n",
      "DistanceFromHome            int64\n",
      "Education                   int64\n",
      "EducationField              int64\n",
      "EmployeeCount               int64\n",
      "EnvironmentSatisfaction     int64\n",
      "Gender                      int64\n",
      "HourlyRate                  int64\n",
      "JobInvolvement              int64\n",
      "JobLevel                    int64\n",
      "JobRole                     int64\n",
      "JobSatisfaction             int64\n",
      "MaritalStatus               int64\n",
      "MonthlyIncome               int64\n",
      "MonthlyRate                 int64\n",
      "NumCompaniesWorked          int64\n",
      "Over18                      int64\n",
      "OverTime                    int64\n",
      "PercentSalaryHike           int64\n",
      "PerformanceRating           int64\n",
      "RelationshipSatisfaction    int64\n",
      "StandardHours               int64\n",
      "StockOptionLevel            int64\n",
      "TotalWorkingYears           int64\n",
      "TrainingTimesLastYear       int64\n",
      "WorkLifeBalance             int64\n",
      "YearsAtCompany              int64\n",
      "YearsInCurrentRole          int64\n",
      "YearsSinceLastPromotion     int64\n",
      "YearsWithCurrManager        int64\n",
      "Attrition                   int64\n",
      "dtype: object\n"
     ]
    }
   ],
   "source": [
    "print(df.dtypes)"
   ]
  },
  {
   "cell_type": "code",
   "execution_count": 9,
   "id": "fddb6d19",
   "metadata": {},
   "outputs": [],
   "source": [
    "# Her deler jeg datasettet inn i egenskaper (X) og target (y) (fjerner også den første kolonnen siden det bare er en ID \n",
    "# og har dermed ingen prediktiv verdi)\n",
    "\n",
    "X = df.iloc[:,1:-1]\n",
    "y = df.iloc[:,-1]\n",
    "\n",
    "# Tilslutt deler jeg inn i et trening- og et testsett (75%/25%)\n",
    "\n",
    "X_train, X_test, y_train, y_test = train_test_split(X,y,test_size=0.25, random_state=0)\n",
    "\n",
    "# PS: Ikke endre denne kodecellen!"
   ]
  },
  {
   "cell_type": "markdown",
   "id": "4d571797",
   "metadata": {},
   "source": [
    "#### Oppgave 2.1) \n",
    "Visualiser $y\\_train$ og $y\\_val$ i et histogram. Kan du, basert på figuren, se hva slags problem vi skal løse (regresjon/klassifisering)? Begrunn svaret"
   ]
  },
  {
   "cell_type": "code",
   "execution_count": 10,
   "id": "f85a7509",
   "metadata": {},
   "outputs": [
    {
     "data": {
      "text/plain": [
       "Text(0.5, 1.0, 'Histogram of y_train and y_test')"
      ]
     },
     "execution_count": 10,
     "metadata": {},
     "output_type": "execute_result"
    },
    {
     "data": {
      "image/png": "[encoded data removed]",
      "text/plain": [
       "<Figure size 640x480 with 1 Axes>"
      ]
     },
     "metadata": {},
     "output_type": "display_data"
    }
   ],
   "source": [
    "import matplotlib.pyplot as plt\n",
    "import pandas as pd\n",
    "\n",
    "# Create histograms using matplotlib\n",
    "plt.hist(y_train, bins=30, alpha=0.5, label='y_train', edgecolor='black')\n",
    "plt.hist(y_test, bins=30, alpha=0.5, label='y_test', edgecolor='black')\n",
    "\n",
    "# Add labels and title\n",
    "plt.xlabel('Values')\n",
    "plt.ylabel('Frequency')\n",
    "plt.title('Histogram of y_train and y_test')"
   ]
  },
  {
   "cell_type": "markdown",
   "id": "15176882",
   "metadata": {},
   "source": [
    "**Svar:**\n",
    "\n",
    "Dette ser ut som et **klassifisering problem**. Vi skal i følge oppgaven forutsi om en mister jobben eller beholder den. Vi ser at histogrammet viser to diskrete verdier, 0 og 1. Der 0 er de som beholder jobben og 1 er de som er oppsagt. Det er verdt å merke seg at det er et ubalansert dataset, dvs. Det er flere tilfeller av mennesker som beholder jobben enn de som er oppsagt."
   ]
  },
  {
   "cell_type": "markdown",
   "id": "dc4c9188",
   "metadata": {},
   "source": [
    "#### Oppgave 2.2)\n",
    "Velg to modeller og gjør repeterte kryssvalideringer $(10)$ med $K=5$\n",
    "* Velg hvorvidt du vil bruke \"default\" hyperparamtre for modellene eller om du vil gjøre et hyperparametersøk\n",
    "* Skår ytelsen til modellene ved hjelp av F1-score og accuracy\n",
    "* Visualiser F1-skårene fra de repeterte kryssvalideringene som et boksplot\n",
    "* Undersøk om modell 1 er bedre eller dårligere enn modell 2 ved å gjøre en to-sidig T-test på F1-skårene fra de repeterte kryssvalideringene \n",
    "* Tolk resultatene skriftlig til slutt \n"
   ]
  },
  {
   "cell_type": "code",
   "execution_count": 11,
   "id": "d9fecd7a",
   "metadata": {},
   "outputs": [
    {
     "data": {
      "image/png": "[encoded data removed]",
      "text/plain": [
       "<Figure size 640x480 with 1 Axes>"
      ]
     },
     "metadata": {},
     "output_type": "display_data"
    },
    {
     "name": "stdout",
     "output_type": "stream",
     "text": [
      "F1-scores are significantly different. Model 1 is better than Model 2.\n"
     ]
    }
   ],
   "source": [
    "# Importer nødvendige biblioteker\n",
    "import numpy as np\n",
    "import pandas as pd\n",
    "from sklearn.model_selection import RepeatedKFold, cross_val_score\n",
    "from sklearn.model_selection import train_test_split\n",
    "from sklearn.metrics import f1_score, accuracy_score\n",
    "from sklearn.model_selection import GridSearchCV\n",
    "from sklearn.model_selection import cross_val_predict\n",
    "from sklearn import metrics\n",
    "from sklearn.model_selection import StratifiedKFold\n",
    "from sklearn.tree import DecisionTreeClassifier\n",
    "from sklearn.ensemble import RandomForestClassifier\n",
    "from scipy.stats import ttest_rel\n",
    "import matplotlib.pyplot as plt\n",
    "\n",
    "# Velg modellene\n",
    "model1 = DecisionTreeClassifier()  \n",
    "model2 = RandomForestClassifier()\n",
    "\n",
    "# Velger å bruke default hyperparametre. Ellers må det fylles inn under her:\n",
    "# hyperparameter-søk:\n",
    "# param_grid = {'param_name': [value1, value2, ...]}\n",
    "# grid_search = GridSearchCV(model1, param_grid, cv=5)\n",
    "# model1 = grid_search.best_estimator_\n",
    "\n",
    "# Gjør kryssvalidering\n",
    "cv = RepeatedKFold(n_splits=5, n_repeats=10, random_state=42)\n",
    "f1_scores_model1 = cross_val_score(model1, X_train, y_train, scoring='f1', cv=cv)\n",
    "f1_scores_model2 = cross_val_score(model2, X_train, y_train, scoring='f1', cv=cv)\n",
    "\n",
    "# Skår ytelsen ved hjelp av F1-score og accuracy på testsettet\n",
    "model1.fit(X_train, y_train)\n",
    "model2.fit(X_train, y_train)\n",
    "\n",
    "y_pred_model1 = model1.predict(X_test)\n",
    "y_pred_model2 = model2.predict(X_test)\n",
    "\n",
    "f1_test_model1 = f1_score(y_test, y_pred_model1)\n",
    "f1_test_model2 = f1_score(y_test, y_pred_model2)\n",
    "\n",
    "accuracy_test_model1 = accuracy_score(y_test, y_pred_model1)\n",
    "accuracy_test_model2 = accuracy_score(y_test, y_pred_model2)\n",
    "\n",
    "# Visualiser F1-skårene som et boksplott\n",
    "plt.boxplot([f1_scores_model1, f1_scores_model2], labels=['Model 1', 'Model 2'])\n",
    "plt.ylabel('F1 Score')\n",
    "plt.title('F1 Scores from Repeated Cross-Validation')\n",
    "plt.show()\n",
    "\n",
    "# Utfør en to-sidig T-test på F1-skårene\n",
    "t_statistic, p_value = ttest_rel(f1_scores_model1, f1_scores_model2)\n",
    "\n",
    "# Tolk resultatene\n",
    "alpha = 0.05\n",
    "if p_value < alpha:\n",
    "    print(\"F1-scores are significantly different. Model 1 is better than Model 2.\")\n",
    "else:\n",
    "    print(\"No significant difference in F1-scores between Model 1 and Model 2.\")"
   ]
  },
  {
   "cell_type": "markdown",
   "id": "3f32a9e0",
   "metadata": {},
   "source": [
    "Resultatene av den to-sidige T-testen indikerer at det er en signifikant forskjell i F1-skårene mellom Model 1 og Model 2. Dermed kan vi konkludere med at en av model1 presterer bedre enn model2."
   ]
  },
  {
   "cell_type": "markdown",
   "id": "d2ff50c7",
   "metadata": {},
   "source": [
    "#### Oppgave 2.3) \n",
    "Tren de samme modellene men denne gangen med et balansert datasett\n",
    "* Bruk imbalaced learn og SMOTE til å oppsample minioritetsklassen (bare oppsample treningsdataene i kryssvalideringen - ikke valideringsdataene)\n",
    "* Skår ytelsen til modellene ved hjelp av F1-score og accuracy\n",
    "* Visualiser F1-skårene fra de repeterte kryssvalideringene som et boksplot\n",
    "* Undersøk om modell 1 er bedre eller dårligere enn modell 2 ved å gjøre en to-sidig T-test på F1-skårene fra de repeterte kryssvalideringene \n",
    "* Tolk resultatene og sammenlign resultatene med 2.2) "
   ]
  },
  {
   "cell_type": "code",
   "execution_count": 12,
   "id": "0c95e001",
   "metadata": {},
   "outputs": [],
   "source": [
    "#TODO: repeterte kryssvalideringer for de samme to modellene som i oppgave 2.2, men denne gangen med SMOTE-oppsampling \n",
    "#from imblearn.over_sampling import SMOTE"
   ]
  },
  {
   "cell_type": "code",
   "execution_count": 13,
   "id": "78bde5a8",
   "metadata": {},
   "outputs": [
    {
     "data": {
      "image/png": "[encoded data removed]",
      "text/plain": [
       "<Figure size 640x480 with 1 Axes>"
      ]
     },
     "metadata": {},
     "output_type": "display_data"
    },
    {
     "name": "stdout",
     "output_type": "stream",
     "text": [
      "F1-scores with SMOTE are significantly different. Model 2 (SMOTE) is better than Model 1 (SMOTE).\n"
     ]
    }
   ],
   "source": [
    "# Importer nødvendige biblioteker for oppsampling\n",
    "from imblearn.over_sampling import SMOTE\n",
    "from imblearn.pipeline import make_pipeline\n",
    "\n",
    "# Opprett en pipeline med SMOTE og modell\n",
    "smote_pipeline = make_pipeline(SMOTE(random_state=42), model1)\n",
    "model2_smote = make_pipeline(SMOTE(random_state=42), model2)\n",
    "\n",
    "# Tren modellene med balanserte datasett\n",
    "model1.fit(X_train, y_train)  # Første modell uten SMOTE\n",
    "model2.fit(X_train, y_train)  # Andre modell uten SMOTE\n",
    "\n",
    "# Bruk imbalanced-learn SMOTE for å oppsample minoritetsklassen\n",
    "X_train_smote, y_train_smote = SMOTE(random_state=42).fit_resample(X_train, y_train)\n",
    "\n",
    "# Tren modellene med oppsampled datasett\n",
    "model1_smote = model1.fit(X_train_smote, y_train_smote)\n",
    "model2_smote = model2.fit(X_train_smote, y_train_smote)\n",
    "\n",
    "# Gjør kryssvalidering med oppsampled datasett\n",
    "cv = RepeatedKFold(n_splits=5, n_repeats=10, random_state=42)\n",
    "f1_scores_model1_smote = cross_val_score(model1_smote, X_train_smote, y_train_smote, scoring='f1', cv=cv)\n",
    "f1_scores_model2_smote = cross_val_score(model2_smote, X_train_smote, y_train_smote, scoring='f1', cv=cv)\n",
    "\n",
    "# Visualiser F1-skårene som et boksplott\n",
    "plt.boxplot([f1_scores_model1_smote, f1_scores_model2_smote], labels=['Model 1 (SMOTE)', 'Model 2 (SMOTE)'])\n",
    "plt.ylabel('F1 Score')\n",
    "plt.title('F1 Scores from Repeated Cross-Validation with SMOTE')\n",
    "plt.show()\n",
    "\n",
    "# Utfør en to-sidig T-test på F1-skårene med og uten SMOTE\n",
    "t_statistic_smote, p_value_smote = ttest_rel(f1_scores_model1_smote, f1_scores_model2_smote)\n",
    "\n",
    "# Tolk resultatene\n",
    "alpha = 0.05\n",
    "if p_value_smote < alpha:\n",
    "    print(\"F1-scores with SMOTE are significantly different. Model 2 (SMOTE) is better than Model 1 (SMOTE).\")\n",
    "else:\n",
    "    print(\"No significant difference in F1-scores with SMOTE between Model 1 and Model 2.\")\n",
    "\n",
    "# Sammenlign resultatene med opprinnelige datasett (fra oppgave 2.2)\n",
    "# Sammenlign f1_scores_model1 med f1_scores_model1_smote, og tilsvarende for model2\n",
    "# Dette kan gi deg innsikt i hvordan ytelsen endres med balansert datasett og oppsampling.\n"
   ]
  },
  {
   "cell_type": "markdown",
   "id": "08c962b2",
   "metadata": {},
   "source": [
    "Boksplottet viser at Model 2 er bedre enn Model 1. Model 2 har høyere f1-score og mindre varians enn Model 1. Gjennomsnittet for model 2 er ~95."
   ]
  },
  {
   "cell_type": "markdown",
   "id": "1225c5f6",
   "metadata": {},
   "source": [
    "#### Oppgave 2.4)\n",
    "Tren den beste modellen på nytt og utfør prediksjon på testsettet. Mål nå ytelsen på testsettet ved bruk av sensitivitet, spesifisitet og presisjon, itillegg til F1-skår og accuracy"
   ]
  },
  {
   "cell_type": "code",
   "execution_count": 14,
   "id": "7510cbcd",
   "metadata": {},
   "outputs": [
    {
     "name": "stdout",
     "output_type": "stream",
     "text": [
      "Confusion Matrix:\n",
      "[[307  63]\n",
      " [ 29  21]]\n",
      "\n",
      "Classification Report:\n",
      "              precision    recall  f1-score   support\n",
      "\n",
      "           0       0.91      0.83      0.87       370\n",
      "           1       0.25      0.42      0.31        50\n",
      "\n",
      "    accuracy                           0.78       420\n",
      "   macro avg       0.58      0.62      0.59       420\n",
      "weighted avg       0.83      0.78      0.80       420\n",
      "\n"
     ]
    }
   ],
   "source": [
    "from sklearn.metrics import confusion_matrix, classification_report\n",
    "\n",
    "# Tren den beste modellen på nytt\n",
    "best_model = model1_smote\n",
    "\n",
    "# Tren modellen på hele treningssettet (inkludert valideringsdataene)\n",
    "best_model.fit(X_train_smote, y_train_smote)\n",
    "\n",
    "# Gjør prediksjoner på testsettet\n",
    "y_pred_test = best_model.predict(X_test)\n",
    "\n",
    "# Beregn og skriv ut resultater\n",
    "conf_matrix = confusion_matrix(y_test, y_pred_test)\n",
    "classification_rep = classification_report(y_test, y_pred_test)\n",
    "\n",
    "print(\"Confusion Matrix:\")\n",
    "print(conf_matrix)\n",
    "print(\"\\nClassification Report:\")\n",
    "print(classification_rep)"
   ]
  },
  {
   "cell_type": "markdown",
   "id": "52e749b6",
   "metadata": {},
   "source": [
    "#### Oppgave 2.5)\n",
    "Del opp testsettet basert på kjønn og gjør en analyse av sensitivitet, spesifisitet og presisjon for menn og det samme for kvinner. Skriv ut og diskuter resultatet og forsøk å svar på følgende spørsmål:\n",
    "* Er modellen like god for begge kjønn? \n",
    "* Hvis ikke, hva tror du er årsaken og hvilke tiltak kan vi gjøre for å forbedre modellen? "
   ]
  },
  {
   "cell_type": "code",
   "execution_count": 15,
   "id": "626d5b69",
   "metadata": {},
   "outputs": [
    {
     "name": "stdout",
     "output_type": "stream",
     "text": [
      "Results for Women:\n",
      "Precision: 0.21428571428571427\n",
      "Recall: 0.42857142857142855\n",
      "Accuracy: 0.8203592814371258\n",
      "F1 Score: 0.2857142857142857\n",
      "Confusion Matrix:\n",
      "[[131  22]\n",
      " [  8   6]]\n",
      "\n",
      "Results for Men:\n",
      "Precision: 0.28\n",
      "Recall: 0.3888888888888889\n",
      "Accuracy: 0.7707509881422925\n",
      "F1 Score: 0.32558139534883723\n",
      "Confusion Matrix:\n",
      "[[181  36]\n",
      " [ 22  14]]\n"
     ]
    }
   ],
   "source": [
    "from sklearn.metrics import precision_score, recall_score, accuracy_score, f1_score, confusion_matrix\n",
    "\n",
    "# Anta at best_model er den modellen du ønsker å evaluere (for eksempel, hvis model1_smote var den beste modellen)\n",
    "# Tren modellen på hele treningssettet (inkludert valideringsdataene)\n",
    "best_model.fit(X_train_smote, y_train_smote)\n",
    "\n",
    "# Gjør prediksjoner på testsettet\n",
    "y_pred_test = best_model.predict(X_test)\n",
    "\n",
    "# Opprett en DataFrame med prediksjoner og kjønn fra testsettet\n",
    "results_df = pd.DataFrame({'Prediction': y_pred_test, 'Gender': X_test['Gender']})\n",
    "\n",
    "# Del opp testsettet basert på kjønn\n",
    "women_results = results_df[results_df['Gender'] == 1]\n",
    "men_results = results_df[results_df['Gender'] == 0]\n",
    "\n",
    "# Evaluer resultatene for kvinner\n",
    "precision_women = precision_score(y_test[women_results.index], women_results['Prediction'])\n",
    "recall_women = recall_score(y_test[women_results.index], women_results['Prediction'])\n",
    "accuracy_women = accuracy_score(y_test[women_results.index], women_results['Prediction'])\n",
    "f1_women = f1_score(y_test[women_results.index], women_results['Prediction'])\n",
    "conf_matrix_women = confusion_matrix(y_test[women_results.index], women_results['Prediction'])\n",
    "\n",
    "# Evaluer resultatene for menn\n",
    "precision_men = precision_score(y_test[men_results.index], men_results['Prediction'])\n",
    "recall_men = recall_score(y_test[men_results.index], men_results['Prediction'])\n",
    "accuracy_men = accuracy_score(y_test[men_results.index], men_results['Prediction'])\n",
    "f1_men = f1_score(y_test[men_results.index], men_results['Prediction'])\n",
    "conf_matrix_men = confusion_matrix(y_test[men_results.index], men_results['Prediction'])\n",
    "\n",
    "# Skriv ut resultatene\n",
    "print(\"Results for Women:\")\n",
    "print(f\"Precision: {precision_women}\")\n",
    "print(f\"Recall: {recall_women}\")\n",
    "print(f\"Accuracy: {accuracy_women}\")\n",
    "print(f\"F1 Score: {f1_women}\")\n",
    "print(f\"Confusion Matrix:\\n{conf_matrix_women}\")\n",
    "\n",
    "print(\"\\nResults for Men:\")\n",
    "print(f\"Precision: {precision_men}\")\n",
    "print(f\"Recall: {recall_men}\")\n",
    "print(f\"Accuracy: {accuracy_men}\")\n",
    "print(f\"F1 Score: {f1_men}\")\n",
    "print(f\"Confusion Matrix:\\n{conf_matrix_men}\")\n"
   ]
  },
  {
   "cell_type": "markdown",
   "id": "e3237b60",
   "metadata": {},
   "source": [
    "Det ser ut som modellen gir litt bedre resultat for menn enn for kvinner. Grunnen til dette kan være at det er kjevhet i dataene. En kan prøve å gjøre noen flere finjusteringer med hyperparametrene."
   ]
  },
  {
   "cell_type": "markdown",
   "id": "3a868ac7",
   "metadata": {},
   "source": [
    "Kjør denne cellen til slutt og legg ved den genererte requirements.txt fila i pull requestet"
   ]
  },
  {
   "cell_type": "code",
   "execution_count": 16,
   "id": "8e3ef598",
   "metadata": {},
   "outputs": [],
   "source": [
    "# !pip freeze > requirements.txt"
   ]
  },
  {
   "cell_type": "markdown",
   "id": "54ae993c",
   "metadata": {},
   "source": [
    "Oppgaver er løst med bruk av hjelpemiddel chatGPT og sklearn dokumentasjon."
   ]
  }
 ],
 "metadata": {
  "kernelspec": {
   "display_name": "Python 3 (ipykernel)",
   "language": "python",
   "name": "python3"
  },
  "language_info": {
   "codemirror_mode": {
    "name": "ipython",
    "version": 3
   },
   "file_extension": ".py",
   "mimetype": "text/x-python",
   "name": "python",
   "nbconvert_exporter": "python",
   "pygments_lexer": "ipython3",
   "version": "3.10.12"
  }
 },
 "nbformat": 4,
 "nbformat_minor": 5
}
