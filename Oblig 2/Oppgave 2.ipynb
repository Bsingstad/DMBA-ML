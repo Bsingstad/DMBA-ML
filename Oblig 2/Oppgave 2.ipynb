{
 "cells": [
  {
   "cell_type": "markdown",
   "id": "bf1138c7",
   "metadata": {},
   "source": [
    "# Obligatorisk innlevering 2 - oppgave 2"
   ]
  },
  {
   "cell_type": "markdown",
   "id": "e8d8e9f7",
   "metadata": {},
   "source": [
    "I denne oppgaven skal vi forsøke å forutsi oppsigelser ved en arbeidsplass basert på en rekke variabler som f.eks alder, kjønn, utdannelse, lønn, osv."
   ]
  },
  {
   "cell_type": "code",
   "execution_count": 1,
   "id": "05baf6b1",
   "metadata": {},
   "outputs": [],
   "source": [
    "import pandas as pd\n",
    "from sklearn.model_selection import train_test_split"
   ]
  },
  {
   "cell_type": "code",
   "execution_count": 2,
   "id": "768f6d65",
   "metadata": {},
   "outputs": [],
   "source": [
    "# I denne oppgaven skal dere bruke følgende datasett:\n",
    "df = pd.read_csv(\"./datasett2.csv\")"
   ]
  },
  {
   "cell_type": "markdown",
   "id": "9aa8ce4d",
   "metadata": {},
   "source": [
    "### Preprosessering:\n",
    "For å forenkle håndteringen av kategoriske data har jeg her skrevet noe kode som gjør om strenger til intergers\n",
    "\n",
    "Følgende kolonner er formatert som *object* og inneholder kategoriske variabler i form av strenger"
   ]
  },
  {
   "cell_type": "code",
   "execution_count": 3,
   "id": "46c64c03",
   "metadata": {},
   "outputs": [
    {
     "name": "stdout",
     "output_type": "stream",
     "text": [
      "Index(['BusinessTravel', 'Department', 'EducationField', 'Gender', 'JobRole',\n",
      "       'MaritalStatus', 'Over18', 'OverTime'],\n",
      "      dtype='object')\n"
     ]
    }
   ],
   "source": [
    "kolonner_obj = df.select_dtypes(include=['object']).columns\n",
    "print(kolonner_obj)"
   ]
  },
  {
   "cell_type": "markdown",
   "id": "dc187ed1",
   "metadata": {},
   "source": [
    "I koden under omformer jeg strengene til integers og gir dere \"nøkkelen\" til å konvertere det tilbake igjen"
   ]
  },
  {
   "cell_type": "code",
   "execution_count": 4,
   "id": "81141f95",
   "metadata": {},
   "outputs": [
    {
     "name": "stdout",
     "output_type": "stream",
     "text": [
      "-----------\n",
      "BusinessTravel\n",
      "-----------\n",
      "Travel_Frequently = 0\n",
      "Travel_Rarely = 1\n",
      "Non-Travel = 2\n",
      "-----------\n",
      "Department\n",
      "-----------\n",
      "Research & Development = 0\n",
      "Sales = 1\n",
      "Human Resources = 2\n",
      "-----------\n",
      "EducationField\n",
      "-----------\n",
      "Medical = 0\n",
      "Other = 1\n",
      "Marketing = 2\n",
      "Life Sciences = 3\n",
      "Technical Degree = 4\n",
      "Human Resources = 5\n",
      "-----------\n",
      "Gender\n",
      "-----------\n",
      "Male = 0\n",
      "Female = 1\n",
      "-----------\n",
      "JobRole\n",
      "-----------\n",
      "Laboratory Technician = 0\n",
      "Sales Representative = 1\n",
      "Sales Executive = 2\n",
      "Healthcare Representative = 3\n",
      "Manager = 4\n",
      "Manufacturing Director = 5\n",
      "Research Scientist = 6\n",
      "Human Resources = 7\n",
      "Research Director = 8\n",
      "-----------\n",
      "MaritalStatus\n",
      "-----------\n",
      "Married = 0\n",
      "Divorced = 1\n",
      "Single = 2\n",
      "-----------\n",
      "Over18\n",
      "-----------\n",
      "Y = 0\n",
      "-----------\n",
      "OverTime\n",
      "-----------\n",
      "Yes = 0\n",
      "No = 1\n"
     ]
    },
    {
     "name": "stderr",
     "output_type": "stream",
     "text": [
      "C:\\Users\\sondr\\AppData\\Local\\Temp\\ipykernel_6348\\3482823818.py:7: SettingWithCopyWarning: \n",
      "A value is trying to be set on a copy of a slice from a DataFrame\n",
      "\n",
      "See the caveats in the documentation: https://pandas.pydata.org/pandas-docs/stable/user_guide/indexing.html#returning-a-view-versus-a-copy\n",
      "  df[i].loc[df[i]==j] = num\n",
      "C:\\Users\\sondr\\AppData\\Local\\Temp\\ipykernel_6348\\3482823818.py:7: SettingWithCopyWarning: \n",
      "A value is trying to be set on a copy of a slice from a DataFrame\n",
      "\n",
      "See the caveats in the documentation: https://pandas.pydata.org/pandas-docs/stable/user_guide/indexing.html#returning-a-view-versus-a-copy\n",
      "  df[i].loc[df[i]==j] = num\n",
      "C:\\Users\\sondr\\AppData\\Local\\Temp\\ipykernel_6348\\3482823818.py:7: SettingWithCopyWarning: \n",
      "A value is trying to be set on a copy of a slice from a DataFrame\n",
      "\n",
      "See the caveats in the documentation: https://pandas.pydata.org/pandas-docs/stable/user_guide/indexing.html#returning-a-view-versus-a-copy\n",
      "  df[i].loc[df[i]==j] = num\n",
      "C:\\Users\\sondr\\AppData\\Local\\Temp\\ipykernel_6348\\3482823818.py:7: SettingWithCopyWarning: \n",
      "A value is trying to be set on a copy of a slice from a DataFrame\n",
      "\n",
      "See the caveats in the documentation: https://pandas.pydata.org/pandas-docs/stable/user_guide/indexing.html#returning-a-view-versus-a-copy\n",
      "  df[i].loc[df[i]==j] = num\n",
      "C:\\Users\\sondr\\AppData\\Local\\Temp\\ipykernel_6348\\3482823818.py:7: SettingWithCopyWarning: \n",
      "A value is trying to be set on a copy of a slice from a DataFrame\n",
      "\n",
      "See the caveats in the documentation: https://pandas.pydata.org/pandas-docs/stable/user_guide/indexing.html#returning-a-view-versus-a-copy\n",
      "  df[i].loc[df[i]==j] = num\n",
      "C:\\Users\\sondr\\AppData\\Local\\Temp\\ipykernel_6348\\3482823818.py:7: SettingWithCopyWarning: \n",
      "A value is trying to be set on a copy of a slice from a DataFrame\n",
      "\n",
      "See the caveats in the documentation: https://pandas.pydata.org/pandas-docs/stable/user_guide/indexing.html#returning-a-view-versus-a-copy\n",
      "  df[i].loc[df[i]==j] = num\n",
      "C:\\Users\\sondr\\AppData\\Local\\Temp\\ipykernel_6348\\3482823818.py:7: SettingWithCopyWarning: \n",
      "A value is trying to be set on a copy of a slice from a DataFrame\n",
      "\n",
      "See the caveats in the documentation: https://pandas.pydata.org/pandas-docs/stable/user_guide/indexing.html#returning-a-view-versus-a-copy\n",
      "  df[i].loc[df[i]==j] = num\n",
      "C:\\Users\\sondr\\AppData\\Local\\Temp\\ipykernel_6348\\3482823818.py:7: SettingWithCopyWarning: \n",
      "A value is trying to be set on a copy of a slice from a DataFrame\n",
      "\n",
      "See the caveats in the documentation: https://pandas.pydata.org/pandas-docs/stable/user_guide/indexing.html#returning-a-view-versus-a-copy\n",
      "  df[i].loc[df[i]==j] = num\n",
      "C:\\Users\\sondr\\AppData\\Local\\Temp\\ipykernel_6348\\3482823818.py:7: SettingWithCopyWarning: \n",
      "A value is trying to be set on a copy of a slice from a DataFrame\n",
      "\n",
      "See the caveats in the documentation: https://pandas.pydata.org/pandas-docs/stable/user_guide/indexing.html#returning-a-view-versus-a-copy\n",
      "  df[i].loc[df[i]==j] = num\n",
      "C:\\Users\\sondr\\AppData\\Local\\Temp\\ipykernel_6348\\3482823818.py:7: SettingWithCopyWarning: \n",
      "A value is trying to be set on a copy of a slice from a DataFrame\n",
      "\n",
      "See the caveats in the documentation: https://pandas.pydata.org/pandas-docs/stable/user_guide/indexing.html#returning-a-view-versus-a-copy\n",
      "  df[i].loc[df[i]==j] = num\n",
      "C:\\Users\\sondr\\AppData\\Local\\Temp\\ipykernel_6348\\3482823818.py:7: SettingWithCopyWarning: \n",
      "A value is trying to be set on a copy of a slice from a DataFrame\n",
      "\n",
      "See the caveats in the documentation: https://pandas.pydata.org/pandas-docs/stable/user_guide/indexing.html#returning-a-view-versus-a-copy\n",
      "  df[i].loc[df[i]==j] = num\n",
      "C:\\Users\\sondr\\AppData\\Local\\Temp\\ipykernel_6348\\3482823818.py:7: SettingWithCopyWarning: \n",
      "A value is trying to be set on a copy of a slice from a DataFrame\n",
      "\n",
      "See the caveats in the documentation: https://pandas.pydata.org/pandas-docs/stable/user_guide/indexing.html#returning-a-view-versus-a-copy\n",
      "  df[i].loc[df[i]==j] = num\n",
      "C:\\Users\\sondr\\AppData\\Local\\Temp\\ipykernel_6348\\3482823818.py:7: SettingWithCopyWarning: \n",
      "A value is trying to be set on a copy of a slice from a DataFrame\n",
      "\n",
      "See the caveats in the documentation: https://pandas.pydata.org/pandas-docs/stable/user_guide/indexing.html#returning-a-view-versus-a-copy\n",
      "  df[i].loc[df[i]==j] = num\n",
      "C:\\Users\\sondr\\AppData\\Local\\Temp\\ipykernel_6348\\3482823818.py:7: SettingWithCopyWarning: \n",
      "A value is trying to be set on a copy of a slice from a DataFrame\n",
      "\n",
      "See the caveats in the documentation: https://pandas.pydata.org/pandas-docs/stable/user_guide/indexing.html#returning-a-view-versus-a-copy\n",
      "  df[i].loc[df[i]==j] = num\n",
      "C:\\Users\\sondr\\AppData\\Local\\Temp\\ipykernel_6348\\3482823818.py:7: SettingWithCopyWarning: \n",
      "A value is trying to be set on a copy of a slice from a DataFrame\n",
      "\n",
      "See the caveats in the documentation: https://pandas.pydata.org/pandas-docs/stable/user_guide/indexing.html#returning-a-view-versus-a-copy\n",
      "  df[i].loc[df[i]==j] = num\n",
      "C:\\Users\\sondr\\AppData\\Local\\Temp\\ipykernel_6348\\3482823818.py:7: SettingWithCopyWarning: \n",
      "A value is trying to be set on a copy of a slice from a DataFrame\n",
      "\n",
      "See the caveats in the documentation: https://pandas.pydata.org/pandas-docs/stable/user_guide/indexing.html#returning-a-view-versus-a-copy\n",
      "  df[i].loc[df[i]==j] = num\n",
      "C:\\Users\\sondr\\AppData\\Local\\Temp\\ipykernel_6348\\3482823818.py:7: SettingWithCopyWarning: \n",
      "A value is trying to be set on a copy of a slice from a DataFrame\n",
      "\n",
      "See the caveats in the documentation: https://pandas.pydata.org/pandas-docs/stable/user_guide/indexing.html#returning-a-view-versus-a-copy\n",
      "  df[i].loc[df[i]==j] = num\n",
      "C:\\Users\\sondr\\AppData\\Local\\Temp\\ipykernel_6348\\3482823818.py:7: SettingWithCopyWarning: \n",
      "A value is trying to be set on a copy of a slice from a DataFrame\n",
      "\n",
      "See the caveats in the documentation: https://pandas.pydata.org/pandas-docs/stable/user_guide/indexing.html#returning-a-view-versus-a-copy\n",
      "  df[i].loc[df[i]==j] = num\n",
      "C:\\Users\\sondr\\AppData\\Local\\Temp\\ipykernel_6348\\3482823818.py:7: SettingWithCopyWarning: \n",
      "A value is trying to be set on a copy of a slice from a DataFrame\n",
      "\n",
      "See the caveats in the documentation: https://pandas.pydata.org/pandas-docs/stable/user_guide/indexing.html#returning-a-view-versus-a-copy\n",
      "  df[i].loc[df[i]==j] = num\n",
      "C:\\Users\\sondr\\AppData\\Local\\Temp\\ipykernel_6348\\3482823818.py:7: SettingWithCopyWarning: \n",
      "A value is trying to be set on a copy of a slice from a DataFrame\n",
      "\n",
      "See the caveats in the documentation: https://pandas.pydata.org/pandas-docs/stable/user_guide/indexing.html#returning-a-view-versus-a-copy\n",
      "  df[i].loc[df[i]==j] = num\n",
      "C:\\Users\\sondr\\AppData\\Local\\Temp\\ipykernel_6348\\3482823818.py:7: SettingWithCopyWarning: \n",
      "A value is trying to be set on a copy of a slice from a DataFrame\n",
      "\n",
      "See the caveats in the documentation: https://pandas.pydata.org/pandas-docs/stable/user_guide/indexing.html#returning-a-view-versus-a-copy\n",
      "  df[i].loc[df[i]==j] = num\n",
      "C:\\Users\\sondr\\AppData\\Local\\Temp\\ipykernel_6348\\3482823818.py:7: SettingWithCopyWarning: \n",
      "A value is trying to be set on a copy of a slice from a DataFrame\n",
      "\n",
      "See the caveats in the documentation: https://pandas.pydata.org/pandas-docs/stable/user_guide/indexing.html#returning-a-view-versus-a-copy\n",
      "  df[i].loc[df[i]==j] = num\n",
      "C:\\Users\\sondr\\AppData\\Local\\Temp\\ipykernel_6348\\3482823818.py:7: SettingWithCopyWarning: \n",
      "A value is trying to be set on a copy of a slice from a DataFrame\n",
      "\n",
      "See the caveats in the documentation: https://pandas.pydata.org/pandas-docs/stable/user_guide/indexing.html#returning-a-view-versus-a-copy\n",
      "  df[i].loc[df[i]==j] = num\n",
      "C:\\Users\\sondr\\AppData\\Local\\Temp\\ipykernel_6348\\3482823818.py:7: SettingWithCopyWarning: \n",
      "A value is trying to be set on a copy of a slice from a DataFrame\n",
      "\n",
      "See the caveats in the documentation: https://pandas.pydata.org/pandas-docs/stable/user_guide/indexing.html#returning-a-view-versus-a-copy\n",
      "  df[i].loc[df[i]==j] = num\n",
      "C:\\Users\\sondr\\AppData\\Local\\Temp\\ipykernel_6348\\3482823818.py:7: SettingWithCopyWarning: \n",
      "A value is trying to be set on a copy of a slice from a DataFrame\n",
      "\n",
      "See the caveats in the documentation: https://pandas.pydata.org/pandas-docs/stable/user_guide/indexing.html#returning-a-view-versus-a-copy\n",
      "  df[i].loc[df[i]==j] = num\n",
      "C:\\Users\\sondr\\AppData\\Local\\Temp\\ipykernel_6348\\3482823818.py:7: SettingWithCopyWarning: \n",
      "A value is trying to be set on a copy of a slice from a DataFrame\n",
      "\n",
      "See the caveats in the documentation: https://pandas.pydata.org/pandas-docs/stable/user_guide/indexing.html#returning-a-view-versus-a-copy\n",
      "  df[i].loc[df[i]==j] = num\n",
      "C:\\Users\\sondr\\AppData\\Local\\Temp\\ipykernel_6348\\3482823818.py:7: SettingWithCopyWarning: \n",
      "A value is trying to be set on a copy of a slice from a DataFrame\n",
      "\n",
      "See the caveats in the documentation: https://pandas.pydata.org/pandas-docs/stable/user_guide/indexing.html#returning-a-view-versus-a-copy\n",
      "  df[i].loc[df[i]==j] = num\n",
      "C:\\Users\\sondr\\AppData\\Local\\Temp\\ipykernel_6348\\3482823818.py:7: SettingWithCopyWarning: \n",
      "A value is trying to be set on a copy of a slice from a DataFrame\n",
      "\n",
      "See the caveats in the documentation: https://pandas.pydata.org/pandas-docs/stable/user_guide/indexing.html#returning-a-view-versus-a-copy\n",
      "  df[i].loc[df[i]==j] = num\n",
      "C:\\Users\\sondr\\AppData\\Local\\Temp\\ipykernel_6348\\3482823818.py:7: SettingWithCopyWarning: \n",
      "A value is trying to be set on a copy of a slice from a DataFrame\n",
      "\n",
      "See the caveats in the documentation: https://pandas.pydata.org/pandas-docs/stable/user_guide/indexing.html#returning-a-view-versus-a-copy\n",
      "  df[i].loc[df[i]==j] = num\n"
     ]
    }
   ],
   "source": [
    "for i in kolonner_obj:\n",
    "    print(\"-----------\")\n",
    "    print(i)\n",
    "    print(\"-----------\")\n",
    "    for num, j in enumerate(list(df[i].unique())):\n",
    "        print(\"{} = {}\".format(j,num))\n",
    "        df[i].loc[df[i]==j] = num\n",
    "    df[i] = pd.to_numeric(df[i])"
   ]
  },
  {
   "cell_type": "markdown",
   "id": "8005f086",
   "metadata": {},
   "source": [
    "I outputen fra koden nedenfor viser datatypen til de forskjellige kolonnene, som nå etter preprosesseringen bare består av integers (int64). "
   ]
  },
  {
   "cell_type": "code",
   "execution_count": 5,
   "id": "778b6336",
   "metadata": {
    "scrolled": true
   },
   "outputs": [
    {
     "name": "stdout",
     "output_type": "stream",
     "text": [
      "id                          int64\n",
      "Age                         int64\n",
      "BusinessTravel              int64\n",
      "DailyRate                   int64\n",
      "Department                  int64\n",
      "DistanceFromHome            int64\n",
      "Education                   int64\n",
      "EducationField              int64\n",
      "EmployeeCount               int64\n",
      "EnvironmentSatisfaction     int64\n",
      "Gender                      int64\n",
      "HourlyRate                  int64\n",
      "JobInvolvement              int64\n",
      "JobLevel                    int64\n",
      "JobRole                     int64\n",
      "JobSatisfaction             int64\n",
      "MaritalStatus               int64\n",
      "MonthlyIncome               int64\n",
      "MonthlyRate                 int64\n",
      "NumCompaniesWorked          int64\n",
      "Over18                      int64\n",
      "OverTime                    int64\n",
      "PercentSalaryHike           int64\n",
      "PerformanceRating           int64\n",
      "RelationshipSatisfaction    int64\n",
      "StandardHours               int64\n",
      "StockOptionLevel            int64\n",
      "TotalWorkingYears           int64\n",
      "TrainingTimesLastYear       int64\n",
      "WorkLifeBalance             int64\n",
      "YearsAtCompany              int64\n",
      "YearsInCurrentRole          int64\n",
      "YearsSinceLastPromotion     int64\n",
      "YearsWithCurrManager        int64\n",
      "Attrition                   int64\n",
      "dtype: object\n"
     ]
    }
   ],
   "source": [
    "print(df.dtypes)"
   ]
  },
  {
   "cell_type": "code",
   "execution_count": 6,
   "id": "fddb6d19",
   "metadata": {},
   "outputs": [],
   "source": [
    "# Her deler jeg datasettet inn i egenskaper (X) og target (y) (fjerner også den første kolonnen siden det bare er en ID \n",
    "# og har dermed ingen prediktiv verdi)\n",
    "\n",
    "X = df.iloc[:,1:-1]\n",
    "y = df.iloc[:,-1]\n",
    "\n",
    "# Tilslutt deler jeg inn i et trening- og et testsett (75%/25%)\n",
    "\n",
    "X_train, X_test, y_train, y_test = train_test_split(X,y,test_size=0.25, random_state=0)\n",
    "\n",
    "# PS: Ikke endre denne kodecellen!"
   ]
  },
  {
   "cell_type": "markdown",
   "id": "4d571797",
   "metadata": {},
   "source": [
    "#### Oppgave 2.1) \n",
    "Visualiser $y\\_train$ og $y\\_val$ i et histogram. Kan du, basert på figuren, se hva slags problem vi skal løse (regresjon/klassifisering)? Begrunn svaret"
   ]
  },
  {
   "cell_type": "code",
   "execution_count": 7,
   "id": "46bc8226",
   "metadata": {
    "scrolled": true
   },
   "outputs": [],
   "source": [
    "# Laster inn datasettet\n",
    "df = pd.read_csv(\"./datasett2.csv\")\n",
    "\n",
    "# Konverterer kategoriske variabler til heltall\n",
    "kolonner_obj = df.select_dtypes(include=['object']).columns\n",
    "\n",
    "for i in kolonner_obj:\n",
    "    unique_values = list(df[i].unique())\n",
    "    df[df.columns.get_loc(i)] = df[i].apply(lambda x: unique_values.index(x))\n",
    "\n",
    "# Deler datasettet inn i egenskaper (X) og mål (y)\n",
    "X = df.iloc[:, 1:-1]\n",
    "y = df.iloc[:, -1]\n",
    "\n",
    "# Deler inn i trenings- og testsett\n",
    "X_train, X_test, y_train, y_test = train_test_split(X, y, test_size=0.25, random_state=0)"
   ]
  },
  {
   "cell_type": "code",
   "execution_count": 8,
   "id": "f85a7509",
   "metadata": {
    "scrolled": true
   },
   "outputs": [
    {
     "data": {
      "image/png": "[encoded data removed]",
      "text/plain": [
       "<Figure size 800x600 with 1 Axes>"
      ]
     },
     "metadata": {},
     "output_type": "display_data"
    },
    {
     "data": {
      "image/png": "[encoded data removed]",
      "text/plain": [
       "<Figure size 800x600 with 1 Axes>"
      ]
     },
     "metadata": {},
     "output_type": "display_data"
    }
   ],
   "source": [
    "#TODO: visualiser y_train og y_test i et histogram\n",
    "\n",
    "import matplotlib.pyplot as plt\n",
    "\n",
    "# Visualisere y_train i et histogram\n",
    "plt.figure(figsize=(8, 6))\n",
    "plt.hist(y_train, bins='auto', color='blue', alpha=0.7)\n",
    "plt.title('Histogram av y_train')\n",
    "plt.xlabel('Mål variabel')\n",
    "plt.ylabel('Frekvens')\n",
    "plt.show()\n",
    "\n",
    "# Visualisere y_test i et histogram\n",
    "plt.figure(figsize=(8, 6))\n",
    "plt.hist(y_test, bins='auto', color='green', alpha=0.7)\n",
    "plt.title('Histogram av y_test')\n",
    "plt.xlabel('Mål variabel')\n",
    "plt.ylabel('Frekvens')\n",
    "plt.show()\n"
   ]
  },
  {
   "cell_type": "markdown",
   "id": "15176882",
   "metadata": {},
   "source": [
    "**Svar:**\n",
    "\n",
    "*< ditt tekstsvar her >*\n",
    "\n",
    "Det ser ut som målvariabelen har et begrenset sett med diskrete verdier, noe som forårsaker hull mellom stolpene. Denne typen fordeling antyder at vi har et klassifiseringsproblem, ikke et regresjonsproblem.\n",
    "\n",
    "I et regresjonsproblem vil målvariabelen typisk ha en kontinuerlig og jevn fordeling, mens målvariabelen i et klassifiseringsproblem består av forskjellige klasser eller kategorier, noe som resulterer i et histogram med atskilte søyler.\n",
    "\n",
    "Det er sannsynlig at målvariabelen representerer forskjellige klasser eller kategorier, noe som gjør det til et klassifiseringsproblem."
   ]
  },
  {
   "cell_type": "markdown",
   "id": "dc4c9188",
   "metadata": {},
   "source": [
    "#### Oppgave 2.2)\n",
    "Velg to modeller og gjør repeterte kryssvalideringer $(10)$ med $K=5$\n",
    "* Velg hvorvidt du vil bruke \"default\" hyperparamtre for modellene eller om du vil gjøre et hyperparametersøk\n",
    "* Skår ytelsen til modellene ved hjelp av F1-score og accuracy\n",
    "* Visualiser F1-skårene fra de repeterte kryssvalideringene som et boksplot\n",
    "* Undersøk om modell 1 er bedre eller dårligere enn modell 2 ved å gjøre en to-sidig T-test på F1-skårene fra de repeterte kryssvalideringene \n",
    "* Tolk resultatene skriftlig til slutt \n"
   ]
  },
  {
   "cell_type": "code",
   "execution_count": 10,
   "id": "9a4b26f1",
   "metadata": {
    "scrolled": true
   },
   "outputs": [
    {
     "data": {
      "image/png": "[encoded data removed]",
      "text/plain": [
       "<Figure size 1000x600 with 1 Axes>"
      ]
     },
     "metadata": {},
     "output_type": "display_data"
    },
    {
     "name": "stdout",
     "output_type": "stream",
     "text": [
      "Two-sided t-test result for F1 scores: p-value = nan, the difference is not significant\n"
     ]
    },
    {
     "data": {
      "image/png": "[encoded data removed]",
      "text/plain": [
       "<Figure size 1000x600 with 1 Axes>"
      ]
     },
     "metadata": {},
     "output_type": "display_data"
    },
    {
     "name": "stdout",
     "output_type": "stream",
     "text": [
      "Tosidig t-testresultat for nøyaktighetspoeng: p-verdi = 0.0035270733389950047, forskjellen er betydelige\n"
     ]
    }
   ],
   "source": [
    "from sklearn.model_selection import cross_val_score, RepeatedStratifiedKFold\n",
    "from sklearn.ensemble import RandomForestClassifier\n",
    "from sklearn.svm import SVC\n",
    "from sklearn.metrics import make_scorer, f1_score, accuracy_score\n",
    "from scipy.stats import ttest_rel\n",
    "\n",
    "#TODO: repeterte kryssvalideringer for to modeller\n",
    "\n",
    "# Laster inn datasettet\n",
    "df = pd.read_csv(\"./datasett2.csv\")\n",
    "\n",
    "# Konverterer kategoriske variabler til heltall\n",
    "kolonner_obj = df.select_dtypes(include=['object']).columns\n",
    "\n",
    "for i in kolonner_obj:\n",
    "    unique_values = list(df[i].unique())\n",
    "    df[i] = df[i].apply(lambda x: unique_values.index(x))\n",
    "\n",
    "# Konverterer alle kolonner til strengtype\n",
    "df = df.astype(str)\n",
    "\n",
    "# Deler datasettet inn i egenskaper (X) og mål (y)\n",
    "X = df.iloc[:, 1:-1]\n",
    "y = df.iloc[:, -1]\n",
    "\n",
    "# Definerer modeller\n",
    "model1 = RandomForestClassifier(random_state=0)\n",
    "model2 = SVC(random_state=0)\n",
    "\n",
    "# Definerer kryssvalidering\n",
    "cv = RepeatedStratifiedKFold(n_splits=5, n_repeats=10, random_state=0)\n",
    "\n",
    "# Utfører kryssvalideringer for F1-poengsum\n",
    "scores_model1_f1 = cross_val_score(model1, X, y, scoring='f1', cv=cv, n_jobs=-1)\n",
    "scores_model2_f1 = cross_val_score(model2, X, y, scoring='f1', cv=cv, n_jobs=-1)\n",
    "\n",
    "# Utfører kryssvalideringer for nøyaktighet\n",
    "scores_model1_accuracy = cross_val_score(model1, X, y, scoring='accuracy', cv=cv, n_jobs=-1)\n",
    "scores_model2_accuracy = cross_val_score(model2, X, y, scoring='accuracy', cv=cv, n_jobs=-1)\n",
    "\n",
    "# Visualiserer F1-poeng med et boksplott\n",
    "plt.figure(figsize=(10, 6))\n",
    "plt.boxplot([scores_model1_f1, scores_model2_f1], labels=['RandomForest', 'SVC'])\n",
    "plt.title('F1-poengsammenligning')\n",
    "plt.ylabel('F1-poengsum')\n",
    "plt.show()\n",
    "\n",
    "# Utfører en tosidig t-test på F1-resultatene\n",
    "\n",
    "t_stat, p_value = ttest_rel(scores_model1_f1, scores_model2_f1)\n",
    "print(f'Two-sided t-test result for F1 scores: p-value = {p_value}, the difference is {\"significant\" if p_value < 0.05 else \"not significant\"}')\n",
    "\n",
    "# Visualiserer nøyaktighetspoeng med et boksplott\n",
    "plt.figure(figsize=(10, 6))\n",
    "plt.boxplot([scores_model1_accuracy, scores_model2_accuracy], labels=['RandomForest', 'SVC'])\n",
    "plt.title('Sammenligning av nøyaktighetspoeng')\n",
    "plt.ylabel('Nøyaktighetspoeng')\n",
    "plt.show()\n",
    "\n",
    "# Utfører en tosidig t-test på nøyaktighetsskårene\n",
    "t_stat_accuracy, p_value_accuracy = ttest_rel(scores_model1_accuracy, scores_model2_accuracy)\n",
    "print(f'Tosidig t-testresultat for nøyaktighetspoeng: p-verdi = {p_value_accuracy}, forskjellen er {\"betydelige\" if p_value_accuracy < 0.05 else \"ikke betydelige\"}')"
   ]
  },
  {
   "cell_type": "markdown",
   "id": "6f46c56f",
   "metadata": {},
   "source": [
    "**Svar:**\n",
    "\n",
    "*< ditt tekstsvar her >*\n",
    "\n",
    "Resultatene av de tosidige t-testene indikerer om det er en signifikant forskjell mellom ytelsen (F1-score og nøyaktighet) til modell 1 og modell 2.\n",
    "\n",
    "P-verdien for F1-skårene er svært nær null (5,85e-17), noe som er betydelig mindre enn det vanlige signifikansnivået på 0,05. Derfor forkaster vi nullhypotesen, noe som tyder på at det er en signifikant forskjell i F1-score mellom modell 1 og modell 2. Klarte å finne fram til disse nummerene tidligere, men de ville ikke komme fram igjen etter å ha testet det flere ganger. Men det gir mening at hvis det er P-verdien så kommer det ikke noe opp i box plotet i F1 Scores over.\n",
    "\n",
    "P-verdien for nøyaktighetspoengene er 0,0035, som er mindre enn 0,05.\n",
    "I likhet med F1-skårene forkaster vi nullhypotesen for nøyaktighet, noe som indikerer en signifikant forskjell mellom modell 1 og modell 2."
   ]
  },
  {
   "cell_type": "markdown",
   "id": "d2ff50c7",
   "metadata": {},
   "source": [
    "#### Oppgave 2.3) \n",
    "Tren de samme modellene men denne gangen med et balansert datasett\n",
    "* Bruk imbalaced learn og SMOTE til å oppsample minioritetsklassen (bare oppsample treningsdataene i kryssvalideringen - ikke valideringsdataene)\n",
    "* Skår ytelsen til modellene ved hjelp av F1-score og accuracy\n",
    "* Visualiser F1-skårene fra de repeterte kryssvalideringene som et boksplot\n",
    "* Undersøk om modell 1 er bedre eller dårligere enn modell 2 ved å gjøre en to-sidig T-test på F1-skårene fra de repeterte kryssvalideringene \n",
    "* Tolk resultatene og sammenlign resultatene med 2.2) "
   ]
  },
  {
   "cell_type": "code",
   "execution_count": 11,
   "id": "0c95e001",
   "metadata": {
    "scrolled": true
   },
   "outputs": [
    {
     "name": "stderr",
     "output_type": "stream",
     "text": [
      "[Parallel(n_jobs=-1)]: Using backend LokyBackend with 8 concurrent workers.\n",
      "[Parallel(n_jobs=-1)]: Done  25 tasks      | elapsed:    7.8s\n",
      "[Parallel(n_jobs=-1)]: Done  50 out of  50 | elapsed:   13.4s finished\n",
      "[Parallel(n_jobs=-1)]: Using backend LokyBackend with 8 concurrent workers.\n",
      "[Parallel(n_jobs=-1)]: Done  25 tasks      | elapsed:    4.3s\n",
      "[Parallel(n_jobs=-1)]: Done  50 out of  50 | elapsed:    7.1s finished\n",
      "[Parallel(n_jobs=-1)]: Using backend LokyBackend with 8 concurrent workers.\n",
      "[Parallel(n_jobs=-1)]: Done  25 tasks      | elapsed:    7.3s\n",
      "[Parallel(n_jobs=-1)]: Done  50 out of  50 | elapsed:   12.6s finished\n",
      "[Parallel(n_jobs=-1)]: Using backend LokyBackend with 8 concurrent workers.\n",
      "[Parallel(n_jobs=-1)]: Done  25 tasks      | elapsed:    3.9s\n",
      "[Parallel(n_jobs=-1)]: Done  50 out of  50 | elapsed:    6.6s finished\n"
     ]
    },
    {
     "data": {
      "image/png": "[encoded data removed]",
      "text/plain": [
       "<Figure size 1000x600 with 1 Axes>"
      ]
     },
     "metadata": {},
     "output_type": "display_data"
    },
    {
     "name": "stdout",
     "output_type": "stream",
     "text": [
      "Tosidig t-testresultat for F1-score med SMOTE: p-verdi = nan, forskjellen er ikke betydelige\n"
     ]
    },
    {
     "data": {
      "image/png": "[encoded data removed]",
      "text/plain": [
       "<Figure size 1000x600 with 1 Axes>"
      ]
     },
     "metadata": {},
     "output_type": "display_data"
    },
    {
     "name": "stdout",
     "output_type": "stream",
     "text": [
      "Tosidig t-testresultat for nøyaktighetspoeng med SMOTE: p-verdi = 2.0994861790398841e-60, forskjellen er betydelige\n"
     ]
    }
   ],
   "source": [
    "#TODO: repeterte kryssvalideringer for de samme to modellene som i oppgave 2.2, men denne gangen med SMOTE-oppsampling \n",
    "#from imblearn.over_sampling import SMOTE\n",
    "\n",
    "from imblearn.over_sampling import SMOTE\n",
    "import seaborn as sns\n",
    "\n",
    "# Laster inn datasettet\n",
    "df = pd.read_csv(\"./datasett2.csv\")\n",
    "\n",
    "# Konverterer kategoriske variabler til heltall\n",
    "kolonner_obj = df.select_dtypes(include=['object']).columns\n",
    "\n",
    "for i in kolonner_obj:\n",
    "    unique_values = list(df[i].unique())\n",
    "    df[i] = df[i].apply(lambda x: unique_values.index(x))\n",
    "\n",
    "# Konverterer alle kolonner til strengtype\n",
    "df = df.astype(str)\n",
    "\n",
    "# Deler datasettet inn i egenskaper (X) og mål (y)\n",
    "X = df.iloc[:, 1:-1]\n",
    "y = df.iloc[:, -1]\n",
    "\n",
    "# Initialiserer SMOTE\n",
    "smote = SMOTE(random_state=0)\n",
    "\n",
    "# Påfører SMOTE for å lage syntetiske prøver\n",
    "X_resampled, y_resampled = smote.fit_resample(X, y)\n",
    "\n",
    "# Definerer modeller\n",
    "model1 = RandomForestClassifier(random_state=0)\n",
    "model2 = SVC(random_state=0)\n",
    "\n",
    "# Definerer kryssvalidering\n",
    "cv = RepeatedStratifiedKFold(n_splits=5, n_repeats=10, random_state=0)\n",
    "\n",
    "# Definerer poengberegninger\n",
    "scoring_f1 = 'f1'\n",
    "scoring_accuracy = 'accuracy'\n",
    "\n",
    "# Utfører kryssvalideringer med SMOTE for F1-poengsum og nøyaktighet\n",
    "scores_model1_f1 = cross_val_score(model1, X_resampled, y_resampled, scoring=scoring_f1, cv=cv, n_jobs=-1, verbose=2)\n",
    "scores_model2_f1 = cross_val_score(model2, X_resampled, y_resampled, scoring=scoring_f1, cv=cv, n_jobs=-1, verbose=2)\n",
    "scores_model1_accuracy = cross_val_score(model1, X_resampled, y_resampled, scoring=scoring_accuracy, cv=cv, n_jobs=-1, verbose=2)\n",
    "scores_model2_accuracy = cross_val_score(model2, X_resampled, y_resampled, scoring=scoring_accuracy, cv=cv, n_jobs=-1, verbose=2)\n",
    "\n",
    "# Visualiserer F1-poeng med et boksplott\n",
    "plt.figure(figsize=(10, 6))\n",
    "plt.boxplot([scores_model1_f1, scores_model2_f1], labels=['RandomForest', 'SVC'])\n",
    "plt.title('F1-poengsammenligning med SMOTE')\n",
    "plt.ylabel('F1-poengsum')\n",
    "plt.show()\n",
    "\n",
    "# Utfører en tosidig t-test på F1-resultatene\n",
    "t_stat_f1, p_value_f1 = ttest_rel(scores_model1_f1, scores_model2_f1)\n",
    "print(f'Tosidig t-testresultat for F1-score med SMOTE: p-verdi = {p_value_f1}, forskjellen er {\"betydelige\" if p_value_f1 < 0.05 else \"ikke betydelige\"}')\n",
    "\n",
    "# Visualiserer nøyaktighetspoeng med et boksplott\n",
    "plt.figure(figsize=(10, 6))\n",
    "sns.boxplot(x=['Model 1']*len(scores_model1_accuracy) + ['Model 2']*len(scores_model2_accuracy), y=list(scores_model1_accuracy) + list(scores_model2_accuracy), hue=['Accuracy']*len(scores_model1_accuracy) + ['Accuracy']*len(scores_model2_accuracy))\n",
    "plt.title('Nøyaktighetspoeng sammenligning med SMOTE')\n",
    "plt.xlabel('Modeler')\n",
    "plt.ylabel('Nøyaktighetspoeng')\n",
    "plt.legend(title='Metric')\n",
    "plt.show()\n",
    "\n",
    "# Utfører en tosidig t-test på nøyaktighetsskårene\n",
    "t_stat_accuracy, p_value_accuracy = ttest_rel(scores_model1_accuracy, scores_model2_accuracy)\n",
    "print(f'Tosidig t-testresultat for nøyaktighetspoeng med SMOTE: p-verdi = {p_value_accuracy}, forskjellen er {\"betydelige\" if p_value_accuracy < 0.05 else \"ikke betydelige\"}')\n"
   ]
  },
  {
   "cell_type": "markdown",
   "id": "08c962b2",
   "metadata": {},
   "source": [
    "**Svar:**\n",
    "\n",
    "*< ditt tekstsvar her >*\n",
    "\n",
    "Igjen så er problemet med F1 scores fortsatt der.\n",
    "\n",
    "P-verdien for F1-poengsummene uten SMOTE rapporteres som \"nan\" (ikke et tall). Dette skjer vanligvis når variansen til F1-poengsummene er svært lav, og t-testen ikke kan utføres pålitelig. Det antyder at det kanskje ikke er en signifikant forskjell i F1-score mellom de to modellene uten SMOTE.\n",
    "\n",
    "Tidligere testing for p-verdien for F1-poengsummene uten SMOTE kom til 5,854314964437916e-17, som er betydelig mindre enn 0,05. Dette indikerer en signifikant forskjell i F1-score mellom de to modellene uten SMOTE.\n",
    "\n",
    "P-verdien for F1-poengene med SMOTE er også \"nan\", noe som indikerer at det kanskje ikke er en signifikant forskjell i F1-score mellom de to modellene med SMOTE.\n",
    "\n",
    "P-verdien for nøyaktighetspoengsummene uten SMOTE er 0,0035270733389950047, som er mindre enn 0,05. Dette betyr at det er en betydelig forskjell i nøyaktighet mellom de to modellene uten SMOTE.\n",
    "\n",
    "P-verdien for nøyaktighetspoengene med SMOTE er 2,0994861790398841e-60, noe som indikerer en svært signifikant forskjell i nøyaktighet mellom de to modellene med SMOTE.\n",
    "\n",
    "For å si det enkelt:\n",
    "\n",
    "F1-poeng: Det er en signifikant forskjell i F1-score mellom modellene uten SMOTE, men p-verdien for F1-score med SMOTE er fortsatt \"nan\", noe som tyder på ingen signifikant forskjell.\n",
    "\n",
    "Nøyaktighetspoeng: Uten SMOTE er det en betydelig forskjell i nøyaktighet mellom de to modellene. Med SMOTE er det en svært betydelig forskjell i nøyaktighet mellom de to modellene.\n",
    "\n",
    "Disse resultatene fremhever viktigheten av å vurdere både F1-score og nøyaktighet i evalueringen, og det ser ut til at SMOTE har en mer uttalt innvirkning på nøyaktigheten enn på F1-score i ditt spesifikke tilfelle."
   ]
  },
  {
   "cell_type": "markdown",
   "id": "1225c5f6",
   "metadata": {},
   "source": [
    "#### Oppgave 2.4)\n",
    "Tren den beste modellen på nytt og utfør prediksjon på testsettet. Mål nå ytelsen på testsettet ved bruk av sensitivitet, spesifisitet og presisjon, itillegg til F1-skår og accuracy"
   ]
  },
  {
   "cell_type": "code",
   "execution_count": 12,
   "id": "6bcf8534",
   "metadata": {
    "scrolled": true
   },
   "outputs": [
    {
     "name": "stdout",
     "output_type": "stream",
     "text": [
      "Confusion Matrix:\n",
      " [[1477    0]\n",
      " [  25  175]]\n",
      "\n",
      "Classification Report:\n",
      "               precision    recall  f1-score   support\n",
      "\n",
      "           0       0.98      1.00      0.99      1477\n",
      "           1       1.00      0.88      0.93       200\n",
      "\n",
      "    accuracy                           0.99      1677\n",
      "   macro avg       0.99      0.94      0.96      1677\n",
      "weighted avg       0.99      0.99      0.98      1677\n",
      "\n",
      "Sensitivity: 0.875\n",
      "Specificity: 1.0\n",
      "Precision: 1.0\n",
      "F1 Score: 0.9333333333333333\n",
      "Accuracy: 0.9850924269528921\n"
     ]
    }
   ],
   "source": [
    "from sklearn.model_selection import cross_val_predict\n",
    "from sklearn.metrics import confusion_matrix, classification_report, make_scorer, accuracy_score, precision_score, recall_score, f1_score\n",
    "\n",
    "#TODO: Tren den beste modellen fra 2.2 og 2.3 på alle treningsdataene og test på testdataene\n",
    "\n",
    "# Laster inn datasettet\n",
    "df = pd.read_csv(\"./datasett2.csv\")\n",
    "\n",
    "# Konverterer kategoriske variabler til heltall\n",
    "kolonner_obj = df.select_dtypes(include=['object']).columns\n",
    "\n",
    "for i in kolonner_obj:\n",
    "    unique_values = list(df[i].unique())\n",
    "    df[i] = df[i].apply(lambda x: unique_values.index(x))\n",
    "\n",
    "# Konverterer alle kolonner til strengtype\n",
    "df = df.astype(str)\n",
    "\n",
    "# Deler datasettet inn i egenskaper (X) og mål (y)\n",
    "X = df.iloc[:, 1:-1]\n",
    "y = df.iloc[:, -1]\n",
    "\n",
    "# Definerer den beste modellen (bruker de beste parameterne som finnes i oppgave 2.2 og 2.3)\n",
    "best_model = RandomForestClassifier(random_state=0, n_estimators=100, max_depth=10)\n",
    "\n",
    "# Trener modellen på alle treningsdata\n",
    "best_model.fit(X, y)\n",
    "\n",
    "# Forutsier testsettet\n",
    "y_pred = best_model.predict(X)\n",
    "\n",
    "# Evaluerer ytelsen på testsettet\n",
    "conf_matrix = confusion_matrix(y, y_pred)\n",
    "classification_rep = classification_report(y, y_pred)\n",
    "\n",
    "# Beregner sensitivitet, spesifisitet, presisjon, F1-score og nøyaktighet\n",
    "sensitivity = recall_score(y, y_pred, pos_label='1')\n",
    "specificity = recall_score(y, y_pred, pos_label='0')\n",
    "precision = precision_score(y, y_pred, pos_label='1')\n",
    "f1 = f1_score(y, y_pred, pos_label='1')\n",
    "accuracy = accuracy_score(y, y_pred)\n",
    "\n",
    "# Skriver ut resultatene\n",
    "print(\"Confusion Matrix:\\n\", conf_matrix)\n",
    "print(\"\\nClassification Report:\\n\", classification_rep)\n",
    "print(f\"Sensitivity: {sensitivity}\")\n",
    "print(f\"Specificity: {specificity}\")\n",
    "print(f\"Precision: {precision}\")\n",
    "print(f\"F1 Score: {f1}\")\n",
    "print(f\"Accuracy: {accuracy}\")"
   ]
  },
  {
   "cell_type": "markdown",
   "id": "52e749b6",
   "metadata": {},
   "source": [
    "#### Oppgave 2.5)\n",
    "Del opp testsettet basert på kjønn og gjør en analyse av sensitivitet, spesifisitet og presisjon for menn og det samme for kvinner. Skriv ut og diskuter resultatet og forsøk å svar på følgende spørsmål:\n",
    "* Er modellen like god for begge kjønn? \n",
    "* Hvis ikke, hva tror du er årsaken og hvilke tiltak kan vi gjøre for å forbedre modellen? "
   ]
  },
  {
   "cell_type": "code",
   "execution_count": 13,
   "id": "626d5b69",
   "metadata": {
    "scrolled": true
   },
   "outputs": [
    {
     "name": "stdout",
     "output_type": "stream",
     "text": [
      "Overall Results:\n",
      "Confusion Matrix:\n",
      " [[295   3]\n",
      " [ 36   2]]\n",
      "\n",
      "Classification Report:\n",
      "               precision    recall  f1-score   support\n",
      "\n",
      "           0       0.89      0.99      0.94       298\n",
      "           1       0.40      0.05      0.09        38\n",
      "\n",
      "    accuracy                           0.88       336\n",
      "   macro avg       0.65      0.52      0.52       336\n",
      "weighted avg       0.84      0.88      0.84       336\n",
      "\n",
      "Unique Gender Values in Test Set: ['1' '0']\n",
      "\n",
      "Results for Men:\n",
      "Confusion Matrix:\n",
      " [[122   2]\n",
      " [ 10   1]]\n",
      "\n",
      "Classification Report:\n",
      "               precision    recall  f1-score   support\n",
      "\n",
      "           0       0.92      0.98      0.95       124\n",
      "           1       0.33      0.09      0.14        11\n",
      "\n",
      "    accuracy                           0.91       135\n",
      "   macro avg       0.63      0.54      0.55       135\n",
      "weighted avg       0.88      0.91      0.89       135\n",
      "\n",
      "\n",
      "Results for Women:\n",
      "Confusion Matrix:\n",
      " [[173   1]\n",
      " [ 26   1]]\n",
      "\n",
      "Classification Report:\n",
      "               precision    recall  f1-score   support\n",
      "\n",
      "           0       0.87      0.99      0.93       174\n",
      "           1       0.50      0.04      0.07        27\n",
      "\n",
      "    accuracy                           0.87       201\n",
      "   macro avg       0.68      0.52      0.50       201\n",
      "weighted avg       0.82      0.87      0.81       201\n",
      "\n"
     ]
    }
   ],
   "source": [
    "#TODO: Gjør kjønnsbasert analyse på testdataene\n",
    "\n",
    "from sklearn.metrics import confusion_matrix, classification_report, recall_score, precision_score\n",
    "\n",
    "# Laster inn datasettet\n",
    "df = pd.read_csv(\"./datasett2.csv\")\n",
    "\n",
    "# Konverterer kategoriske variabler til heltall\n",
    "kolonner_obj = df.select_dtypes(include=['object']).columns\n",
    "\n",
    "for i in kolonner_obj:\n",
    "    unique_values = list(df[i].unique())\n",
    "    df[i] = df[i].apply(lambda x: unique_values.index(x))\n",
    "\n",
    "# Konverterer alle kolonner til strengtype\n",
    "df = df.astype(str)\n",
    "\n",
    "# Deler datasettet inn i egenskaper (X) og mål (y)\n",
    "X = df.iloc[:, 1:-1]\n",
    "y = df.iloc[:, -1]\n",
    "\n",
    "# Deler opp datasettet i trenings- og testsett\n",
    "X_train, X_test, y_train, y_test = train_test_split(X, y, test_size=0.2, random_state=0)\n",
    "\n",
    "# Definerer og trener modellen\n",
    "model = RandomForestClassifier(random_state=0, n_estimators=100, max_depth=10)\n",
    "model.fit(X_train, y_train)\n",
    "\n",
    "# Forutsier testsettet\n",
    "y_pred = model.predict(X_test)\n",
    "\n",
    "# Evaluerer ytelsen på hele testsettet\n",
    "conf_matrix = confusion_matrix(y_test, y_pred)\n",
    "classification_rep = classification_report(y_test, y_pred)\n",
    "\n",
    "# Skriver ut resultatene\n",
    "print(\"Overall Results:\")\n",
    "print(\"Confusion Matrix:\\n\", conf_matrix)\n",
    "print(\"\\nClassification Report:\\n\", classification_rep)\n",
    "\n",
    "# Inspiserer unike verdier i «Kjønn»-kolonnen\n",
    "unique_genders_test = X_test['Gender'].unique()\n",
    "print(\"Unique Gender Values in Test Set:\", unique_genders_test)\n",
    "\n",
    "# Fjerner ledende og etterfølgende mellomrom fra «Kjønn»-kolonnen\n",
    "X_test['Gender'] = X_test['Gender'].str.strip()\n",
    "\n",
    "# Filtrerer indekser for menn og kvinner\n",
    "men_indices = X_test['Gender'] == '1'\n",
    "women_indices = X_test['Gender'] == '0'\n",
    "\n",
    "# Analyserer ytelse for menn\n",
    "if men_indices.sum() > 0:\n",
    "    X_test_men = X_test.loc[men_indices]\n",
    "    y_test_men = y_test.loc[men_indices]\n",
    "    y_pred_men = model.predict(X_test_men)\n",
    "\n",
    "    conf_matrix_men = confusion_matrix(y_test_men, y_pred_men)\n",
    "    classification_rep_men = classification_report(y_test_men, y_pred_men)\n",
    "\n",
    "    # Skriver ut resultatene for menn\n",
    "    print(\"\\nResults for Men:\")\n",
    "    print(\"Confusion Matrix:\\n\", conf_matrix_men)\n",
    "    print(\"\\nClassification Report:\\n\", classification_rep_men)\n",
    "else:\n",
    "    print(\"\\nNo data available for Men.\")\n",
    "\n",
    "# Analyserer ytelse for kvinner\n",
    "if women_indices.sum() > 0:\n",
    "    X_test_women = X_test.loc[women_indices]\n",
    "    y_test_women = y_test.loc[women_indices]\n",
    "    y_pred_women = model.predict(X_test_women)\n",
    "\n",
    "    conf_matrix_women = confusion_matrix(y_test_women, y_pred_women)\n",
    "    classification_rep_women = classification_report(y_test_women, y_pred_women)\n",
    "\n",
    "    # Skriver ut resultatene for kvinner\n",
    "    print(\"\\nResults for Women:\")\n",
    "    print(\"Confusion Matrix:\\n\", conf_matrix_women)\n",
    "    print(\"\\nClassification Report:\\n\", classification_rep_women)\n",
    "else:\n",
    "    print(\"\\nNo data available for Women.\")\n"
   ]
  },
  {
   "cell_type": "markdown",
   "id": "3a868ac7",
   "metadata": {},
   "source": [
    "Kjør denne cellen til slutt og legg ved den genererte requirements.txt fila i pull requestet"
   ]
  },
  {
   "cell_type": "code",
   "execution_count": 14,
   "id": "8e3ef598",
   "metadata": {},
   "outputs": [
    {
     "name": "stderr",
     "output_type": "stream",
     "text": [
      "WARNING: Ignoring invalid distribution -cipy (c:\\users\\sondr\\miniconda3\\envs\\pythonproject1\\lib\\site-packages)\n"
     ]
    }
   ],
   "source": [
    "!pip freeze > requirements.txt"
   ]
  },
  {
   "cell_type": "code",
   "execution_count": null,
   "id": "9cc80952",
   "metadata": {},
   "outputs": [],
   "source": []
  }
 ],
 "metadata": {
  "kernelspec": {
   "display_name": "Python 3 (ipykernel)",
   "language": "python",
   "name": "python3"
  },
  "language_info": {
   "codemirror_mode": {
    "name": "ipython",
    "version": 3
   },
   "file_extension": ".py",
   "mimetype": "text/x-python",
   "name": "python",
   "nbconvert_exporter": "python",
   "pygments_lexer": "ipython3",
   "version": "3.10.12"
  }
 },
 "nbformat": 4,
 "nbformat_minor": 5
}
