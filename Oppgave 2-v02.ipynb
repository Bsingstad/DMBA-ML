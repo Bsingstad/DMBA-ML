{
 "cells": [
  {
   "cell_type": "markdown",
   "id": "bf1138c7",
   "metadata": {},
   "source": [
    "# Obligatorisk innlevering 2 - oppgave 2"
   ]
  },
  {
   "cell_type": "markdown",
   "id": "e8d8e9f7",
   "metadata": {},
   "source": [
    "I denne oppgaven skal vi forsøke å forutsi oppsigelser ved en arbeidsplass basert på en rekke variabler som f.eks alder, kjønn, utdannelse, lønn, osv."
   ]
  },
  {
   "cell_type": "code",
   "execution_count": null,
   "id": "60ce6e7f-04ca-409f-b545-221a7971d32c",
   "metadata": {},
   "outputs": [],
   "source": [
    "# inspired from https://github.com/Bsingstad/DMBA-ML/"
   ]
  },
  {
   "cell_type": "code",
   "execution_count": 1,
   "id": "05baf6b1",
   "metadata": {},
   "outputs": [],
   "source": [
    "import pandas as pd\n",
    "from sklearn.model_selection import train_test_split"
   ]
  },
  {
   "cell_type": "code",
   "execution_count": 2,
   "id": "768f6d65",
   "metadata": {},
   "outputs": [],
   "source": [
    "# I denne oppgaven skal dere bruke følgende datasett:\n",
    "df = pd.read_csv(\"./datasett2.csv\")"
   ]
  },
  {
   "cell_type": "markdown",
   "id": "9aa8ce4d",
   "metadata": {},
   "source": [
    "### Preprosessering:\n",
    "For å forenkle håndteringen av kategoriske data har jeg her skrevet noe kode som gjør om strenger til intergers\n",
    "\n",
    "Følgende kolonner er formatert som *object* og inneholder kategoriske variabler i form av strenger"
   ]
  },
  {
   "cell_type": "code",
   "execution_count": 3,
   "id": "46c64c03",
   "metadata": {},
   "outputs": [
    {
     "name": "stdout",
     "output_type": "stream",
     "text": [
      "Index(['BusinessTravel', 'Department', 'EducationField', 'Gender', 'JobRole',\n",
      "       'MaritalStatus', 'Over18', 'OverTime'],\n",
      "      dtype='object')\n"
     ]
    }
   ],
   "source": [
    "kolonner_obj = df.select_dtypes(include=['object']).columns\n",
    "print(kolonner_obj)"
   ]
  },
  {
   "cell_type": "markdown",
   "id": "dc187ed1",
   "metadata": {},
   "source": [
    "I koden under omformer jeg strengene til integers og gir dere \"nøkkelen\" til å konvertere det tilbake igjen"
   ]
  },
  {
   "cell_type": "code",
   "execution_count": 4,
   "id": "81141f95",
   "metadata": {},
   "outputs": [
    {
     "name": "stdout",
     "output_type": "stream",
     "text": [
      "-----------\n",
      "BusinessTravel\n",
      "-----------\n",
      "Travel_Frequently = 0\n",
      "Travel_Rarely = 1\n",
      "Non-Travel = 2\n",
      "-----------\n",
      "Department\n",
      "-----------\n",
      "Research & Development = 0\n",
      "Sales = 1\n",
      "Human Resources = 2\n",
      "-----------\n",
      "EducationField\n",
      "-----------\n",
      "Medical = 0\n",
      "Other = 1\n",
      "Marketing = 2\n",
      "Life Sciences = 3\n",
      "Technical Degree = 4\n",
      "Human Resources = 5\n",
      "-----------\n",
      "Gender\n",
      "-----------\n",
      "Male = 0\n",
      "Female = 1\n",
      "-----------\n",
      "JobRole\n",
      "-----------\n",
      "Laboratory Technician = 0\n",
      "Sales Representative = 1\n",
      "Sales Executive = 2\n",
      "Healthcare Representative = 3\n",
      "Manager = 4\n",
      "Manufacturing Director = 5\n",
      "Research Scientist = 6\n",
      "Human Resources = 7\n",
      "Research Director = 8\n",
      "-----------\n",
      "MaritalStatus\n",
      "-----------\n",
      "Married = 0\n",
      "Divorced = 1\n",
      "Single = 2\n",
      "-----------\n",
      "Over18\n",
      "-----------\n",
      "Y = 0\n",
      "-----------\n",
      "OverTime\n",
      "-----------\n",
      "Yes = 0\n",
      "No = 1\n"
     ]
    },
    {
     "name": "stderr",
     "output_type": "stream",
     "text": [
      "C:\\Users\\Tareq\\AppData\\Local\\Temp\\ipykernel_12392\\3482823818.py:7: SettingWithCopyWarning: \n",
      "A value is trying to be set on a copy of a slice from a DataFrame\n",
      "\n",
      "See the caveats in the documentation: https://pandas.pydata.org/pandas-docs/stable/user_guide/indexing.html#returning-a-view-versus-a-copy\n",
      "  df[i].loc[df[i]==j] = num\n",
      "C:\\Users\\Tareq\\AppData\\Local\\Temp\\ipykernel_12392\\3482823818.py:7: SettingWithCopyWarning: \n",
      "A value is trying to be set on a copy of a slice from a DataFrame\n",
      "\n",
      "See the caveats in the documentation: https://pandas.pydata.org/pandas-docs/stable/user_guide/indexing.html#returning-a-view-versus-a-copy\n",
      "  df[i].loc[df[i]==j] = num\n",
      "C:\\Users\\Tareq\\AppData\\Local\\Temp\\ipykernel_12392\\3482823818.py:7: SettingWithCopyWarning: \n",
      "A value is trying to be set on a copy of a slice from a DataFrame\n",
      "\n",
      "See the caveats in the documentation: https://pandas.pydata.org/pandas-docs/stable/user_guide/indexing.html#returning-a-view-versus-a-copy\n",
      "  df[i].loc[df[i]==j] = num\n",
      "C:\\Users\\Tareq\\AppData\\Local\\Temp\\ipykernel_12392\\3482823818.py:7: SettingWithCopyWarning: \n",
      "A value is trying to be set on a copy of a slice from a DataFrame\n",
      "\n",
      "See the caveats in the documentation: https://pandas.pydata.org/pandas-docs/stable/user_guide/indexing.html#returning-a-view-versus-a-copy\n",
      "  df[i].loc[df[i]==j] = num\n",
      "C:\\Users\\Tareq\\AppData\\Local\\Temp\\ipykernel_12392\\3482823818.py:7: SettingWithCopyWarning: \n",
      "A value is trying to be set on a copy of a slice from a DataFrame\n",
      "\n",
      "See the caveats in the documentation: https://pandas.pydata.org/pandas-docs/stable/user_guide/indexing.html#returning-a-view-versus-a-copy\n",
      "  df[i].loc[df[i]==j] = num\n",
      "C:\\Users\\Tareq\\AppData\\Local\\Temp\\ipykernel_12392\\3482823818.py:7: SettingWithCopyWarning: \n",
      "A value is trying to be set on a copy of a slice from a DataFrame\n",
      "\n",
      "See the caveats in the documentation: https://pandas.pydata.org/pandas-docs/stable/user_guide/indexing.html#returning-a-view-versus-a-copy\n",
      "  df[i].loc[df[i]==j] = num\n",
      "C:\\Users\\Tareq\\AppData\\Local\\Temp\\ipykernel_12392\\3482823818.py:7: SettingWithCopyWarning: \n",
      "A value is trying to be set on a copy of a slice from a DataFrame\n",
      "\n",
      "See the caveats in the documentation: https://pandas.pydata.org/pandas-docs/stable/user_guide/indexing.html#returning-a-view-versus-a-copy\n",
      "  df[i].loc[df[i]==j] = num\n",
      "C:\\Users\\Tareq\\AppData\\Local\\Temp\\ipykernel_12392\\3482823818.py:7: SettingWithCopyWarning: \n",
      "A value is trying to be set on a copy of a slice from a DataFrame\n",
      "\n",
      "See the caveats in the documentation: https://pandas.pydata.org/pandas-docs/stable/user_guide/indexing.html#returning-a-view-versus-a-copy\n",
      "  df[i].loc[df[i]==j] = num\n",
      "C:\\Users\\Tareq\\AppData\\Local\\Temp\\ipykernel_12392\\3482823818.py:7: SettingWithCopyWarning: \n",
      "A value is trying to be set on a copy of a slice from a DataFrame\n",
      "\n",
      "See the caveats in the documentation: https://pandas.pydata.org/pandas-docs/stable/user_guide/indexing.html#returning-a-view-versus-a-copy\n",
      "  df[i].loc[df[i]==j] = num\n",
      "C:\\Users\\Tareq\\AppData\\Local\\Temp\\ipykernel_12392\\3482823818.py:7: SettingWithCopyWarning: \n",
      "A value is trying to be set on a copy of a slice from a DataFrame\n",
      "\n",
      "See the caveats in the documentation: https://pandas.pydata.org/pandas-docs/stable/user_guide/indexing.html#returning-a-view-versus-a-copy\n",
      "  df[i].loc[df[i]==j] = num\n",
      "C:\\Users\\Tareq\\AppData\\Local\\Temp\\ipykernel_12392\\3482823818.py:7: SettingWithCopyWarning: \n",
      "A value is trying to be set on a copy of a slice from a DataFrame\n",
      "\n",
      "See the caveats in the documentation: https://pandas.pydata.org/pandas-docs/stable/user_guide/indexing.html#returning-a-view-versus-a-copy\n",
      "  df[i].loc[df[i]==j] = num\n",
      "C:\\Users\\Tareq\\AppData\\Local\\Temp\\ipykernel_12392\\3482823818.py:7: SettingWithCopyWarning: \n",
      "A value is trying to be set on a copy of a slice from a DataFrame\n",
      "\n",
      "See the caveats in the documentation: https://pandas.pydata.org/pandas-docs/stable/user_guide/indexing.html#returning-a-view-versus-a-copy\n",
      "  df[i].loc[df[i]==j] = num\n",
      "C:\\Users\\Tareq\\AppData\\Local\\Temp\\ipykernel_12392\\3482823818.py:7: SettingWithCopyWarning: \n",
      "A value is trying to be set on a copy of a slice from a DataFrame\n",
      "\n",
      "See the caveats in the documentation: https://pandas.pydata.org/pandas-docs/stable/user_guide/indexing.html#returning-a-view-versus-a-copy\n",
      "  df[i].loc[df[i]==j] = num\n",
      "C:\\Users\\Tareq\\AppData\\Local\\Temp\\ipykernel_12392\\3482823818.py:7: SettingWithCopyWarning: \n",
      "A value is trying to be set on a copy of a slice from a DataFrame\n",
      "\n",
      "See the caveats in the documentation: https://pandas.pydata.org/pandas-docs/stable/user_guide/indexing.html#returning-a-view-versus-a-copy\n",
      "  df[i].loc[df[i]==j] = num\n",
      "C:\\Users\\Tareq\\AppData\\Local\\Temp\\ipykernel_12392\\3482823818.py:7: SettingWithCopyWarning: \n",
      "A value is trying to be set on a copy of a slice from a DataFrame\n",
      "\n",
      "See the caveats in the documentation: https://pandas.pydata.org/pandas-docs/stable/user_guide/indexing.html#returning-a-view-versus-a-copy\n",
      "  df[i].loc[df[i]==j] = num\n",
      "C:\\Users\\Tareq\\AppData\\Local\\Temp\\ipykernel_12392\\3482823818.py:7: SettingWithCopyWarning: \n",
      "A value is trying to be set on a copy of a slice from a DataFrame\n",
      "\n",
      "See the caveats in the documentation: https://pandas.pydata.org/pandas-docs/stable/user_guide/indexing.html#returning-a-view-versus-a-copy\n",
      "  df[i].loc[df[i]==j] = num\n",
      "C:\\Users\\Tareq\\AppData\\Local\\Temp\\ipykernel_12392\\3482823818.py:7: SettingWithCopyWarning: \n",
      "A value is trying to be set on a copy of a slice from a DataFrame\n",
      "\n",
      "See the caveats in the documentation: https://pandas.pydata.org/pandas-docs/stable/user_guide/indexing.html#returning-a-view-versus-a-copy\n",
      "  df[i].loc[df[i]==j] = num\n",
      "C:\\Users\\Tareq\\AppData\\Local\\Temp\\ipykernel_12392\\3482823818.py:7: SettingWithCopyWarning: \n",
      "A value is trying to be set on a copy of a slice from a DataFrame\n",
      "\n",
      "See the caveats in the documentation: https://pandas.pydata.org/pandas-docs/stable/user_guide/indexing.html#returning-a-view-versus-a-copy\n",
      "  df[i].loc[df[i]==j] = num\n",
      "C:\\Users\\Tareq\\AppData\\Local\\Temp\\ipykernel_12392\\3482823818.py:7: SettingWithCopyWarning: \n",
      "A value is trying to be set on a copy of a slice from a DataFrame\n",
      "\n",
      "See the caveats in the documentation: https://pandas.pydata.org/pandas-docs/stable/user_guide/indexing.html#returning-a-view-versus-a-copy\n",
      "  df[i].loc[df[i]==j] = num\n",
      "C:\\Users\\Tareq\\AppData\\Local\\Temp\\ipykernel_12392\\3482823818.py:7: SettingWithCopyWarning: \n",
      "A value is trying to be set on a copy of a slice from a DataFrame\n",
      "\n",
      "See the caveats in the documentation: https://pandas.pydata.org/pandas-docs/stable/user_guide/indexing.html#returning-a-view-versus-a-copy\n",
      "  df[i].loc[df[i]==j] = num\n",
      "C:\\Users\\Tareq\\AppData\\Local\\Temp\\ipykernel_12392\\3482823818.py:7: SettingWithCopyWarning: \n",
      "A value is trying to be set on a copy of a slice from a DataFrame\n",
      "\n",
      "See the caveats in the documentation: https://pandas.pydata.org/pandas-docs/stable/user_guide/indexing.html#returning-a-view-versus-a-copy\n",
      "  df[i].loc[df[i]==j] = num\n",
      "C:\\Users\\Tareq\\AppData\\Local\\Temp\\ipykernel_12392\\3482823818.py:7: SettingWithCopyWarning: \n",
      "A value is trying to be set on a copy of a slice from a DataFrame\n",
      "\n",
      "See the caveats in the documentation: https://pandas.pydata.org/pandas-docs/stable/user_guide/indexing.html#returning-a-view-versus-a-copy\n",
      "  df[i].loc[df[i]==j] = num\n",
      "C:\\Users\\Tareq\\AppData\\Local\\Temp\\ipykernel_12392\\3482823818.py:7: SettingWithCopyWarning: \n",
      "A value is trying to be set on a copy of a slice from a DataFrame\n",
      "\n",
      "See the caveats in the documentation: https://pandas.pydata.org/pandas-docs/stable/user_guide/indexing.html#returning-a-view-versus-a-copy\n",
      "  df[i].loc[df[i]==j] = num\n",
      "C:\\Users\\Tareq\\AppData\\Local\\Temp\\ipykernel_12392\\3482823818.py:7: SettingWithCopyWarning: \n",
      "A value is trying to be set on a copy of a slice from a DataFrame\n",
      "\n",
      "See the caveats in the documentation: https://pandas.pydata.org/pandas-docs/stable/user_guide/indexing.html#returning-a-view-versus-a-copy\n",
      "  df[i].loc[df[i]==j] = num\n",
      "C:\\Users\\Tareq\\AppData\\Local\\Temp\\ipykernel_12392\\3482823818.py:7: SettingWithCopyWarning: \n",
      "A value is trying to be set on a copy of a slice from a DataFrame\n",
      "\n",
      "See the caveats in the documentation: https://pandas.pydata.org/pandas-docs/stable/user_guide/indexing.html#returning-a-view-versus-a-copy\n",
      "  df[i].loc[df[i]==j] = num\n",
      "C:\\Users\\Tareq\\AppData\\Local\\Temp\\ipykernel_12392\\3482823818.py:7: SettingWithCopyWarning: \n",
      "A value is trying to be set on a copy of a slice from a DataFrame\n",
      "\n",
      "See the caveats in the documentation: https://pandas.pydata.org/pandas-docs/stable/user_guide/indexing.html#returning-a-view-versus-a-copy\n",
      "  df[i].loc[df[i]==j] = num\n",
      "C:\\Users\\Tareq\\AppData\\Local\\Temp\\ipykernel_12392\\3482823818.py:7: SettingWithCopyWarning: \n",
      "A value is trying to be set on a copy of a slice from a DataFrame\n",
      "\n",
      "See the caveats in the documentation: https://pandas.pydata.org/pandas-docs/stable/user_guide/indexing.html#returning-a-view-versus-a-copy\n",
      "  df[i].loc[df[i]==j] = num\n",
      "C:\\Users\\Tareq\\AppData\\Local\\Temp\\ipykernel_12392\\3482823818.py:7: SettingWithCopyWarning: \n",
      "A value is trying to be set on a copy of a slice from a DataFrame\n",
      "\n",
      "See the caveats in the documentation: https://pandas.pydata.org/pandas-docs/stable/user_guide/indexing.html#returning-a-view-versus-a-copy\n",
      "  df[i].loc[df[i]==j] = num\n",
      "C:\\Users\\Tareq\\AppData\\Local\\Temp\\ipykernel_12392\\3482823818.py:7: SettingWithCopyWarning: \n",
      "A value is trying to be set on a copy of a slice from a DataFrame\n",
      "\n",
      "See the caveats in the documentation: https://pandas.pydata.org/pandas-docs/stable/user_guide/indexing.html#returning-a-view-versus-a-copy\n",
      "  df[i].loc[df[i]==j] = num\n"
     ]
    }
   ],
   "source": [
    "for i in kolonner_obj:\n",
    "    print(\"-----------\")\n",
    "    print(i)\n",
    "    print(\"-----------\")\n",
    "    for num, j in enumerate(list(df[i].unique())):\n",
    "        print(\"{} = {}\".format(j,num))\n",
    "        df[i].loc[df[i]==j] = num\n",
    "    df[i] = pd.to_numeric(df[i])"
   ]
  },
  {
   "cell_type": "markdown",
   "id": "8005f086",
   "metadata": {},
   "source": [
    "I outputen fra koden nedenfor viser datatypen til de forskjellige kolonnene, som nå etter preprosesseringen bare består av integers (int64). "
   ]
  },
  {
   "cell_type": "code",
   "execution_count": 5,
   "id": "778b6336",
   "metadata": {},
   "outputs": [
    {
     "name": "stdout",
     "output_type": "stream",
     "text": [
      "id                          int64\n",
      "Age                         int64\n",
      "BusinessTravel              int64\n",
      "DailyRate                   int64\n",
      "Department                  int64\n",
      "DistanceFromHome            int64\n",
      "Education                   int64\n",
      "EducationField              int64\n",
      "EmployeeCount               int64\n",
      "EnvironmentSatisfaction     int64\n",
      "Gender                      int64\n",
      "HourlyRate                  int64\n",
      "JobInvolvement              int64\n",
      "JobLevel                    int64\n",
      "JobRole                     int64\n",
      "JobSatisfaction             int64\n",
      "MaritalStatus               int64\n",
      "MonthlyIncome               int64\n",
      "MonthlyRate                 int64\n",
      "NumCompaniesWorked          int64\n",
      "Over18                      int64\n",
      "OverTime                    int64\n",
      "PercentSalaryHike           int64\n",
      "PerformanceRating           int64\n",
      "RelationshipSatisfaction    int64\n",
      "StandardHours               int64\n",
      "StockOptionLevel            int64\n",
      "TotalWorkingYears           int64\n",
      "TrainingTimesLastYear       int64\n",
      "WorkLifeBalance             int64\n",
      "YearsAtCompany              int64\n",
      "YearsInCurrentRole          int64\n",
      "YearsSinceLastPromotion     int64\n",
      "YearsWithCurrManager        int64\n",
      "Attrition                   int64\n",
      "dtype: object\n"
     ]
    }
   ],
   "source": [
    "print(df.dtypes)"
   ]
  },
  {
   "cell_type": "code",
   "execution_count": 6,
   "id": "fddb6d19",
   "metadata": {},
   "outputs": [],
   "source": [
    "# Her deler jeg datasettet inn i egenskaper (X) og target (y) (fjerner også den første kolonnen siden det bare er en ID \n",
    "# og har dermed ingen prediktiv verdi)\n",
    "\n",
    "X = df.iloc[:,1:-1]\n",
    "y = df.iloc[:,-1]\n",
    "\n",
    "# Tilslutt deler jeg inn i et trening- og et testsett (75%/25%)\n",
    "\n",
    "X_train, X_test, y_train, y_test = train_test_split(X,y,test_size=0.25, random_state=0)\n",
    "\n",
    "# PS: Ikke endre denne kodecellen!"
   ]
  },
  {
   "cell_type": "markdown",
   "id": "4d571797",
   "metadata": {},
   "source": [
    "#### Oppgave 2.1) \n",
    "Visualiser $y\\_train$ og $y\\_val$ i et histogram. Kan du, basert på figuren, se hva slags problem vi skal løse (regresjon/klassifisering)? Begrunn svaret"
   ]
  },
  {
   "cell_type": "code",
   "execution_count": 7,
   "id": "fc9a05d8-0fe5-48f9-aef5-f95e3d44884c",
   "metadata": {
    "tags": []
   },
   "outputs": [],
   "source": [
    "# X_train"
   ]
  },
  {
   "cell_type": "code",
   "execution_count": 8,
   "id": "bedf7e78-34d7-4d75-b9c2-f167f7af908d",
   "metadata": {
    "tags": []
   },
   "outputs": [],
   "source": [
    "# X_test"
   ]
  },
  {
   "cell_type": "code",
   "execution_count": 9,
   "id": "2221de78-c109-4cf0-8c83-4710b9e24f73",
   "metadata": {
    "tags": []
   },
   "outputs": [],
   "source": [
    "# y_train"
   ]
  },
  {
   "cell_type": "code",
   "execution_count": 10,
   "id": "b2b0919a-29f5-484a-917f-70ddce667b75",
   "metadata": {
    "tags": []
   },
   "outputs": [],
   "source": [
    "# y_test"
   ]
  },
  {
   "cell_type": "code",
   "execution_count": 11,
   "id": "f85a7509",
   "metadata": {},
   "outputs": [
    {
     "data": {
      "image/png": "[encoded data removed]",
      "text/plain": [
       "<Figure size 400x300 with 1 Axes>"
      ]
     },
     "metadata": {},
     "output_type": "display_data"
    },
    {
     "data": {
      "image/png": "[encoded data removed]",
      "text/plain": [
       "<Figure size 400x300 with 1 Axes>"
      ]
     },
     "metadata": {},
     "output_type": "display_data"
    }
   ],
   "source": [
    "#TODO: visualiser y_train og y_test i et histogram\n",
    "import matplotlib.pyplot as plt\n",
    "\n",
    "# Plot a histogram for y_train\n",
    "plt.figure(figsize=(4, 3))\n",
    "plt.hist(y_train, bins=40, label='y_train')\n",
    "plt.xlabel('Values')\n",
    "plt.ylabel('Frequency')\n",
    "plt.title('Histogram of y_train')\n",
    "plt.legend()\n",
    "plt.show()\n",
    "\n",
    "# Plot a histogram for y_test\n",
    "plt.figure(figsize=(4, 3))\n",
    "plt.hist(y_test, bins=40, color='red', label='y_test')\n",
    "plt.xlabel('Values')\n",
    "plt.ylabel('Frequency')\n",
    "plt.title('Histogram of y_test')\n",
    "plt.legend()\n",
    "plt.show()"
   ]
  },
  {
   "cell_type": "markdown",
   "id": "15176882",
   "metadata": {},
   "source": [
    "**Svar:**\n",
    "\n",
    "*< The data in y_train and y_test show that we need to work on a binary classification task because we aim to predict \"Attrition\" for different employees, whether an employee resigns from the company (0) or not (1).\n",
    "\n",
    "So, we need to build a classification model to predict whether an employee, based on their specifications, will continue with the company or not. >*"
   ]
  },
  {
   "cell_type": "markdown",
   "id": "dc4c9188",
   "metadata": {},
   "source": [
    "#### Oppgave 2.2)\n",
    "Velg to modeller og gjør repeterte kryssvalideringer $(10)$ med $K=5$\n",
    "* Velg hvorvidt du vil bruke \"default\" hyperparamtre for modellene eller om du vil gjøre et hyperparametersøk\n",
    "* Skår ytelsen til modellene ved hjelp av F1-score og accuracy\n",
    "* Visualiser F1-skårene fra de repeterte kryssvalideringene som et boksplot\n",
    "* Undersøk om modell 1 er bedre eller dårligere enn modell 2 ved å gjøre en to-sidig T-test på F1-skårene fra de repeterte kryssvalideringene \n",
    "* Tolk resultatene skriftlig til slutt \n"
   ]
  },
  {
   "cell_type": "code",
   "execution_count": 12,
   "id": "f9480591-56fc-4293-96ac-0cb45454ca2f",
   "metadata": {
    "tags": []
   },
   "outputs": [
    {
     "name": "stderr",
     "output_type": "stream",
     "text": [
      "E:\\Projects_H2023\\DMBA_2023\\DMBA-ML_oblig2_2023\\DMBA-ML_oblig2_2023\\Lib\\site-packages\\sklearn\\linear_model\\_logistic.py:460: ConvergenceWarning: lbfgs failed to converge (status=1):\n",
      "STOP: TOTAL NO. of ITERATIONS REACHED LIMIT.\n",
      "\n",
      "Increase the number of iterations (max_iter) or scale the data as shown in:\n",
      "    https://scikit-learn.org/stable/modules/preprocessing.html\n",
      "Please also refer to the documentation for alternative solver options:\n",
      "    https://scikit-learn.org/stable/modules/linear_model.html#logistic-regression\n",
      "  n_iter_i = _check_optimize_result(\n",
      "E:\\Projects_H2023\\DMBA_2023\\DMBA-ML_oblig2_2023\\DMBA-ML_oblig2_2023\\Lib\\site-packages\\sklearn\\linear_model\\_logistic.py:460: ConvergenceWarning: lbfgs failed to converge (status=1):\n",
      "STOP: TOTAL NO. of ITERATIONS REACHED LIMIT.\n",
      "\n",
      "Increase the number of iterations (max_iter) or scale the data as shown in:\n",
      "    https://scikit-learn.org/stable/modules/preprocessing.html\n",
      "Please also refer to the documentation for alternative solver options:\n",
      "    https://scikit-learn.org/stable/modules/linear_model.html#logistic-regression\n",
      "  n_iter_i = _check_optimize_result(\n",
      "E:\\Projects_H2023\\DMBA_2023\\DMBA-ML_oblig2_2023\\DMBA-ML_oblig2_2023\\Lib\\site-packages\\sklearn\\linear_model\\_logistic.py:460: ConvergenceWarning: lbfgs failed to converge (status=1):\n",
      "STOP: TOTAL NO. of ITERATIONS REACHED LIMIT.\n",
      "\n",
      "Increase the number of iterations (max_iter) or scale the data as shown in:\n",
      "    https://scikit-learn.org/stable/modules/preprocessing.html\n",
      "Please also refer to the documentation for alternative solver options:\n",
      "    https://scikit-learn.org/stable/modules/linear_model.html#logistic-regression\n",
      "  n_iter_i = _check_optimize_result(\n"
     ]
    }
   ],
   "source": [
    "#TODO: repeterte kryssvalideringer for to modeller part 1\n",
    "\n",
    "from sklearn.model_selection import RepeatedKFold\n",
    "from sklearn.metrics import f1_score\n",
    "from sklearn.linear_model import LogisticRegression\n",
    "from sklearn.neural_network import MLPClassifier\n",
    "import numpy as np\n",
    "from scipy.stats import ttest_ind\n",
    "import matplotlib.pyplot as plt\n",
    "\n",
    "# Initialize RepeatedKFold with 5 splits and 10 repeats\n",
    "rkf = RepeatedKFold(n_splits=5, n_repeats=10, random_state=42)\n",
    "\n",
    "# Lists F1-scores \n",
    "f1_score_log_reg = []\n",
    "f1_score_mlp = []\n",
    "\n",
    "# Create instances of the models\n",
    "logreg = LogisticRegression(solver='lbfgs', max_iter=5000)\n",
    "mlp = MLPClassifier(random_state=1, max_iter=5000, solver=\"sgd\", learning_rate=\"adaptive\")\n",
    "\n",
    "# Loop repeated cross-validation\n",
    "for i, (train_index, val_index) in enumerate(rkf.split(X_train)):\n",
    "    X_train_cv, X_val_cv = X_train.iloc[train_index], X_train.iloc[val_index]\n",
    "    y_train_cv, y_val_cv = y_train.iloc[train_index], y_train.iloc[val_index]\n",
    "\n",
    "    # Train - predict Logistic Regression\n",
    "    logreg.fit(X_train_cv, y_train_cv)\n",
    "    y_val_hat_log_reg = logreg.predict_proba(X_val_cv)[:, 1]\n",
    "    score_log_reg = f1_score(y_val_cv, (y_val_hat_log_reg > 0.5).astype(int), average='binary').round(2)\n",
    "    f1_score_log_reg.append(score_log_reg)\n",
    "\n",
    "    # Train - predict MLP\n",
    "    mlp.fit(X_train_cv, y_train_cv)\n",
    "    y_val_hat_mlp = mlp.predict_proba(X_val_cv)[:, 1]\n",
    "    score_mlp = f1_score(y_val_cv, (y_val_hat_mlp > 0.5).astype(int), average='binary').round(2)\n",
    "    f1_score_mlp.append(score_mlp)\n"
   ]
  },
  {
   "cell_type": "code",
   "execution_count": 13,
   "id": "cd1d98b8-a68c-4ddb-8be8-14a3cfa9b34d",
   "metadata": {
    "tags": []
   },
   "outputs": [
    {
     "name": "stdout",
     "output_type": "stream",
     "text": [
      "Logistic Regression: Mean F1-score = 0.28 ± 0.092\n",
      "MLP: Mean F1-score = 0.0 ± 0.0\n",
      "p-verdi =  0.0\n"
     ]
    }
   ],
   "source": [
    "#TODO: repeterte kryssvalideringer for to modeller part 2\n",
    "# mean - standard deviation F1-scores\n",
    "log_reg_mean = np.asarray(f1_score_log_reg).mean().round(3)\n",
    "log_reg_std = np.asarray(f1_score_log_reg).std().round(3)\n",
    "mlp_mean = np.asarray(f1_score_mlp).mean().round(3)\n",
    "mlp_std = np.asarray(f1_score_mlp).std().round(3)\n",
    "\n",
    "print(\"Logistic Regression: Mean F1-score = {} ± {}\".format(log_reg_mean, log_reg_std))\n",
    "print(\"MLP: Mean F1-score = {} ± {}\".format(mlp_mean, mlp_std))\n",
    "print(\"p-verdi = \",ttest_ind(np.asarray(f1_score_log_reg), np.asarray(f1_score_mlp), axis=0,equal_var=True, alternative=\"two-sided\")[1].round(7))"
   ]
  },
  {
   "cell_type": "code",
   "execution_count": 14,
   "id": "d26eccf9-53d5-42cf-8013-ce838b43dcdf",
   "metadata": {
    "tags": []
   },
   "outputs": [
    {
     "data": {
      "image/png": "[encoded data removed]",
      "text/plain": [
       "<Figure size 640x480 with 1 Axes>"
      ]
     },
     "metadata": {},
     "output_type": "display_data"
    }
   ],
   "source": [
    "#TODO: repeterte kryssvalideringer for to modeller part 3\n",
    "# Visualize F1-scores using a box plot\n",
    "plt.boxplot([np.asarray(f1_score_log_reg), np.asarray(f1_score_mlp)])\n",
    "#plt.ylim(0.8, 1.05)\n",
    "plt.xticks([1, 2], [\"Log Reg\", \"MLP\"])\n",
    "plt.ylabel(\"F1-score\")\n",
    "plt.xlabel(\"Models\")\n",
    "plt.show()"
   ]
  },
  {
   "cell_type": "markdown",
   "id": "6f46c56f",
   "metadata": {},
   "source": [
    "**Svar:**\n",
    "\n",
    "*< Both Logistic Regression and MLP models have low F1-scores, with Logistic Regression performing better. The MLP model may not be suitable for classification tasks. The p-value for the T-test is very low for both models. To improve performance, we can adjust hyperparameters or use imbalanced learn and SMOTE techniques to balance the data. >*"
   ]
  },
  {
   "cell_type": "markdown",
   "id": "d2ff50c7",
   "metadata": {},
   "source": [
    "#### Oppgave 2.3) \n",
    "Tren de samme modellene men denne gangen med et balansert datasett\n",
    "* Bruk imbalaced learn og SMOTE til å oppsample minioritetsklassen (bare oppsample treningsdataene i kryssvalideringen - ikke valideringsdataene)\n",
    "* Skår ytelsen til modellene ved hjelp av F1-score og accuracy\n",
    "* Visualiser F1-skårene fra de repeterte kryssvalideringene som et boksplot\n",
    "* Undersøk om modell 1 er bedre eller dårligere enn modell 2 ved å gjøre en to-sidig T-test på F1-skårene fra de repeterte kryssvalideringene \n",
    "* Tolk resultatene og sammenlign resultatene med 2.2) "
   ]
  },
  {
   "cell_type": "code",
   "execution_count": 15,
   "id": "0c95e001",
   "metadata": {},
   "outputs": [],
   "source": [
    "#TODO: repeterte kryssvalideringer for de samme to modellene som i oppgave 2.2, men denne gangen med SMOTE-oppsampling \n",
    "#from imblearn.over_sampling import SMOTE"
   ]
  },
  {
   "cell_type": "code",
   "execution_count": 16,
   "id": "edc376e8-580e-4b0d-ba8b-c0d2654939bd",
   "metadata": {
    "tags": []
   },
   "outputs": [],
   "source": [
    "# !pip install -U imbalanced-learn"
   ]
  },
  {
   "cell_type": "code",
   "execution_count": 17,
   "id": "d8b24587-5965-43ad-9379-255e9c13a3f7",
   "metadata": {
    "tags": []
   },
   "outputs": [
    {
     "name": "stderr",
     "output_type": "stream",
     "text": [
      "E:\\Projects_H2023\\DMBA_2023\\DMBA-ML_oblig2_2023\\DMBA-ML_oblig2_2023\\Lib\\site-packages\\sklearn\\linear_model\\_logistic.py:460: ConvergenceWarning: lbfgs failed to converge (status=1):\n",
      "STOP: TOTAL NO. of ITERATIONS REACHED LIMIT.\n",
      "\n",
      "Increase the number of iterations (max_iter) or scale the data as shown in:\n",
      "    https://scikit-learn.org/stable/modules/preprocessing.html\n",
      "Please also refer to the documentation for alternative solver options:\n",
      "    https://scikit-learn.org/stable/modules/linear_model.html#logistic-regression\n",
      "  n_iter_i = _check_optimize_result(\n",
      "E:\\Projects_H2023\\DMBA_2023\\DMBA-ML_oblig2_2023\\DMBA-ML_oblig2_2023\\Lib\\site-packages\\sklearn\\linear_model\\_logistic.py:460: ConvergenceWarning: lbfgs failed to converge (status=1):\n",
      "STOP: TOTAL NO. of ITERATIONS REACHED LIMIT.\n",
      "\n",
      "Increase the number of iterations (max_iter) or scale the data as shown in:\n",
      "    https://scikit-learn.org/stable/modules/preprocessing.html\n",
      "Please also refer to the documentation for alternative solver options:\n",
      "    https://scikit-learn.org/stable/modules/linear_model.html#logistic-regression\n",
      "  n_iter_i = _check_optimize_result(\n",
      "E:\\Projects_H2023\\DMBA_2023\\DMBA-ML_oblig2_2023\\DMBA-ML_oblig2_2023\\Lib\\site-packages\\sklearn\\linear_model\\_logistic.py:460: ConvergenceWarning: lbfgs failed to converge (status=1):\n",
      "STOP: TOTAL NO. of ITERATIONS REACHED LIMIT.\n",
      "\n",
      "Increase the number of iterations (max_iter) or scale the data as shown in:\n",
      "    https://scikit-learn.org/stable/modules/preprocessing.html\n",
      "Please also refer to the documentation for alternative solver options:\n",
      "    https://scikit-learn.org/stable/modules/linear_model.html#logistic-regression\n",
      "  n_iter_i = _check_optimize_result(\n",
      "E:\\Projects_H2023\\DMBA_2023\\DMBA-ML_oblig2_2023\\DMBA-ML_oblig2_2023\\Lib\\site-packages\\sklearn\\linear_model\\_logistic.py:460: ConvergenceWarning: lbfgs failed to converge (status=1):\n",
      "STOP: TOTAL NO. of ITERATIONS REACHED LIMIT.\n",
      "\n",
      "Increase the number of iterations (max_iter) or scale the data as shown in:\n",
      "    https://scikit-learn.org/stable/modules/preprocessing.html\n",
      "Please also refer to the documentation for alternative solver options:\n",
      "    https://scikit-learn.org/stable/modules/linear_model.html#logistic-regression\n",
      "  n_iter_i = _check_optimize_result(\n",
      "E:\\Projects_H2023\\DMBA_2023\\DMBA-ML_oblig2_2023\\DMBA-ML_oblig2_2023\\Lib\\site-packages\\sklearn\\linear_model\\_logistic.py:460: ConvergenceWarning: lbfgs failed to converge (status=1):\n",
      "STOP: TOTAL NO. of ITERATIONS REACHED LIMIT.\n",
      "\n",
      "Increase the number of iterations (max_iter) or scale the data as shown in:\n",
      "    https://scikit-learn.org/stable/modules/preprocessing.html\n",
      "Please also refer to the documentation for alternative solver options:\n",
      "    https://scikit-learn.org/stable/modules/linear_model.html#logistic-regression\n",
      "  n_iter_i = _check_optimize_result(\n",
      "E:\\Projects_H2023\\DMBA_2023\\DMBA-ML_oblig2_2023\\DMBA-ML_oblig2_2023\\Lib\\site-packages\\sklearn\\linear_model\\_logistic.py:460: ConvergenceWarning: lbfgs failed to converge (status=1):\n",
      "STOP: TOTAL NO. of ITERATIONS REACHED LIMIT.\n",
      "\n",
      "Increase the number of iterations (max_iter) or scale the data as shown in:\n",
      "    https://scikit-learn.org/stable/modules/preprocessing.html\n",
      "Please also refer to the documentation for alternative solver options:\n",
      "    https://scikit-learn.org/stable/modules/linear_model.html#logistic-regression\n",
      "  n_iter_i = _check_optimize_result(\n",
      "E:\\Projects_H2023\\DMBA_2023\\DMBA-ML_oblig2_2023\\DMBA-ML_oblig2_2023\\Lib\\site-packages\\sklearn\\linear_model\\_logistic.py:460: ConvergenceWarning: lbfgs failed to converge (status=1):\n",
      "STOP: TOTAL NO. of ITERATIONS REACHED LIMIT.\n",
      "\n",
      "Increase the number of iterations (max_iter) or scale the data as shown in:\n",
      "    https://scikit-learn.org/stable/modules/preprocessing.html\n",
      "Please also refer to the documentation for alternative solver options:\n",
      "    https://scikit-learn.org/stable/modules/linear_model.html#logistic-regression\n",
      "  n_iter_i = _check_optimize_result(\n",
      "E:\\Projects_H2023\\DMBA_2023\\DMBA-ML_oblig2_2023\\DMBA-ML_oblig2_2023\\Lib\\site-packages\\sklearn\\linear_model\\_logistic.py:460: ConvergenceWarning: lbfgs failed to converge (status=1):\n",
      "STOP: TOTAL NO. of ITERATIONS REACHED LIMIT.\n",
      "\n",
      "Increase the number of iterations (max_iter) or scale the data as shown in:\n",
      "    https://scikit-learn.org/stable/modules/preprocessing.html\n",
      "Please also refer to the documentation for alternative solver options:\n",
      "    https://scikit-learn.org/stable/modules/linear_model.html#logistic-regression\n",
      "  n_iter_i = _check_optimize_result(\n",
      "E:\\Projects_H2023\\DMBA_2023\\DMBA-ML_oblig2_2023\\DMBA-ML_oblig2_2023\\Lib\\site-packages\\sklearn\\linear_model\\_logistic.py:460: ConvergenceWarning: lbfgs failed to converge (status=1):\n",
      "STOP: TOTAL NO. of ITERATIONS REACHED LIMIT.\n",
      "\n",
      "Increase the number of iterations (max_iter) or scale the data as shown in:\n",
      "    https://scikit-learn.org/stable/modules/preprocessing.html\n",
      "Please also refer to the documentation for alternative solver options:\n",
      "    https://scikit-learn.org/stable/modules/linear_model.html#logistic-regression\n",
      "  n_iter_i = _check_optimize_result(\n",
      "E:\\Projects_H2023\\DMBA_2023\\DMBA-ML_oblig2_2023\\DMBA-ML_oblig2_2023\\Lib\\site-packages\\sklearn\\linear_model\\_logistic.py:460: ConvergenceWarning: lbfgs failed to converge (status=1):\n",
      "STOP: TOTAL NO. of ITERATIONS REACHED LIMIT.\n",
      "\n",
      "Increase the number of iterations (max_iter) or scale the data as shown in:\n",
      "    https://scikit-learn.org/stable/modules/preprocessing.html\n",
      "Please also refer to the documentation for alternative solver options:\n",
      "    https://scikit-learn.org/stable/modules/linear_model.html#logistic-regression\n",
      "  n_iter_i = _check_optimize_result(\n",
      "E:\\Projects_H2023\\DMBA_2023\\DMBA-ML_oblig2_2023\\DMBA-ML_oblig2_2023\\Lib\\site-packages\\sklearn\\linear_model\\_logistic.py:460: ConvergenceWarning: lbfgs failed to converge (status=1):\n",
      "STOP: TOTAL NO. of ITERATIONS REACHED LIMIT.\n",
      "\n",
      "Increase the number of iterations (max_iter) or scale the data as shown in:\n",
      "    https://scikit-learn.org/stable/modules/preprocessing.html\n",
      "Please also refer to the documentation for alternative solver options:\n",
      "    https://scikit-learn.org/stable/modules/linear_model.html#logistic-regression\n",
      "  n_iter_i = _check_optimize_result(\n",
      "E:\\Projects_H2023\\DMBA_2023\\DMBA-ML_oblig2_2023\\DMBA-ML_oblig2_2023\\Lib\\site-packages\\sklearn\\linear_model\\_logistic.py:460: ConvergenceWarning: lbfgs failed to converge (status=1):\n",
      "STOP: TOTAL NO. of ITERATIONS REACHED LIMIT.\n",
      "\n",
      "Increase the number of iterations (max_iter) or scale the data as shown in:\n",
      "    https://scikit-learn.org/stable/modules/preprocessing.html\n",
      "Please also refer to the documentation for alternative solver options:\n",
      "    https://scikit-learn.org/stable/modules/linear_model.html#logistic-regression\n",
      "  n_iter_i = _check_optimize_result(\n",
      "E:\\Projects_H2023\\DMBA_2023\\DMBA-ML_oblig2_2023\\DMBA-ML_oblig2_2023\\Lib\\site-packages\\sklearn\\linear_model\\_logistic.py:460: ConvergenceWarning: lbfgs failed to converge (status=1):\n",
      "STOP: TOTAL NO. of ITERATIONS REACHED LIMIT.\n",
      "\n",
      "Increase the number of iterations (max_iter) or scale the data as shown in:\n",
      "    https://scikit-learn.org/stable/modules/preprocessing.html\n",
      "Please also refer to the documentation for alternative solver options:\n",
      "    https://scikit-learn.org/stable/modules/linear_model.html#logistic-regression\n",
      "  n_iter_i = _check_optimize_result(\n",
      "E:\\Projects_H2023\\DMBA_2023\\DMBA-ML_oblig2_2023\\DMBA-ML_oblig2_2023\\Lib\\site-packages\\sklearn\\linear_model\\_logistic.py:460: ConvergenceWarning: lbfgs failed to converge (status=1):\n",
      "STOP: TOTAL NO. of ITERATIONS REACHED LIMIT.\n",
      "\n",
      "Increase the number of iterations (max_iter) or scale the data as shown in:\n",
      "    https://scikit-learn.org/stable/modules/preprocessing.html\n",
      "Please also refer to the documentation for alternative solver options:\n",
      "    https://scikit-learn.org/stable/modules/linear_model.html#logistic-regression\n",
      "  n_iter_i = _check_optimize_result(\n",
      "E:\\Projects_H2023\\DMBA_2023\\DMBA-ML_oblig2_2023\\DMBA-ML_oblig2_2023\\Lib\\site-packages\\sklearn\\linear_model\\_logistic.py:460: ConvergenceWarning: lbfgs failed to converge (status=1):\n",
      "STOP: TOTAL NO. of ITERATIONS REACHED LIMIT.\n",
      "\n",
      "Increase the number of iterations (max_iter) or scale the data as shown in:\n",
      "    https://scikit-learn.org/stable/modules/preprocessing.html\n",
      "Please also refer to the documentation for alternative solver options:\n",
      "    https://scikit-learn.org/stable/modules/linear_model.html#logistic-regression\n",
      "  n_iter_i = _check_optimize_result(\n"
     ]
    }
   ],
   "source": [
    "#TODO: repeterte kryssvalideringer for de samme to modellene som i oppgave 2.2, men denne gangen med SMOTE-oppsampling \n",
    "# par 1\n",
    "from sklearn.model_selection import RepeatedKFold\n",
    "from sklearn.metrics import f1_score\n",
    "from sklearn.linear_model import LogisticRegression\n",
    "from sklearn.neural_network import MLPClassifier\n",
    "import numpy as np\n",
    "from imblearn.over_sampling import SMOTE\n",
    "from scipy.stats import ttest_ind\n",
    "import matplotlib.pyplot as plt\n",
    "\n",
    "# Initialize RepeatedKFold with 5 splits and 10 repeats\n",
    "rkf = RepeatedKFold(n_splits=5, n_repeats=10, random_state=42)\n",
    "\n",
    "# Lists  F1-scores \n",
    "f1_score_log_reg = []\n",
    "f1_score_mlp = []\n",
    "\n",
    "# Instances of the models\n",
    "logreg = LogisticRegression(solver='lbfgs', max_iter=5000)\n",
    "mlp = MLPClassifier(random_state=1, max_iter=5000, solver=\"sgd\", learning_rate=\"adaptive\")\n",
    "\n",
    "# repeated cross-validation\n",
    "for i, (train_index, val_index) in enumerate(rkf.split(X_train)):\n",
    "    X_train_cv, X_val_cv = X_train.iloc[train_index], X_train.iloc[val_index]\n",
    "    y_train_cv, y_val_cv = y_train.iloc[train_index], y_train.iloc[val_index]\n",
    "\n",
    "    # Upsampling using SMOTE\n",
    "    smote = SMOTE(sampling_strategy='auto', random_state=42)\n",
    "    X_train_cv_resampled, y_train_cv_resampled = smote.fit_resample(X_train_cv, y_train_cv)\n",
    "\n",
    "    # Train - predict Logistic Regression - balanced dataset\n",
    "    logreg.fit(X_train_cv_resampled, y_train_cv_resampled)\n",
    "    y_val_hat_log_reg = logreg.predict_proba(X_val_cv)[:, 1]\n",
    "    score_log_reg = f1_score(y_val_cv, (y_val_hat_log_reg > 0.5).astype(int), average='binary').round(2)\n",
    "    f1_score_log_reg.append(score_log_reg)\n",
    "\n",
    "    # Train - predict MLP - balanced dataset\n",
    "    mlp.fit(X_train_cv_resampled, y_train_cv_resampled)\n",
    "    y_val_hat_mlp = mlp.predict_proba(X_val_cv)[:, 1]\n",
    "    score_mlp = f1_score(y_val_cv, (y_val_hat_mlp > 0.5).astype(int), average='binary').round(2)\n",
    "    f1_score_mlp.append(score_mlp)\n"
   ]
  },
  {
   "cell_type": "code",
   "execution_count": 18,
   "id": "0bcebfe9-05c8-4915-8bcb-ba6d0f43cdf2",
   "metadata": {
    "tags": []
   },
   "outputs": [
    {
     "name": "stdout",
     "output_type": "stream",
     "text": [
      "Logistic Regression: Mean F1-score = 0.422 ± 0.078\n",
      "MLP: Mean F1-score = 0.213 ± 0.031\n",
      "p-verdi =  0.0\n"
     ]
    }
   ],
   "source": [
    "#TODO: repeterte kryssvalideringer for de samme to modellene som i oppgave 2.2, men denne gangen med SMOTE-oppsampling \n",
    "# par 2\n",
    "# Mean and standard deviation F1-scores\n",
    "log_reg_mean = np.asarray(f1_score_log_reg).mean().round(3)\n",
    "log_reg_std = np.asarray(f1_score_log_reg).std().round(3)\n",
    "mlp_mean = np.asarray(f1_score_mlp).mean().round(3)\n",
    "mlp_std = np.asarray(f1_score_mlp).std().round(3)\n",
    "\n",
    "print(\"Logistic Regression: Mean F1-score = {} ± {}\".format(log_reg_mean, log_reg_std))\n",
    "print(\"MLP: Mean F1-score = {} ± {}\".format(mlp_mean, mlp_std))\n",
    "print(\"p-verdi = \",ttest_ind(np.asarray(f1_score_log_reg), np.asarray(f1_score_mlp), axis=0,equal_var=True, alternative=\"two-sided\")[1].round(7))"
   ]
  },
  {
   "cell_type": "code",
   "execution_count": 19,
   "id": "646df2fa-8946-474e-b3a9-be49ac0a3212",
   "metadata": {
    "tags": []
   },
   "outputs": [
    {
     "data": {
      "image/png": "[encoded data removed]",
      "text/plain": [
       "<Figure size 640x480 with 1 Axes>"
      ]
     },
     "metadata": {},
     "output_type": "display_data"
    }
   ],
   "source": [
    "#TODO: repeterte kryssvalideringer for de samme to modellene som i oppgave 2.2, men denne gangen med SMOTE-oppsampling \n",
    "# par 3\n",
    "# Visualize F1-scores - box plot\n",
    "plt.boxplot([np.asarray(f1_score_log_reg), np.asarray(f1_score_mlp)])\n",
    "#plt.ylim(0.8, 1.05)\n",
    "plt.xticks([1, 2], [\"Log Reg\", \"MLP\"])\n",
    "plt.ylabel(\"F1-score\")\n",
    "plt.xlabel(\"Models\")\n",
    "plt.show()"
   ]
  },
  {
   "cell_type": "markdown",
   "id": "08c962b2",
   "metadata": {},
   "source": [
    "**Svar:**\n",
    "\n",
    "*< Balancing the dataset with SMOTE improved F1-scores for Logistic Regression and MLP, indicating that the imbalance was impacting the models. Logistic Regression outperformed MLP even on the balanced dataset, showing it's more suitable for the classification task. The low P-value suggests no change in performance difference between the models. >*"
   ]
  },
  {
   "cell_type": "markdown",
   "id": "1225c5f6",
   "metadata": {},
   "source": [
    "#### Oppgave 2.4)\n",
    "Tren den beste modellen på nytt og utfør prediksjon på testsettet. Mål nå ytelsen på testsettet ved bruk av sensitivitet, spesifisitet og presisjon, itillegg til F1-skår og accuracy"
   ]
  },
  {
   "cell_type": "code",
   "execution_count": 21,
   "id": "7510cbcd",
   "metadata": {},
   "outputs": [
    {
     "name": "stdout",
     "output_type": "stream",
     "text": [
      "Accuracy =  0.83\n",
      "F1-score =  0.42\n",
      "Sensitivity =  0.5\n",
      "Specificity =  0.88\n",
      "Precision =  0.36\n"
     ]
    },
    {
     "name": "stderr",
     "output_type": "stream",
     "text": [
      "E:\\Projects_H2023\\DMBA_2023\\DMBA-ML_oblig2_2023\\DMBA-ML_oblig2_2023\\Lib\\site-packages\\sklearn\\linear_model\\_logistic.py:460: ConvergenceWarning: lbfgs failed to converge (status=1):\n",
      "STOP: TOTAL NO. of ITERATIONS REACHED LIMIT.\n",
      "\n",
      "Increase the number of iterations (max_iter) or scale the data as shown in:\n",
      "    https://scikit-learn.org/stable/modules/preprocessing.html\n",
      "Please also refer to the documentation for alternative solver options:\n",
      "    https://scikit-learn.org/stable/modules/linear_model.html#logistic-regression\n",
      "  n_iter_i = _check_optimize_result(\n"
     ]
    },
    {
     "data": {
      "image/png": "[encoded data removed]",
      "text/plain": [
       "<Figure size 640x480 with 1 Axes>"
      ]
     },
     "metadata": {},
     "output_type": "display_data"
    }
   ],
   "source": [
    "#TODO: Tren den beste modellen fra 2.2 og 2.3 på alle treningsdataene og test på testdataene\n",
    "from sklearn.metrics import accuracy_score, f1_score, recall_score, precision_score, confusion_matrix\n",
    "import seaborn as sns\n",
    "\n",
    "best_model = logreg\n",
    "\n",
    "# Train  model\n",
    "X_train_resampled, y_train_resampled = smote.fit_resample(X_train, y_train)\n",
    "\n",
    "best_model.fit(X_train_resampled, y_train_resampled)\n",
    "\n",
    "# Predict on the test set\n",
    "y_pred_test = best_model.predict(X_test)\n",
    "\n",
    "\n",
    "# Calculate metrics\n",
    "accuracy = accuracy_score(y_test, (y_pred_test > 0.5).astype(int)).round(2)\n",
    "f1 = f1_score(y_test, (y_pred_test > 0.5).astype(int)).round(2)\n",
    "sensitivity = recall_score(y_test, (y_pred_test > 0.5).astype(int), pos_label=1).round(2)\n",
    "specificity = recall_score(y_test, (y_pred_test > 0.5).astype(int), pos_label=0).round(2)\n",
    "precision = precision_score(y_test, (y_pred_test > 0.5).astype(int)).round(2)\n",
    "\n",
    "# Print metrics\n",
    "print(\"Accuracy = \", accuracy)\n",
    "print(\"F1-score = \", f1)\n",
    "print(\"Sensitivity = \", sensitivity)\n",
    "print(\"Specificity = \", specificity)\n",
    "print(\"Precision = \", precision)\n",
    "\n",
    "# Display confusion matrix heatmap\n",
    "sns.heatmap(confusion_matrix(y_test,(y_pred_test>0.5)*1), annot=True, cbar=False, cmap=\"Blues\")\n",
    "plt.ylabel(\"Actual Value\")\n",
    "plt.xlabel(\"Predicted Value\")\n",
    "plt.xticks([0.5, 1.5], [\"No Attrition\", \"Attrition\"])\n",
    "plt.yticks([0.5, 1.5], [\"No Attrition\", \"Attrition\"])\n",
    "plt.show()\n"
   ]
  },
  {
   "cell_type": "markdown",
   "id": "52e749b6",
   "metadata": {},
   "source": [
    "#### Oppgave 2.5)\n",
    "Del opp testsettet basert på kjønn og gjør en analyse av sensitivitet, spesifisitet og presisjon for menn og det samme for kvinner. Skriv ut og diskuter resultatet og forsøk å svar på følgende spørsmål:\n",
    "* Er modellen like god for begge kjønn? \n",
    "* Hvis ikke, hva tror du er årsaken og hvilke tiltak kan vi gjøre for å forbedre modellen? "
   ]
  },
  {
   "cell_type": "code",
   "execution_count": 22,
   "id": "626d5b69",
   "metadata": {},
   "outputs": [
    {
     "name": "stdout",
     "output_type": "stream",
     "text": [
      "Metrics for Males:\n",
      "Accuracy =  0.79\n",
      "F1-score =  0.41\n",
      "Sensitivity =  0.5\n",
      "Specificity =  0.84\n",
      "Precision =  0.35\n",
      "\n",
      "Metrics for Females:\n",
      "Accuracy =  0.89\n",
      "F1-score =  0.44\n",
      "Sensitivity =  0.5\n",
      "Specificity =  0.93\n",
      "Precision =  0.39\n"
     ]
    },
    {
     "data": {
      "image/png": "[encoded data removed]",
      "text/plain": [
       "<Figure size 640x480 with 1 Axes>"
      ]
     },
     "metadata": {},
     "output_type": "display_data"
    },
    {
     "name": "stdout",
     "output_type": "stream",
     "text": [
      "\n",
      "---------------------\n",
      "\n"
     ]
    },
    {
     "data": {
      "image/png": "[encoded data removed]",
      "text/plain": [
       "<Figure size 640x480 with 1 Axes>"
      ]
     },
     "metadata": {},
     "output_type": "display_data"
    }
   ],
   "source": [
    "#TODO: Gjør kjønnsbasert analyse på testdataene\n",
    "\n",
    "from sklearn.metrics import accuracy_score, f1_score, recall_score, precision_score, confusion_matrix\n",
    "import seaborn as sns\n",
    "\n",
    "# Split test part based on gender\n",
    "test_set_male = X_test[X_test[\"Gender\"] == 0]\n",
    "test_set_female = X_test[X_test[\"Gender\"] == 1]\n",
    "\n",
    "# Prediction males and females for best model\n",
    "y_test_hat_male = best_model.predict(test_set_male)\n",
    "y_test_hat_female = best_model.predict(test_set_female)\n",
    "\n",
    "# metrics for males\n",
    "accuracy_male = accuracy_score(y_test[test_set_male.index], (y_test_hat_male > 0.5).astype(int)).round(2)\n",
    "f1_male = f1_score(y_test[test_set_male.index], (y_test_hat_male > 0.5).astype(int)).round(2)\n",
    "sensitivity_male = recall_score(y_test[test_set_male.index], (y_test_hat_male > 0.5).astype(int), pos_label=1).round(2)\n",
    "specificity_male = recall_score(y_test[test_set_male.index], (y_test_hat_male > 0.5).astype(int), pos_label=0).round(2)\n",
    "precision_male = precision_score(y_test[test_set_male.index], (y_test_hat_male > 0.5).astype(int)).round(2)\n",
    "\n",
    "# metrics for females\n",
    "accuracy_female = accuracy_score(y_test[test_set_female.index], (y_test_hat_female > 0.5).astype(int)).round(2)\n",
    "f1_female = f1_score(y_test[test_set_female.index], (y_test_hat_female > 0.5).astype(int)).round(2)\n",
    "sensitivity_female = recall_score(y_test[test_set_female.index], (y_test_hat_female > 0.5).astype(int), pos_label=1).round(2)\n",
    "specificity_female = recall_score(y_test[test_set_female.index], (y_test_hat_female > 0.5).astype(int), pos_label=0).round(2)\n",
    "precision_female = precision_score(y_test[test_set_female.index], (y_test_hat_female > 0.5).astype(int)).round(2)\n",
    "\n",
    "# Print males\n",
    "print(\"Metrics for Males:\")\n",
    "print(\"Accuracy = \", accuracy_male)\n",
    "print(\"F1-score = \", f1_male)\n",
    "print(\"Sensitivity = \", sensitivity_male)\n",
    "print(\"Specificity = \", specificity_male)\n",
    "print(\"Precision = \", precision_male)\n",
    "\n",
    "# Print females\n",
    "print(\"\\nMetrics for Females:\")\n",
    "print(\"Accuracy = \", accuracy_female)\n",
    "print(\"F1-score = \", f1_female)\n",
    "print(\"Sensitivity = \", sensitivity_female)\n",
    "print(\"Specificity = \", specificity_female)\n",
    "print(\"Precision = \", precision_female)\n",
    "\n",
    "# confusion matrix - males and females\n",
    "\n",
    "sns.heatmap(confusion_matrix(y_test[test_set_male.index], (y_test_hat_male > 0.5).astype(int)), annot=True, cbar=False, cmap=\"Blues\")\n",
    "plt.title(\"Confusion Matrix for Males\")\n",
    "plt.ylabel(\"Actual Value\")\n",
    "plt.xlabel(\"Predicted Value\")\n",
    "plt.xticks([0.5, 1.5], [\"No Attrition\", \"Attrition\"])\n",
    "plt.yticks([0.5, 1.5], [\"No Attrition\", \"Attrition\"])\n",
    "plt.show()\n",
    "print(\"\")\n",
    "print(\"---------------------\")\n",
    "print(\"\")\n",
    "\n",
    "sns.heatmap(confusion_matrix(y_test[test_set_female.index], (y_test_hat_female > 0.5).astype(int)), annot=True, cbar=False, cmap=\"Blues\")\n",
    "plt.title(\"Confusion Matrix for Females\")\n",
    "plt.ylabel(\"Actual Value\")\n",
    "plt.xlabel(\"Predicted Value\")\n",
    "plt.xticks([0.5, 1.5], [\"No Attrition\", \"Attrition\"])\n",
    "plt.yticks([0.5, 1.5], [\"No Attrition\", \"Attrition\"])\n",
    "\n",
    "plt.show()\n"
   ]
  },
  {
   "cell_type": "markdown",
   "id": "0442f3c2-32d1-4db4-a657-60bae865cf88",
   "metadata": {
    "tags": []
   },
   "source": [
    "**Svar:**\n",
    "\n",
    "*< \n",
    " - The result of the two models are not equals. The model is more accurate for females and better at distinguishing between positive and negative classes compared to males.\n",
    " - The lower performance for males indicates that the model is not as effective in capturing patterns or features indicative of attrition in males.\n",
    " - As shown in the following code, there is a gender imbalance in the dataset. To balance it, we can either provide more representative samples for both genders or remove some male rows.\n",
    ">*"
   ]
  },
  {
   "cell_type": "code",
   "execution_count": 24,
   "id": "20f37afe-2543-4c82-8a7f-35b62bded97d",
   "metadata": {
    "tags": []
   },
   "outputs": [
    {
     "name": "stdout",
     "output_type": "stream",
     "text": [
      "Number of rows in df_male: 1064\n",
      "Number of rows in df_female: 613\n"
     ]
    }
   ],
   "source": [
    "# Split df based on gender\n",
    "df_male = df[df[\"Gender\"] == 0]\n",
    "df_female = df[df[\"Gender\"] == 1]\n",
    "\n",
    "# number of rows for male and female\n",
    "num_rows_male = df_male.shape[0]\n",
    "num_rows_female = df_female.shape[0]\n",
    "\n",
    "# Print the number of rows in each set\n",
    "print(\"Number of rows in df_male:\", num_rows_male)\n",
    "print(\"Number of rows in df_female:\", num_rows_female)"
   ]
  },
  {
   "cell_type": "markdown",
   "id": "3a868ac7",
   "metadata": {},
   "source": [
    "Kjør denne cellen til slutt og legg ved den genererte requirements.txt fila i pull requestet"
   ]
  },
  {
   "cell_type": "code",
   "execution_count": 25,
   "id": "8e3ef598",
   "metadata": {},
   "outputs": [],
   "source": [
    "!pip freeze > requirements.txt"
   ]
  },
  {
   "cell_type": "code",
   "execution_count": null,
   "id": "f1f12edc-6bd5-4b2a-abd9-0096ca9a7284",
   "metadata": {},
   "outputs": [],
   "source": []
  }
 ],
 "metadata": {
  "kernelspec": {
   "display_name": "DMBA-ML_oblig2_2023",
   "language": "python",
   "name": "dmba-ml_oblig2_2023"
  },
  "language_info": {
   "codemirror_mode": {
    "name": "ipython",
    "version": 3
   },
   "file_extension": ".py",
   "mimetype": "text/x-python",
   "name": "python",
   "nbconvert_exporter": "python",
   "pygments_lexer": "ipython3",
   "version": "3.11.4"
  }
 },
 "nbformat": 4,
 "nbformat_minor": 5
}
