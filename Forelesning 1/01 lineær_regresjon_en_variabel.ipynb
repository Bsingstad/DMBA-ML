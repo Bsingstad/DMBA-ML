{
 "cells": [
  {
   "cell_type": "markdown",
   "id": "7963347c",
   "metadata": {},
   "source": [
    "# Lineær regresjon - én variabel"
   ]
  },
  {
   "cell_type": "markdown",
   "id": "5cd7a1eb",
   "metadata": {},
   "source": [
    "Matematisk, kan vi beskrive datasettet vårt på følgende måte"
   ]
  },
  {
   "cell_type": "markdown",
   "id": "23e94c5c",
   "metadata": {},
   "source": [
    "$$\n",
    "\\begin{align*}\n",
    "y_0&=\\beta_0+\\beta_1x_0+\\epsilon_0\\\\\n",
    "y_1&=\\beta_0+\\beta_1x_1+\\epsilon_1\\\\\n",
    "y_2&=\\beta_0+\\beta_1x_2+\\epsilon_2\\\\\n",
    "\\dots & \\dots \\\\\n",
    "y_{n-1}&=\\beta_0+\\beta_1x_{n-1}+\\epsilon_{n-1}.\\\\\n",
    "\\end{align*}\n",
    "$$"
   ]
  },
  {
   "cell_type": "markdown",
   "id": "be1981fb",
   "metadata": {},
   "source": [
    "Når vi kun har én variabel får vi en matrise på formen"
   ]
  },
  {
   "cell_type": "markdown",
   "id": "281cd9bf",
   "metadata": {},
   "source": [
    "$$\n",
    "\\boldsymbol{X}=\n",
    "\\begin{bmatrix} \n",
    "1& x_{0} \\\\\n",
    "1& x_{1} \\\\\n",
    "1& x_{2} \\\\                      \n",
    "\\dots& \\dots \\\\\n",
    "1& x_{n-1} \\\\\n",
    "\\end{bmatrix}\n",
    "$$"
   ]
  },
  {
   "cell_type": "markdown",
   "id": "c03527d5",
   "metadata": {},
   "source": [
    "Med $n$ antall observasjoner"
   ]
  },
  {
   "cell_type": "markdown",
   "id": "cb0f6bf0",
   "metadata": {},
   "source": [
    "Målet vårt nå er å finne $\\boldsymbol{\\beta}$-ene våre "
   ]
  },
  {
   "cell_type": "markdown",
   "id": "7249f3c2",
   "metadata": {},
   "source": [
    "$$\n",
    "\\boldsymbol{\\beta} = [\\beta_0, \\beta_1]^T\n",
    "$$"
   ]
  },
  {
   "cell_type": "markdown",
   "id": "98e4527a",
   "metadata": {},
   "source": [
    "For å tilpasse oss \"target\" $\\boldsymbol{y}$ "
   ]
  },
  {
   "cell_type": "markdown",
   "id": "6f8299f2",
   "metadata": {},
   "source": [
    "$$\n",
    "\\boldsymbol{y} = [y_0,y_1, y_2,\\dots, y_{n-1}]^T,\n",
    "$$"
   ]
  },
  {
   "cell_type": "markdown",
   "id": "590db64c",
   "metadata": {},
   "source": [
    "Dette skrive på følgende måte"
   ]
  },
  {
   "cell_type": "markdown",
   "id": "f0687879",
   "metadata": {},
   "source": [
    "$$\n",
    "\\boldsymbol{y} = \\boldsymbol{X}\\boldsymbol{\\beta}+\\boldsymbol{\\epsilon}.\n",
    "$$"
   ]
  },
  {
   "cell_type": "markdown",
   "id": "71426b27",
   "metadata": {},
   "source": [
    "Vår målfunksjon i denne sammenhengen vil være OLS(Ordinary Least Squares) og den kan beskrives på følgende måte"
   ]
  },
  {
   "cell_type": "markdown",
   "id": "ce5558ac",
   "metadata": {},
   "source": [
    "$$\n",
    "\\boldsymbol{\\beta} =\\left(\\boldsymbol{X}^T\\boldsymbol{X}\\right)^{-1}\\boldsymbol{X}^T\\boldsymbol{y}.\n",
    "$$"
   ]
  },
  {
   "cell_type": "code",
   "execution_count": 1,
   "id": "f66f7454",
   "metadata": {},
   "outputs": [],
   "source": [
    "%matplotlib inline \n",
    "\n",
    "# Importerer forskjellige pakker\n",
    "import numpy as np\n",
    "import matplotlib.pyplot as plt\n",
    "from sklearn.linear_model import LinearRegression"
   ]
  },
  {
   "cell_type": "code",
   "execution_count": 9,
   "id": "19fd1690",
   "metadata": {},
   "outputs": [],
   "source": [
    "class my_ols(): #implementation of Ordinary Least Squares (OLS) linear regression\n",
    "    def __init__(self):\n",
    "        self.beta = None\n",
    "    \n",
    "    def fit(self,x,y,size):\n",
    "        X = np.c_[np.ones(size),x] #construct a design matrix X, consists of a column of ones (for the intercept) and the original feature x.\n",
    "        self.beta=np.linalg.inv(X.T.dot(X)).dot(X.T).dot(y) #calculate the model coefficients (self.beta) using the OLS formula above\n",
    "        print(\"Model successfully trained\")\n",
    "    \n",
    "    def predict(self,x): #make predictions with the trained model. It takes a new value x as input and returns the predicted value y_hat\n",
    "        y_hat = self.beta[0]+self.beta[1] * x #beta[0] is the intercept, and beta[1] is the coefficient for the input feature\n",
    "        return y_hat    "
   ]
  },
  {
   "cell_type": "code",
   "execution_count": 10,
   "id": "1cc8fc33",
   "metadata": {},
   "outputs": [],
   "source": [
    "def OLS(x,y,size):\n",
    "    x_test=np.c_[np.ones(size),x]\n",
    "    beta=np.linalg.inv(x_test.T.dot(x_test)).dot(x_test.T).dot(y)\n",
    "    xnew = np.linspace(0,1,size)\n",
    "    y_test=beta[0]+beta[1]*xnew\n",
    "    return xnew, y_test"
   ]
  },
  {
   "cell_type": "code",
   "execution_count": 11,
   "id": "6150177f",
   "metadata": {},
   "outputs": [],
   "source": [
    "# Lager noen syntetiske data: common setup in machine learning to demonstrate linear regression, where you try to learn the relationship between x and y by fitting a linear model.\n",
    "x = np.random.rand(250,1)      # 250 random numbers between 0 and 1\n",
    "y = 4*x+np.random.randn(250,1) # This part generates an array of 250 random numbers sampled from a standard normal distribution (mean 0, standard deviation 1). This represents random noise in the data.\n",
    "\n",
    "# : It is assumed that the residuals (also called errors) \n"
   ]
  },
  {
   "cell_type": "code",
   "execution_count": 12,
   "id": "3012e510",
   "metadata": {},
   "outputs": [
    {
     "data": {
      "image/png": "[encoded data removed]",
      "text/plain": [
       "<Figure size 640x480 with 1 Axes>"
      ]
     },
     "metadata": {},
     "output_type": "display_data"
    }
   ],
   "source": [
    "plt.hist(y) # Normaldistribuert \n",
    "plt.ylabel(r'Antall')\n",
    "plt.xlabel(r'y')\n",
    "plt.show()"
   ]
  },
  {
   "cell_type": "code",
   "execution_count": 13,
   "id": "1e2729dc",
   "metadata": {},
   "outputs": [],
   "source": [
    "model = my_ols() #lager en instance av class my_ols"
   ]
  },
  {
   "cell_type": "code",
   "execution_count": 14,
   "id": "f068a3bc",
   "metadata": {},
   "outputs": [
    {
     "name": "stdout",
     "output_type": "stream",
     "text": [
      "Model successfully trained\n"
     ]
    }
   ],
   "source": [
    "model.fit(x,y,len(x)) #trener modell"
   ]
  },
  {
   "cell_type": "markdown",
   "id": "3f60786b",
   "metadata": {},
   "source": [
    "Generer data for å tegne linjen som tilsvarer modellen vår"
   ]
  },
  {
   "cell_type": "code",
   "execution_count": 15,
   "id": "0b680141",
   "metadata": {},
   "outputs": [],
   "source": [
    "x_new = np.linspace(0,1,10) #lager 10 likt fordelte nummer mellom 0 og 1"
   ]
  },
  {
   "cell_type": "code",
   "execution_count": 16,
   "id": "1da92e24",
   "metadata": {},
   "outputs": [],
   "source": [
    "y_hat_new_ols = model.predict(x_new) # lager nye predictions for y - y^"
   ]
  },
  {
   "cell_type": "code",
   "execution_count": 18,
   "id": "2d5dacac",
   "metadata": {},
   "outputs": [
    {
     "data": {
      "image/png": "[encoded data removed]",
      "text/plain": [
       "<Figure size 640x480 with 1 Axes>"
      ]
     },
     "metadata": {},
     "output_type": "display_data"
    }
   ],
   "source": [
    "#x_ols, y_ols = OLS(x,y, len(x))\n",
    "\n",
    "plt.plot(x_new, y_hat_new_ols, \"C0-\") #\"C0-\" is a format string that specifies how the line should be styled. C0 indicates the color (C0 is often associated with blue), and \"-\" indicates that the line should be solid.\n",
    "plt.plot(x, y ,'C1o') #'C1o' is a format string that specifies how the points should be styled. C1 indicates the color (C1 is often associated with red), and \"o\" indicates that the points should be represented as circles.\n",
    "plt.axis([0,1.0,0, 5.0]) #The x-axis limits are set from 0 to 1.0, and the y-axis limits are set from 0 to 5.0.\n",
    "plt.xlabel(r'$x$') #This line sets the label for the x-axis, and it uses LaTeX-style formatting to display the x variable as \"$x$\" on the plot.\n",
    "plt.ylabel(r'$y$')\n",
    "plt.ylim(-2,5) # endrer til -2 for y\n",
    "plt.title(r'Enkel Linær Regresjon')\n",
    "plt.show()"
   ]
  },
  {
   "cell_type": "code",
   "execution_count": null,
   "id": "59ce0131",
   "metadata": {},
   "outputs": [],
   "source": []
  },
  {
   "cell_type": "code",
   "execution_count": 19,
   "id": "d28a4c64",
   "metadata": {},
   "outputs": [
    {
     "name": "stdout",
     "output_type": "stream",
     "text": [
      "Model successfully trained\n",
      "Predicted value: 5.800000000000008\n"
     ]
    }
   ],
   "source": [
    "# Diana - lagt inn eks:  Create an instance of the my_ols class\n",
    "model = my_ols()\n",
    "\n",
    "# Sample training data\n",
    "x_train = np.array([1, 2, 3, 4, 5])\n",
    "y_train = np.array([2, 4, 5, 4, 5])\n",
    "\n",
    "# Train the model\n",
    "model.fit(x_train, y_train, len(x_train))\n",
    "\n",
    "# Make predictions\n",
    "x_new = 6\n",
    "y_pred = model.predict(x_new)\n",
    "print(\"Predicted value:\", y_pred)"
   ]
  },
  {
   "cell_type": "markdown",
   "id": "2766104d",
   "metadata": {},
   "source": [
    "Det samme ved bruk av SciKit-Learn"
   ]
  },
  {
   "cell_type": "code",
   "execution_count": 24,
   "id": "cba32d58",
   "metadata": {},
   "outputs": [
    {
     "ename": "AttributeError",
     "evalue": "'int' object has no attribute 'reshape'",
     "output_type": "error",
     "traceback": [
      "\u001b[1;31m---------------------------------------------------------------------------\u001b[0m",
      "\u001b[1;31mAttributeError\u001b[0m                            Traceback (most recent call last)",
      "Cell \u001b[1;32mIn[24], line 5\u001b[0m\n\u001b[0;32m      2\u001b[0m linreg\u001b[38;5;241m.\u001b[39mfit(x,y)\n\u001b[0;32m      3\u001b[0m \u001b[38;5;66;03m#y_hat_new_sk = linreg.predict(x_new)\u001b[39;00m\n\u001b[0;32m      4\u001b[0m \u001b[38;5;66;03m#y_hat_new_sk = linreg.predict(np.expand_dims(x_new,1))\u001b[39;00m\n\u001b[1;32m----> 5\u001b[0m y_hat_new_sk \u001b[38;5;241m=\u001b[39m linreg\u001b[38;5;241m.\u001b[39mpredict(\u001b[43mx_new\u001b[49m\u001b[38;5;241;43m.\u001b[39;49m\u001b[43mreshape\u001b[49m(\u001b[38;5;241m-\u001b[39m\u001b[38;5;241m1\u001b[39m, \u001b[38;5;241m1\u001b[39m))\n\u001b[0;32m      7\u001b[0m plt\u001b[38;5;241m.\u001b[39mplot(x_new, y_hat_new_sk, \u001b[38;5;124m\"\u001b[39m\u001b[38;5;124mC0-\u001b[39m\u001b[38;5;124m\"\u001b[39m)\n\u001b[0;32m      8\u001b[0m plt\u001b[38;5;241m.\u001b[39mplot(x, y ,\u001b[38;5;124m'\u001b[39m\u001b[38;5;124mC1o\u001b[39m\u001b[38;5;124m'\u001b[39m)\n",
      "\u001b[1;31mAttributeError\u001b[0m: 'int' object has no attribute 'reshape'"
     ]
    }
   ],
   "source": [
    "linreg = LinearRegression()\n",
    "linreg.fit(x,y)\n",
    "#y_hat_new_sk = linreg.predict(x_new)\n",
    "#y_hat_new_sk = linreg.predict(np.expand_dims(x_new,1))\n",
    "y_hat_new_sk = linreg.predict(x_new.reshape(-1, 1))\n",
    "\n",
    "plt.plot(x_new, y_hat_new_sk, \"C0-\")\n",
    "plt.plot(x, y ,'C1o')\n",
    "plt.axis([0,1.0,0, 5.0])\n",
    "plt.xlabel(r'$x$')\n",
    "plt.ylabel(r'$y$')\n",
    "plt.ylim(-2,5)\n",
    "plt.title(r'Enkel Linær Regresjon')\n",
    "plt.show()"
   ]
  },
  {
   "cell_type": "code",
   "execution_count": 26,
   "id": "26f25fa1",
   "metadata": {},
   "outputs": [
    {
     "name": "stdout",
     "output_type": "stream",
     "text": [
      "beta_0 =  -0.07536577278293599\n",
      "beta_1 =  4.128671336574104\n"
     ]
    }
   ],
   "source": [
    "print(\"beta_0 = \", linreg.intercept_[0])\n",
    "print(\"beta_1 = \", linreg.coef_[0][0])"
   ]
  },
  {
   "cell_type": "markdown",
   "id": "4c206d97",
   "metadata": {},
   "source": [
    "$\\boldsymbol{\\beta}$-ene er nå vår modell og vi kan bruke de til å gjøre prediksjoner på nye data. \n",
    "\n",
    "La oss f.eks prøve med x = 0.9"
   ]
  },
  {
   "cell_type": "code",
   "execution_count": 27,
   "id": "0b0ade11",
   "metadata": {},
   "outputs": [],
   "source": [
    "x_new_2 = 0.9"
   ]
  },
  {
   "cell_type": "code",
   "execution_count": 28,
   "id": "204bf396",
   "metadata": {},
   "outputs": [
    {
     "data": {
      "text/plain": [
       "3.640438430133758"
      ]
     },
     "execution_count": 28,
     "metadata": {},
     "output_type": "execute_result"
    }
   ],
   "source": [
    "y_hat_new_2 = linreg.intercept_[0] + linreg.coef_[0][0]*x_new_2\n",
    "y_hat_new_2"
   ]
  },
  {
   "cell_type": "code",
   "execution_count": 20,
   "id": "1280a796",
   "metadata": {},
   "outputs": [
    {
     "data": {
      "image/png": "[encoded data removed]",
      "text/plain": [
       "<Figure size 640x480 with 1 Axes>"
      ]
     },
     "metadata": {},
     "output_type": "display_data"
    }
   ],
   "source": [
    "plt.plot(x_new, y_hat_new_sk, \"C0-\")\n",
    "plt.scatter(x_new_2,y_hat_new_2, color= \"C1\")\n",
    "plt.axis([0,1.0,0, 5.0])\n",
    "plt.xlabel(r'$x$')\n",
    "plt.ylabel(r'$y$')\n",
    "plt.show()"
   ]
  },
  {
   "cell_type": "markdown",
   "id": "b9ce0d6f",
   "metadata": {},
   "source": [
    "Vi kan også bruke modellen vår (enten den vi har bygget fra bunnen eller SciKit-Learn modellen"
   ]
  },
  {
   "cell_type": "code",
   "execution_count": 21,
   "id": "8657e04e",
   "metadata": {},
   "outputs": [
    {
     "data": {
      "image/png": "[encoded data removed]",
      "text/plain": [
       "<Figure size 640x480 with 1 Axes>"
      ]
     },
     "metadata": {},
     "output_type": "display_data"
    }
   ],
   "source": [
    "plt.plot(x_new, y_hat_new_sk, \"C0-\")\n",
    "plt.scatter(x_new_2,linreg.predict(np.array([[x_new_2]])), color= \"C1\")\n",
    "plt.axis([0,1.0,0, 5.0])\n",
    "plt.xlabel(r'$x$')\n",
    "plt.ylabel(r'$y$')\n",
    "plt.show()"
   ]
  },
  {
   "cell_type": "code",
   "execution_count": null,
   "id": "fe2eb2c6",
   "metadata": {},
   "outputs": [],
   "source": []
  }
 ],
 "metadata": {
  "kernelspec": {
   "display_name": "Python 3 (ipykernel)",
   "language": "python",
   "name": "python3"
  },
  "language_info": {
   "codemirror_mode": {
    "name": "ipython",
    "version": 3
   },
   "file_extension": ".py",
   "mimetype": "text/x-python",
   "name": "python",
   "nbconvert_exporter": "python",
   "pygments_lexer": "ipython3",
   "version": "3.10.12"
  }
 },
 "nbformat": 4,
 "nbformat_minor": 5
}
